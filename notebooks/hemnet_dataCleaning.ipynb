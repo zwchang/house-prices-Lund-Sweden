{
 "cells": [
  {
   "cell_type": "markdown",
   "metadata": {},
   "source": [
    "# Data Cleaning"
   ]
  },
  {
   "cell_type": "code",
   "execution_count": 1,
   "metadata": {},
   "outputs": [],
   "source": [
    "import pandas as pd"
   ]
  },
  {
   "cell_type": "markdown",
   "metadata": {},
   "source": [
    "## Clean second layer info except broker/agencies"
   ]
  },
  {
   "cell_type": "code",
   "execution_count": 2,
   "metadata": {},
   "outputs": [
    {
     "data": {
      "text/html": [
       "<div>\n",
       "<style scoped>\n",
       "    .dataframe tbody tr th:only-of-type {\n",
       "        vertical-align: middle;\n",
       "    }\n",
       "\n",
       "    .dataframe tbody tr th {\n",
       "        vertical-align: top;\n",
       "    }\n",
       "\n",
       "    .dataframe thead th {\n",
       "        text-align: right;\n",
       "    }\n",
       "</style>\n",
       "<table border=\"1\" class=\"dataframe\">\n",
       "  <thead>\n",
       "    <tr style=\"text-align: right;\">\n",
       "      <th></th>\n",
       "      <th>0</th>\n",
       "      <th>1</th>\n",
       "      <th>2</th>\n",
       "      <th>3</th>\n",
       "      <th>4</th>\n",
       "      <th>5</th>\n",
       "      <th>6</th>\n",
       "      <th>7</th>\n",
       "      <th>8</th>\n",
       "      <th>9</th>\n",
       "      <th>...</th>\n",
       "      <th>1962</th>\n",
       "      <th>1963</th>\n",
       "      <th>1964</th>\n",
       "      <th>1965</th>\n",
       "      <th>1966</th>\n",
       "      <th>1967</th>\n",
       "      <th>1968</th>\n",
       "      <th>1969</th>\n",
       "      <th>1970</th>\n",
       "      <th>1971</th>\n",
       "    </tr>\n",
       "  </thead>\n",
       "  <tbody>\n",
       "    <tr>\n",
       "      <th>0</th>\n",
       "      <td>32609kr/m²</td>\n",
       "      <td>15900kr/m²</td>\n",
       "      <td>34043kr/m²</td>\n",
       "      <td>26129kr/m²</td>\n",
       "      <td>34468kr/m²</td>\n",
       "      <td>19318kr/m²</td>\n",
       "      <td>19000kr/m²</td>\n",
       "      <td>31847kr/m²</td>\n",
       "      <td>16667kr/m²</td>\n",
       "      <td>28514kr/m²</td>\n",
       "      <td>...</td>\n",
       "      <td>63194kr/m²</td>\n",
       "      <td>44498kr/m²</td>\n",
       "      <td>44498kr/m²</td>\n",
       "      <td>64901kr/m²</td>\n",
       "      <td>40204kr/m²</td>\n",
       "      <td>63368kr/m²</td>\n",
       "      <td>63905kr/m²</td>\n",
       "      <td>69410kr/m²</td>\n",
       "      <td>69410kr/m²</td>\n",
       "      <td>85124kr/m²</td>\n",
       "    </tr>\n",
       "    <tr>\n",
       "      <th>1</th>\n",
       "      <td>695000kr</td>\n",
       "      <td>795000kr</td>\n",
       "      <td>725000kr</td>\n",
       "      <td>795000kr</td>\n",
       "      <td>750000kr</td>\n",
       "      <td>850000kr</td>\n",
       "      <td>975000kr</td>\n",
       "      <td>950000kr</td>\n",
       "      <td>1050000kr</td>\n",
       "      <td>895000kr</td>\n",
       "      <td>...</td>\n",
       "      <td>7995000kr</td>\n",
       "      <td>9300000kr</td>\n",
       "      <td>9300000kr</td>\n",
       "      <td>6995000kr</td>\n",
       "      <td>8500000kr</td>\n",
       "      <td>9500000kr</td>\n",
       "      <td>9500000kr</td>\n",
       "      <td>10000000kr</td>\n",
       "      <td>10000000kr</td>\n",
       "      <td>11600000kr</td>\n",
       "    </tr>\n",
       "    <tr>\n",
       "      <th>2</th>\n",
       "      <td>+55000 kr (+8%)</td>\n",
       "      <td>NaN</td>\n",
       "      <td>+75000 kr (+10%)</td>\n",
       "      <td>+15000 kr (+2%)</td>\n",
       "      <td>+60000 kr (+8%)</td>\n",
       "      <td>NaN</td>\n",
       "      <td>-25000 kr (-3%)</td>\n",
       "      <td>+50000 kr (+5%)</td>\n",
       "      <td>NaN</td>\n",
       "      <td>+160000 kr (+18%)</td>\n",
       "      <td>...</td>\n",
       "      <td>+1,11milj. kr (+14%)</td>\n",
       "      <td>NaN</td>\n",
       "      <td>NaN</td>\n",
       "      <td>+2,81milj. kr (+40%)</td>\n",
       "      <td>+1,35milj. kr (+16%)</td>\n",
       "      <td>+1milj. kr (+11%)</td>\n",
       "      <td>+1,3milj. kr (+14%)</td>\n",
       "      <td>+1,05milj. kr (+11%)</td>\n",
       "      <td>+1,05milj. kr (+11%)</td>\n",
       "      <td>+62000 kr (+1%)</td>\n",
       "    </tr>\n",
       "    <tr>\n",
       "      <th>3</th>\n",
       "      <td>Lägenhet</td>\n",
       "      <td>Lägenhet</td>\n",
       "      <td>Lägenhet</td>\n",
       "      <td>Lägenhet</td>\n",
       "      <td>Lägenhet</td>\n",
       "      <td>Lägenhet</td>\n",
       "      <td>Lägenhet</td>\n",
       "      <td>Lägenhet</td>\n",
       "      <td>Lägenhet</td>\n",
       "      <td>Lägenhet</td>\n",
       "      <td>...</td>\n",
       "      <td>Lägenhet</td>\n",
       "      <td>Lägenhet</td>\n",
       "      <td>Lägenhet</td>\n",
       "      <td>Lägenhet</td>\n",
       "      <td>Lägenhet</td>\n",
       "      <td>Lägenhet</td>\n",
       "      <td>Lägenhet</td>\n",
       "      <td>Lägenhet</td>\n",
       "      <td>Lägenhet</td>\n",
       "      <td>Lägenhet</td>\n",
       "    </tr>\n",
       "    <tr>\n",
       "      <th>4</th>\n",
       "      <td>Bostadsrätt</td>\n",
       "      <td>Bostadsrätt</td>\n",
       "      <td>Bostadsrätt</td>\n",
       "      <td>Bostadsrätt</td>\n",
       "      <td>Bostadsrätt</td>\n",
       "      <td>Bostadsrätt</td>\n",
       "      <td>Bostadsrätt</td>\n",
       "      <td>Bostadsrätt</td>\n",
       "      <td>Bostadsrätt</td>\n",
       "      <td>Bostadsrätt</td>\n",
       "      <td>...</td>\n",
       "      <td>Bostadsrätt</td>\n",
       "      <td>Bostadsrätt</td>\n",
       "      <td>Bostadsrätt</td>\n",
       "      <td>Andel i bostadsförening</td>\n",
       "      <td>Bostadsrätt</td>\n",
       "      <td>Bostadsrätt</td>\n",
       "      <td>Bostadsrätt</td>\n",
       "      <td>Bostadsrätt</td>\n",
       "      <td>Bostadsrätt</td>\n",
       "      <td>Bostadsrätt</td>\n",
       "    </tr>\n",
       "    <tr>\n",
       "      <th>5</th>\n",
       "      <td>1 rum</td>\n",
       "      <td>2 rum</td>\n",
       "      <td>1 rum</td>\n",
       "      <td>1 rum</td>\n",
       "      <td>1 rum</td>\n",
       "      <td>2 rum</td>\n",
       "      <td>1 rum</td>\n",
       "      <td>1,5 rum</td>\n",
       "      <td>2 rum</td>\n",
       "      <td>1 rum</td>\n",
       "      <td>...</td>\n",
       "      <td>5 rum</td>\n",
       "      <td>6 rum</td>\n",
       "      <td>6 rum</td>\n",
       "      <td>5 rum</td>\n",
       "      <td>6 rum</td>\n",
       "      <td>6 rum</td>\n",
       "      <td>5 rum</td>\n",
       "      <td>5 rum</td>\n",
       "      <td>5 rum</td>\n",
       "      <td>4 rum</td>\n",
       "    </tr>\n",
       "    <tr>\n",
       "      <th>6</th>\n",
       "      <td>23 m²</td>\n",
       "      <td>50 m²</td>\n",
       "      <td>23,5 m²</td>\n",
       "      <td>31 m²</td>\n",
       "      <td>23,5 m²</td>\n",
       "      <td>44 m²</td>\n",
       "      <td>50 m²</td>\n",
       "      <td>31,4 m²</td>\n",
       "      <td>63 m²</td>\n",
       "      <td>37 m²</td>\n",
       "      <td>...</td>\n",
       "      <td>144 m²</td>\n",
       "      <td>209 m²</td>\n",
       "      <td>209 m²</td>\n",
       "      <td>151 m²</td>\n",
       "      <td>245 m²</td>\n",
       "      <td>165,7 m²</td>\n",
       "      <td>169 m²</td>\n",
       "      <td>159,2 m²</td>\n",
       "      <td>159,2 m²</td>\n",
       "      <td>137 m²</td>\n",
       "    </tr>\n",
       "    <tr>\n",
       "      <th>7</th>\n",
       "      <td>Nej</td>\n",
       "      <td>2 av 2, hiss finns ej</td>\n",
       "      <td>2 av 2, hiss finns ej</td>\n",
       "      <td>2 av 2</td>\n",
       "      <td>1 av 2, hiss finns ej</td>\n",
       "      <td>2 av 2, hiss finns ej</td>\n",
       "      <td>Ja</td>\n",
       "      <td>Nej</td>\n",
       "      <td>2 av 2</td>\n",
       "      <td>1 av 3, hiss finns ej</td>\n",
       "      <td>...</td>\n",
       "      <td>Nej</td>\n",
       "      <td>Ja</td>\n",
       "      <td>10626kr/mån</td>\n",
       "      <td>Nej</td>\n",
       "      <td>Ja</td>\n",
       "      <td>Ja</td>\n",
       "      <td>Ja</td>\n",
       "      <td>Ja</td>\n",
       "      <td>Ja</td>\n",
       "      <td>6909kr/mån</td>\n",
       "    </tr>\n",
       "    <tr>\n",
       "      <th>8</th>\n",
       "      <td>1 av 3, hiss finns ej</td>\n",
       "      <td>2004</td>\n",
       "      <td>1957</td>\n",
       "      <td>2018</td>\n",
       "      <td>1957</td>\n",
       "      <td>1953</td>\n",
       "      <td>2 av 2, hiss finns ej</td>\n",
       "      <td>1 av 8, hiss finns</td>\n",
       "      <td>2004</td>\n",
       "      <td>1971</td>\n",
       "      <td>...</td>\n",
       "      <td>Ja</td>\n",
       "      <td>10626kr/mån</td>\n",
       "      <td>NaN</td>\n",
       "      <td>1 av 3, hiss finns ej</td>\n",
       "      <td>2 av 5, hiss finns</td>\n",
       "      <td>5 av 5, hiss finns</td>\n",
       "      <td>2 av 4, hiss finns ej</td>\n",
       "      <td>3 av 4, hiss finns ej</td>\n",
       "      <td>3 av 4, hiss finns ej</td>\n",
       "      <td>Brf Kulturkvarteret i Lund</td>\n",
       "    </tr>\n",
       "    <tr>\n",
       "      <th>9</th>\n",
       "      <td>1956</td>\n",
       "      <td>4011kr/mån</td>\n",
       "      <td>1836kr/mån</td>\n",
       "      <td>1770kr/mån</td>\n",
       "      <td>1786kr/mån</td>\n",
       "      <td>2967kr/mån</td>\n",
       "      <td>1971</td>\n",
       "      <td>1964</td>\n",
       "      <td>4987kr/mån</td>\n",
       "      <td>2228kr/mån</td>\n",
       "      <td>...</td>\n",
       "      <td>1 av 2, hiss finns ej</td>\n",
       "      <td>NaN</td>\n",
       "      <td>NaN</td>\n",
       "      <td>1903</td>\n",
       "      <td>1890</td>\n",
       "      <td>8008kr/mån</td>\n",
       "      <td>1904</td>\n",
       "      <td>1903</td>\n",
       "      <td>1903</td>\n",
       "      <td>NaN</td>\n",
       "    </tr>\n",
       "  </tbody>\n",
       "</table>\n",
       "<p>10 rows × 1972 columns</p>\n",
       "</div>"
      ],
      "text/plain": [
       "                       0                      1                      2  \\\n",
       "0             32609kr/m²             15900kr/m²             34043kr/m²   \n",
       "1               695000kr               795000kr               725000kr   \n",
       "2        +55000 kr (+8%)                    NaN       +75000 kr (+10%)   \n",
       "3               Lägenhet               Lägenhet               Lägenhet   \n",
       "4            Bostadsrätt            Bostadsrätt            Bostadsrätt   \n",
       "5                  1 rum                  2 rum                  1 rum   \n",
       "6                  23 m²                  50 m²                23,5 m²   \n",
       "7                    Nej  2 av 2, hiss finns ej  2 av 2, hiss finns ej   \n",
       "8  1 av 3, hiss finns ej                   2004                   1957   \n",
       "9                   1956             4011kr/mån             1836kr/mån   \n",
       "\n",
       "                 3                      4                      5  \\\n",
       "0       26129kr/m²             34468kr/m²             19318kr/m²   \n",
       "1         795000kr               750000kr               850000kr   \n",
       "2  +15000 kr (+2%)        +60000 kr (+8%)                    NaN   \n",
       "3         Lägenhet               Lägenhet               Lägenhet   \n",
       "4      Bostadsrätt            Bostadsrätt            Bostadsrätt   \n",
       "5            1 rum                  1 rum                  2 rum   \n",
       "6            31 m²                23,5 m²                  44 m²   \n",
       "7           2 av 2  1 av 2, hiss finns ej  2 av 2, hiss finns ej   \n",
       "8             2018                   1957                   1953   \n",
       "9       1770kr/mån             1786kr/mån             2967kr/mån   \n",
       "\n",
       "                       6                   7            8  \\\n",
       "0             19000kr/m²          31847kr/m²   16667kr/m²   \n",
       "1               975000kr            950000kr    1050000kr   \n",
       "2        -25000 kr (-3%)     +50000 kr (+5%)          NaN   \n",
       "3               Lägenhet            Lägenhet     Lägenhet   \n",
       "4            Bostadsrätt         Bostadsrätt  Bostadsrätt   \n",
       "5                  1 rum             1,5 rum        2 rum   \n",
       "6                  50 m²             31,4 m²        63 m²   \n",
       "7                     Ja                 Nej       2 av 2   \n",
       "8  2 av 2, hiss finns ej  1 av 8, hiss finns         2004   \n",
       "9                   1971                1964   4987kr/mån   \n",
       "\n",
       "                       9  ...                   1962         1963  \\\n",
       "0             28514kr/m²  ...             63194kr/m²   44498kr/m²   \n",
       "1               895000kr  ...              7995000kr    9300000kr   \n",
       "2      +160000 kr (+18%)  ...   +1,11milj. kr (+14%)          NaN   \n",
       "3               Lägenhet  ...               Lägenhet     Lägenhet   \n",
       "4            Bostadsrätt  ...            Bostadsrätt  Bostadsrätt   \n",
       "5                  1 rum  ...                  5 rum        6 rum   \n",
       "6                  37 m²  ...                 144 m²       209 m²   \n",
       "7  1 av 3, hiss finns ej  ...                    Nej           Ja   \n",
       "8                   1971  ...                     Ja  10626kr/mån   \n",
       "9             2228kr/mån  ...  1 av 2, hiss finns ej          NaN   \n",
       "\n",
       "          1964                     1965                  1966  \\\n",
       "0   44498kr/m²               64901kr/m²            40204kr/m²   \n",
       "1    9300000kr                6995000kr             8500000kr   \n",
       "2          NaN     +2,81milj. kr (+40%)  +1,35milj. kr (+16%)   \n",
       "3     Lägenhet                 Lägenhet              Lägenhet   \n",
       "4  Bostadsrätt  Andel i bostadsförening           Bostadsrätt   \n",
       "5        6 rum                    5 rum                 6 rum   \n",
       "6       209 m²                   151 m²                245 m²   \n",
       "7  10626kr/mån                      Nej                    Ja   \n",
       "8          NaN    1 av 3, hiss finns ej    2 av 5, hiss finns   \n",
       "9          NaN                     1903                  1890   \n",
       "\n",
       "                 1967                   1968                   1969  \\\n",
       "0          63368kr/m²             63905kr/m²             69410kr/m²   \n",
       "1           9500000kr              9500000kr             10000000kr   \n",
       "2   +1milj. kr (+11%)    +1,3milj. kr (+14%)   +1,05milj. kr (+11%)   \n",
       "3            Lägenhet               Lägenhet               Lägenhet   \n",
       "4         Bostadsrätt            Bostadsrätt            Bostadsrätt   \n",
       "5               6 rum                  5 rum                  5 rum   \n",
       "6            165,7 m²                 169 m²               159,2 m²   \n",
       "7                  Ja                     Ja                     Ja   \n",
       "8  5 av 5, hiss finns  2 av 4, hiss finns ej  3 av 4, hiss finns ej   \n",
       "9          8008kr/mån                   1904                   1903   \n",
       "\n",
       "                    1970                        1971  \n",
       "0             69410kr/m²                  85124kr/m²  \n",
       "1             10000000kr                  11600000kr  \n",
       "2   +1,05milj. kr (+11%)             +62000 kr (+1%)  \n",
       "3               Lägenhet                    Lägenhet  \n",
       "4            Bostadsrätt                 Bostadsrätt  \n",
       "5                  5 rum                       4 rum  \n",
       "6               159,2 m²                      137 m²  \n",
       "7                     Ja                  6909kr/mån  \n",
       "8  3 av 4, hiss finns ej  Brf Kulturkvarteret i Lund  \n",
       "9                   1903                         NaN  \n",
       "\n",
       "[10 rows x 1972 columns]"
      ]
     },
     "execution_count": 2,
     "metadata": {},
     "output_type": "execute_result"
    }
   ],
   "source": [
    "snd_df = pd.read_csv('unprocessed_sndlayer_info.csv')\n",
    "snd_df.head(10)"
   ]
  },
  {
   "cell_type": "markdown",
   "metadata": {},
   "source": [
    "### Asking prices"
   ]
  },
  {
   "cell_type": "code",
   "execution_count": 3,
   "metadata": {},
   "outputs": [
    {
     "data": {
      "text/plain": [
       "0    695000.0\n",
       "1    795000.0\n",
       "2    725000.0\n",
       "3    795000.0\n",
       "4    750000.0\n",
       "Name: 1, dtype: float64"
      ]
     },
     "execution_count": 3,
     "metadata": {},
     "output_type": "execute_result"
    }
   ],
   "source": [
    "asking_price=snd_df.iloc[1].str.replace('kr', '').astype(float)\n",
    "asking_price.head()"
   ]
  },
  {
   "cell_type": "markdown",
   "metadata": {},
   "source": [
    "### Building year"
   ]
  },
  {
   "cell_type": "code",
   "execution_count": 6,
   "metadata": {},
   "outputs": [
    {
     "data": {
      "text/plain": [
       "[1956, 2004, 1957, 2018, 1957, 1953]"
      ]
     },
     "execution_count": 6,
     "metadata": {},
     "output_type": "execute_result"
    }
   ],
   "source": [
    "build_year = [None for _ in range(1972)]\n",
    "\n",
    "for i in range(1972):\n",
    "    snd_df_col = snd_df[str(i)]\n",
    "    for element in snd_df_col:\n",
    "        # here we need to check if the element is string because we set asking_price data type\n",
    "        # to be float which does not have length. \n",
    "        if type(element)==str and len(element) == 4:\n",
    "            build_year[i] = int(element)\n",
    "            \n",
    "build_year[0:6]"
   ]
  },
  {
   "cell_type": "markdown",
   "metadata": {},
   "source": [
    "### Wether there is a balcony/patio"
   ]
  },
  {
   "cell_type": "markdown",
   "metadata": {},
   "source": [
    "#### Let's check how many sold apartments provide the info of balcony/patio"
   ]
  },
  {
   "cell_type": "code",
   "execution_count": 9,
   "metadata": {},
   "outputs": [],
   "source": [
    "is_balcony_count = [None for _ in range(1972)]\n",
    "for i in range(1972):\n",
    "    snd_df_col = snd_df[str(i)]\n",
    "    Nej_count = list(snd_df_col).count('Nej')\n",
    "    Ja_count = list(snd_df_col).count('Ja')\n",
    "    is_balcony_count[i] = Nej_count + Ja_count"
   ]
  },
  {
   "cell_type": "code",
   "execution_count": 10,
   "metadata": {},
   "outputs": [
    {
     "data": {
      "text/plain": [
       "242"
      ]
     },
     "execution_count": 10,
     "metadata": {},
     "output_type": "execute_result"
    }
   ],
   "source": [
    "# 242 apartments do not provide this info\n",
    "is_balcony_count.count(0)"
   ]
  },
  {
   "cell_type": "code",
   "execution_count": 11,
   "metadata": {},
   "outputs": [
    {
     "data": {
      "text/plain": [
       "1520"
      ]
     },
     "execution_count": 11,
     "metadata": {},
     "output_type": "execute_result"
    }
   ],
   "source": [
    "# 1520 apartments only provide whether there is a balcony\n",
    "is_balcony_count.count(1)"
   ]
  },
  {
   "cell_type": "code",
   "execution_count": 12,
   "metadata": {},
   "outputs": [
    {
     "data": {
      "text/plain": [
       "210"
      ]
     },
     "execution_count": 12,
     "metadata": {},
     "output_type": "execute_result"
    }
   ],
   "source": [
    "# 210 apartments provide both balcony and patio info\n",
    "is_balcony_count.count(2)"
   ]
  },
  {
   "cell_type": "markdown",
   "metadata": {},
   "source": [
    "#### Corresponding indices"
   ]
  },
  {
   "cell_type": "code",
   "execution_count": 13,
   "metadata": {},
   "outputs": [],
   "source": [
    "balcony_index = [i for i, e in enumerate(is_balcony_count) if e == 1]\n",
    "balcony_patio_index = [i for i, e in enumerate(is_balcony_count) if e == 2]"
   ]
  },
  {
   "cell_type": "markdown",
   "metadata": {},
   "source": [
    "#### Now we can get the info from the items with given indices"
   ]
  },
  {
   "cell_type": "code",
   "execution_count": 14,
   "metadata": {},
   "outputs": [],
   "source": [
    "is_balcony = [None for _ in range(1972)]\n",
    "is_patio = [None for _ in range(1972)]"
   ]
  },
  {
   "cell_type": "code",
   "execution_count": 18,
   "metadata": {},
   "outputs": [],
   "source": [
    "# For the links which only provide balcony info, there is either 'Ja' or 'Nej'\n",
    "\n",
    "for ind in balcony_index:\n",
    "    snd_df_col = snd_df[str(ind)]\n",
    "    for element in snd_df_col:\n",
    "        if element == 'Ja' or element == 'Nej':\n",
    "            is_balcony[ind] = element"
   ]
  },
  {
   "cell_type": "code",
   "execution_count": 19,
   "metadata": {},
   "outputs": [],
   "source": [
    "# For the links provide both the balcony and patio info, the 7th element gives balcony and 8th element gives patio\n",
    "\n",
    "for ind in balcony_patio_index:\n",
    "    snd_df_col = snd_df[str(ind)]\n",
    "    is_balcony[ind] = snd_df_col[7]\n",
    "    is_patio[ind] = snd_df_col[8]"
   ]
  },
  {
   "cell_type": "code",
   "execution_count": 20,
   "metadata": {},
   "outputs": [
    {
     "data": {
      "text/plain": [
       "['Nej', None, None, None, None, None, 'Ja', 'Nej', None, None]"
      ]
     },
     "execution_count": 20,
     "metadata": {},
     "output_type": "execute_result"
    }
   ],
   "source": [
    "is_balcony[0:10]"
   ]
  },
  {
   "cell_type": "code",
   "execution_count": 22,
   "metadata": {},
   "outputs": [
    {
     "data": {
      "text/plain": [
       "[None, None, None, None, None, 'Ja', None, None, None, None]"
      ]
     },
     "execution_count": 22,
     "metadata": {},
     "output_type": "execute_result"
    }
   ],
   "source": [
    "is_patio[5:15]"
   ]
  },
  {
   "cell_type": "markdown",
   "metadata": {},
   "source": [
    "### Total number of building floors/Apartment floor number/If elevator is available. "
   ]
  },
  {
   "cell_type": "code",
   "execution_count": 25,
   "metadata": {},
   "outputs": [
    {
     "data": {
      "text/plain": [
       "['1 av 3, hiss finns ej',\n",
       " '2 av 2, hiss finns ej',\n",
       " '2 av 2, hiss finns ej',\n",
       " '2 av 2',\n",
       " '1 av 2, hiss finns ej']"
      ]
     },
     "execution_count": 25,
     "metadata": {},
     "output_type": "execute_result"
    }
   ],
   "source": [
    "floor_elevator = [None for _ in range(1972)]\n",
    "\n",
    "for i in range(1972):\n",
    "    snd_df_col = snd_df[str(i)]\n",
    "    for element in snd_df_col:\n",
    "        if type(element)==str and element.count('av') == 1:\n",
    "            floor_elevator[i] = element\n",
    "            \n",
    "floor_elevator[0:5]"
   ]
  },
  {
   "cell_type": "markdown",
   "metadata": {},
   "source": [
    "#### From the above output, we find that building floors/Apartment floor number is separated by the string 'av', and is_elevator is obtained simply by first replacing 'hiss finns ej' as 'No' and 'hiss finns' as 'Yes'."
   ]
  },
  {
   "cell_type": "code",
   "execution_count": 26,
   "metadata": {},
   "outputs": [],
   "source": [
    "floor_number = [None for _ in range(1972)]\n",
    "total_floor = [None for _ in range(1972)]\n",
    "is_elevator = [None for _ in range(1972)]"
   ]
  },
  {
   "cell_type": "code",
   "execution_count": 27,
   "metadata": {},
   "outputs": [],
   "source": [
    "for i in range(1972):\n",
    "    if floor_elevator[i]:\n",
    "        element = floor_elevator[i].split(', ')\n",
    "        \n",
    "        if len(element) == 2:\n",
    "            is_elevator[i] = element[1]\n",
    "            floor_info = element[0].split('av')\n",
    "            floor_number[i] = floor_info[0].strip()\n",
    "            total_floor[i] = floor_info[1].strip()\n",
    "        elif len(element) == 1:\n",
    "            floor_info = element[0].split('av')\n",
    "            floor_number[i] = floor_info[0].strip()\n",
    "            total_floor[i] = floor_info[1].strip()"
   ]
  },
  {
   "cell_type": "code",
   "execution_count": 28,
   "metadata": {},
   "outputs": [
    {
     "data": {
      "text/plain": [
       "['1', '2', '2', '2', '1', '2']"
      ]
     },
     "execution_count": 28,
     "metadata": {},
     "output_type": "execute_result"
    }
   ],
   "source": [
    "floor_number[0:6]"
   ]
  },
  {
   "cell_type": "code",
   "execution_count": 29,
   "metadata": {},
   "outputs": [
    {
     "data": {
      "text/plain": [
       "['3', '2', '2', '2', '2', '2']"
      ]
     },
     "execution_count": 29,
     "metadata": {},
     "output_type": "execute_result"
    }
   ],
   "source": [
    "total_floor[0:6]"
   ]
  },
  {
   "cell_type": "code",
   "execution_count": 31,
   "metadata": {},
   "outputs": [
    {
     "data": {
      "text/plain": [
       "['No', 'No', 'No', None, 'No', 'No', 'No', 'Yes', None, 'No']"
      ]
     },
     "execution_count": 31,
     "metadata": {},
     "output_type": "execute_result"
    }
   ],
   "source": [
    "is_elevator = list(pd.Series(is_elevator).replace('hiss finns ej','No').replace('hiss finns','Yes'))\n",
    "is_elevator[0:10]"
   ]
  },
  {
   "cell_type": "markdown",
   "metadata": {},
   "source": [
    "### Merge into one CSV file"
   ]
  },
  {
   "cell_type": "code",
   "execution_count": null,
   "metadata": {},
   "outputs": [],
   "source": [
    "d = {'Average': average, 'Asking price': asking_price,'Balcony': is_balcony, 'Patio': is_patio,'Build year': build_year, 'Floor number': floor_number, 'Total floor': total_floor, 'Elevator': is_elevator}\n",
    "snd_layer_df = pd.DataFrame(data=d)\n",
    "snd_layer_df.to_csv('snd_layer_df_info.csv', index=False)"
   ]
  },
  {
   "cell_type": "markdown",
   "metadata": {},
   "source": []
  },
  {
   "cell_type": "markdown",
   "metadata": {},
   "source": [
    "## Clean first layer info"
   ]
  },
  {
   "cell_type": "code",
   "execution_count": 152,
   "metadata": {},
   "outputs": [
    {
     "data": {
      "text/html": [
       "<div>\n",
       "<style scoped>\n",
       "    .dataframe tbody tr th:only-of-type {\n",
       "        vertical-align: middle;\n",
       "    }\n",
       "\n",
       "    .dataframe tbody tr th {\n",
       "        vertical-align: top;\n",
       "    }\n",
       "\n",
       "    .dataframe thead th {\n",
       "        text-align: right;\n",
       "    }\n",
       "</style>\n",
       "<table border=\"1\" class=\"dataframe\">\n",
       "  <thead>\n",
       "    <tr style=\"text-align: right;\">\n",
       "      <th></th>\n",
       "      <th>Addresses</th>\n",
       "      <th>Types</th>\n",
       "      <th>area (m²)</th>\n",
       "      <th># of rooms</th>\n",
       "      <th>Monthly Fees (Kr)</th>\n",
       "      <th>Sold Dates</th>\n",
       "      <th>Links</th>\n",
       "      <th>Prices (tKr)</th>\n",
       "    </tr>\n",
       "  </thead>\n",
       "  <tbody>\n",
       "    <tr>\n",
       "      <th>0</th>\n",
       "      <td>Flormansgatan 2A</td>\n",
       "      <td>Lägenhet</td>\n",
       "      <td>43</td>\n",
       "      <td>1.5</td>\n",
       "      <td>2767.0</td>\n",
       "      <td>30 september 2021</td>\n",
       "      <td>https://www.hemnet.se/salda/lagenhet-1,5rum-ce...</td>\n",
       "      <td>2370</td>\n",
       "    </tr>\n",
       "    <tr>\n",
       "      <th>1</th>\n",
       "      <td>Kastanjegatan 19F</td>\n",
       "      <td>Lägenhet</td>\n",
       "      <td>34</td>\n",
       "      <td>2.0</td>\n",
       "      <td>2415.0</td>\n",
       "      <td>30 september 2021</td>\n",
       "      <td>https://www.hemnet.se/salda/lagenhet-2rum-jarn...</td>\n",
       "      <td>1745</td>\n",
       "    </tr>\n",
       "    <tr>\n",
       "      <th>2</th>\n",
       "      <td>Karl XI gatan 47</td>\n",
       "      <td>Lägenhet</td>\n",
       "      <td>87,4</td>\n",
       "      <td>3.0</td>\n",
       "      <td>5787.0</td>\n",
       "      <td>30 september 2021</td>\n",
       "      <td>https://www.hemnet.se/salda/lagenhet-3rum-lund...</td>\n",
       "      <td>4700</td>\n",
       "    </tr>\n",
       "    <tr>\n",
       "      <th>3</th>\n",
       "      <td>Äspet 163</td>\n",
       "      <td>Villa</td>\n",
       "      <td>158 + 22</td>\n",
       "      <td>8.0</td>\n",
       "      <td>NaN</td>\n",
       "      <td>30 september 2021</td>\n",
       "      <td>https://www.hemnet.se/salda/villa-8rum-lunds-k...</td>\n",
       "      <td>5350</td>\n",
       "    </tr>\n",
       "    <tr>\n",
       "      <th>4</th>\n",
       "      <td>Margaretavägen 3K</td>\n",
       "      <td>Lägenhet</td>\n",
       "      <td>78</td>\n",
       "      <td>3.0</td>\n",
       "      <td>4584.0</td>\n",
       "      <td>30 september 2021</td>\n",
       "      <td>https://www.hemnet.se/salda/lagenhet-3rum-moll...</td>\n",
       "      <td>2750</td>\n",
       "    </tr>\n",
       "  </tbody>\n",
       "</table>\n",
       "</div>"
      ],
      "text/plain": [
       "           Addresses     Types area (m²)  # of rooms  Monthly Fees (Kr)  \\\n",
       "0   Flormansgatan 2A  Lägenhet        43         1.5             2767.0   \n",
       "1  Kastanjegatan 19F  Lägenhet        34         2.0             2415.0   \n",
       "2   Karl XI gatan 47  Lägenhet      87,4         3.0             5787.0   \n",
       "3          Äspet 163     Villa  158 + 22         8.0                NaN   \n",
       "4  Margaretavägen 3K  Lägenhet        78         3.0             4584.0   \n",
       "\n",
       "          Sold Dates                                              Links  \\\n",
       "0  30 september 2021  https://www.hemnet.se/salda/lagenhet-1,5rum-ce...   \n",
       "1  30 september 2021  https://www.hemnet.se/salda/lagenhet-2rum-jarn...   \n",
       "2  30 september 2021  https://www.hemnet.se/salda/lagenhet-3rum-lund...   \n",
       "3  30 september 2021  https://www.hemnet.se/salda/villa-8rum-lunds-k...   \n",
       "4  30 september 2021  https://www.hemnet.se/salda/lagenhet-3rum-moll...   \n",
       "\n",
       "   Prices (tKr)  \n",
       "0          2370  \n",
       "1          1745  \n",
       "2          4700  \n",
       "3          5350  \n",
       "4          2750  "
      ]
     },
     "execution_count": 152,
     "metadata": {},
     "output_type": "execute_result"
    }
   ],
   "source": [
    "df = pd.read_csv('hemnet.csv')\n",
    "df.head()"
   ]
  },
  {
   "cell_type": "markdown",
   "metadata": {},
   "source": [
    "### Separate Apartment (Lägenhet) from other housing types"
   ]
  },
  {
   "cell_type": "code",
   "execution_count": 153,
   "metadata": {},
   "outputs": [
    {
     "data": {
      "text/html": [
       "<div>\n",
       "<style scoped>\n",
       "    .dataframe tbody tr th:only-of-type {\n",
       "        vertical-align: middle;\n",
       "    }\n",
       "\n",
       "    .dataframe tbody tr th {\n",
       "        vertical-align: top;\n",
       "    }\n",
       "\n",
       "    .dataframe thead th {\n",
       "        text-align: right;\n",
       "    }\n",
       "</style>\n",
       "<table border=\"1\" class=\"dataframe\">\n",
       "  <thead>\n",
       "    <tr style=\"text-align: right;\">\n",
       "      <th></th>\n",
       "      <th>Addresses</th>\n",
       "      <th>Types</th>\n",
       "      <th>area (m²)</th>\n",
       "      <th># of rooms</th>\n",
       "      <th>Monthly Fees (Kr)</th>\n",
       "      <th>Sold Dates</th>\n",
       "      <th>Links</th>\n",
       "      <th>Prices (tKr)</th>\n",
       "    </tr>\n",
       "  </thead>\n",
       "  <tbody>\n",
       "    <tr>\n",
       "      <th>0</th>\n",
       "      <td>Flormansgatan 2A</td>\n",
       "      <td>Lägenhet</td>\n",
       "      <td>43</td>\n",
       "      <td>1.5</td>\n",
       "      <td>2767.0</td>\n",
       "      <td>30 september 2021</td>\n",
       "      <td>https://www.hemnet.se/salda/lagenhet-1,5rum-ce...</td>\n",
       "      <td>2370</td>\n",
       "    </tr>\n",
       "    <tr>\n",
       "      <th>1</th>\n",
       "      <td>Kastanjegatan 19F</td>\n",
       "      <td>Lägenhet</td>\n",
       "      <td>34</td>\n",
       "      <td>2.0</td>\n",
       "      <td>2415.0</td>\n",
       "      <td>30 september 2021</td>\n",
       "      <td>https://www.hemnet.se/salda/lagenhet-2rum-jarn...</td>\n",
       "      <td>1745</td>\n",
       "    </tr>\n",
       "    <tr>\n",
       "      <th>2</th>\n",
       "      <td>Karl XI gatan 47</td>\n",
       "      <td>Lägenhet</td>\n",
       "      <td>87,4</td>\n",
       "      <td>3.0</td>\n",
       "      <td>5787.0</td>\n",
       "      <td>30 september 2021</td>\n",
       "      <td>https://www.hemnet.se/salda/lagenhet-3rum-lund...</td>\n",
       "      <td>4700</td>\n",
       "    </tr>\n",
       "    <tr>\n",
       "      <th>4</th>\n",
       "      <td>Margaretavägen 3K</td>\n",
       "      <td>Lägenhet</td>\n",
       "      <td>78</td>\n",
       "      <td>3.0</td>\n",
       "      <td>4584.0</td>\n",
       "      <td>30 september 2021</td>\n",
       "      <td>https://www.hemnet.se/salda/lagenhet-3rum-moll...</td>\n",
       "      <td>2750</td>\n",
       "    </tr>\n",
       "    <tr>\n",
       "      <th>5</th>\n",
       "      <td>Qvantenborgsvägen 4B</td>\n",
       "      <td>Lägenhet</td>\n",
       "      <td>59</td>\n",
       "      <td>2.0</td>\n",
       "      <td>3125.0</td>\n",
       "      <td>29 september 2021</td>\n",
       "      <td>https://www.hemnet.se/salda/lagenhet-2rum-kobj...</td>\n",
       "      <td>2250</td>\n",
       "    </tr>\n",
       "  </tbody>\n",
       "</table>\n",
       "</div>"
      ],
      "text/plain": [
       "              Addresses     Types area (m²)  # of rooms  Monthly Fees (Kr)  \\\n",
       "0      Flormansgatan 2A  Lägenhet        43         1.5             2767.0   \n",
       "1     Kastanjegatan 19F  Lägenhet        34         2.0             2415.0   \n",
       "2      Karl XI gatan 47  Lägenhet      87,4         3.0             5787.0   \n",
       "4     Margaretavägen 3K  Lägenhet        78         3.0             4584.0   \n",
       "5  Qvantenborgsvägen 4B  Lägenhet        59         2.0             3125.0   \n",
       "\n",
       "          Sold Dates                                              Links  \\\n",
       "0  30 september 2021  https://www.hemnet.se/salda/lagenhet-1,5rum-ce...   \n",
       "1  30 september 2021  https://www.hemnet.se/salda/lagenhet-2rum-jarn...   \n",
       "2  30 september 2021  https://www.hemnet.se/salda/lagenhet-3rum-lund...   \n",
       "4  30 september 2021  https://www.hemnet.se/salda/lagenhet-3rum-moll...   \n",
       "5  29 september 2021  https://www.hemnet.se/salda/lagenhet-2rum-kobj...   \n",
       "\n",
       "   Prices (tKr)  \n",
       "0          2370  \n",
       "1          1745  \n",
       "2          4700  \n",
       "4          2750  \n",
       "5          2250  "
      ]
     },
     "execution_count": 153,
     "metadata": {},
     "output_type": "execute_result"
    }
   ],
   "source": [
    "apart_df = df[df['Types'] == 'Lägenhet']\n",
    "apart_df.head()"
   ]
  },
  {
   "cell_type": "code",
   "execution_count": 155,
   "metadata": {},
   "outputs": [
    {
     "data": {
      "text/plain": [
       "(1972, 8)"
      ]
     },
     "execution_count": 155,
     "metadata": {},
     "output_type": "execute_result"
    }
   ],
   "source": [
    "apart_df.shape"
   ]
  },
  {
   "cell_type": "markdown",
   "metadata": {},
   "source": [
    "### Let's first clean the data in the column 'area'"
   ]
  },
  {
   "cell_type": "code",
   "execution_count": 121,
   "metadata": {},
   "outputs": [
    {
     "data": {
      "text/plain": [
       "0      43\n",
       "1      34\n",
       "2    87,4\n",
       "4      78\n",
       "5      59\n",
       "Name: area (m²), dtype: object"
      ]
     },
     "execution_count": 121,
     "metadata": {},
     "output_type": "execute_result"
    }
   ],
   "source": [
    "area = apart_df['area (m²)']\n",
    "area.head()"
   ]
  },
  {
   "cell_type": "code",
   "execution_count": 122,
   "metadata": {},
   "outputs": [
    {
     "data": {
      "text/plain": [
       "69       60 + 20\n",
       "91       44 + 20\n",
       "154    48,4 + 20\n",
       "485    75,5 + 21\n",
       "958      89 + 50\n",
       "Name: area (m²), dtype: object"
      ]
     },
     "execution_count": 122,
     "metadata": {},
     "output_type": "execute_result"
    }
   ],
   "source": [
    "# We first clean the values contain '+' sign by removing the number after it. \n",
    "# By comparing the sold price and price/m², seems these numbers are not counted. \n",
    "\n",
    "irregular_values = apart_df[apart_df['area (m²)'].str.contains('+', regex=False)]['area (m²)']\n",
    "irregular_values.head()"
   ]
  },
  {
   "cell_type": "code",
   "execution_count": 123,
   "metadata": {},
   "outputs": [
    {
     "data": {
      "text/plain": [
       "69       60 \n",
       "91       44 \n",
       "154    48,4 \n",
       "485    75,5 \n",
       "958      89 \n",
       "Name: area (m²), dtype: object"
      ]
     },
     "execution_count": 123,
     "metadata": {},
     "output_type": "execute_result"
    }
   ],
   "source": [
    "regular_values = irregular_values.str.split('+').str[0]\n",
    "regular_values.head()"
   ]
  },
  {
   "cell_type": "code",
   "execution_count": 124,
   "metadata": {},
   "outputs": [],
   "source": [
    "irregular_index = apart_df[apart_df['area (m²)'].str.contains('+', regex=False)].index.values\n",
    "\n",
    "for ind in irregular_index:\n",
    "    area = area.replace(area[ind], regular_values[ind])"
   ]
  },
  {
   "cell_type": "code",
   "execution_count": 125,
   "metadata": {},
   "outputs": [
    {
     "data": {
      "text/plain": [
       "'44 '"
      ]
     },
     "execution_count": 125,
     "metadata": {},
     "output_type": "execute_result"
    }
   ],
   "source": [
    "area[91]"
   ]
  },
  {
   "cell_type": "code",
   "execution_count": 126,
   "metadata": {},
   "outputs": [
    {
     "data": {
      "text/plain": [
       "0      43\n",
       "1      34\n",
       "2    87.4\n",
       "4      78\n",
       "5      59\n",
       "Name: area (m²), dtype: object"
      ]
     },
     "execution_count": 126,
     "metadata": {},
     "output_type": "execute_result"
    }
   ],
   "source": [
    "# We also replace comma with period.\n",
    "\n",
    "area = area.str.replace(',','.')\n",
    "area.head()"
   ]
  },
  {
   "cell_type": "code",
   "execution_count": 160,
   "metadata": {},
   "outputs": [
    {
     "data": {
      "text/html": [
       "<div>\n",
       "<style scoped>\n",
       "    .dataframe tbody tr th:only-of-type {\n",
       "        vertical-align: middle;\n",
       "    }\n",
       "\n",
       "    .dataframe tbody tr th {\n",
       "        vertical-align: top;\n",
       "    }\n",
       "\n",
       "    .dataframe thead th {\n",
       "        text-align: right;\n",
       "    }\n",
       "</style>\n",
       "<table border=\"1\" class=\"dataframe\">\n",
       "  <thead>\n",
       "    <tr style=\"text-align: right;\">\n",
       "      <th></th>\n",
       "      <th>Addresses</th>\n",
       "      <th>Types</th>\n",
       "      <th>area (m²)</th>\n",
       "      <th># of rooms</th>\n",
       "      <th>Monthly Fees (Kr)</th>\n",
       "      <th>Sold Dates</th>\n",
       "      <th>Links</th>\n",
       "      <th>Prices (tKr)</th>\n",
       "    </tr>\n",
       "  </thead>\n",
       "  <tbody>\n",
       "    <tr>\n",
       "      <th>0</th>\n",
       "      <td>Flormansgatan 2A</td>\n",
       "      <td>Lägenhet</td>\n",
       "      <td>43</td>\n",
       "      <td>1.5</td>\n",
       "      <td>2767.0</td>\n",
       "      <td>30 september 2021</td>\n",
       "      <td>https://www.hemnet.se/salda/lagenhet-1,5rum-ce...</td>\n",
       "      <td>2370</td>\n",
       "    </tr>\n",
       "    <tr>\n",
       "      <th>1</th>\n",
       "      <td>Kastanjegatan 19F</td>\n",
       "      <td>Lägenhet</td>\n",
       "      <td>34</td>\n",
       "      <td>2.0</td>\n",
       "      <td>2415.0</td>\n",
       "      <td>30 september 2021</td>\n",
       "      <td>https://www.hemnet.se/salda/lagenhet-2rum-jarn...</td>\n",
       "      <td>1745</td>\n",
       "    </tr>\n",
       "    <tr>\n",
       "      <th>2</th>\n",
       "      <td>Karl XI gatan 47</td>\n",
       "      <td>Lägenhet</td>\n",
       "      <td>87.4</td>\n",
       "      <td>3.0</td>\n",
       "      <td>5787.0</td>\n",
       "      <td>30 september 2021</td>\n",
       "      <td>https://www.hemnet.se/salda/lagenhet-3rum-lund...</td>\n",
       "      <td>4700</td>\n",
       "    </tr>\n",
       "    <tr>\n",
       "      <th>4</th>\n",
       "      <td>Margaretavägen 3K</td>\n",
       "      <td>Lägenhet</td>\n",
       "      <td>78</td>\n",
       "      <td>3.0</td>\n",
       "      <td>4584.0</td>\n",
       "      <td>30 september 2021</td>\n",
       "      <td>https://www.hemnet.se/salda/lagenhet-3rum-moll...</td>\n",
       "      <td>2750</td>\n",
       "    </tr>\n",
       "    <tr>\n",
       "      <th>5</th>\n",
       "      <td>Qvantenborgsvägen 4B</td>\n",
       "      <td>Lägenhet</td>\n",
       "      <td>59</td>\n",
       "      <td>2.0</td>\n",
       "      <td>3125.0</td>\n",
       "      <td>29 september 2021</td>\n",
       "      <td>https://www.hemnet.se/salda/lagenhet-2rum-kobj...</td>\n",
       "      <td>2250</td>\n",
       "    </tr>\n",
       "  </tbody>\n",
       "</table>\n",
       "</div>"
      ],
      "text/plain": [
       "              Addresses     Types area (m²)  # of rooms  Monthly Fees (Kr)  \\\n",
       "0      Flormansgatan 2A  Lägenhet        43         1.5             2767.0   \n",
       "1     Kastanjegatan 19F  Lägenhet        34         2.0             2415.0   \n",
       "2      Karl XI gatan 47  Lägenhet      87.4         3.0             5787.0   \n",
       "4     Margaretavägen 3K  Lägenhet        78         3.0             4584.0   \n",
       "5  Qvantenborgsvägen 4B  Lägenhet        59         2.0             3125.0   \n",
       "\n",
       "          Sold Dates                                              Links  \\\n",
       "0  30 september 2021  https://www.hemnet.se/salda/lagenhet-1,5rum-ce...   \n",
       "1  30 september 2021  https://www.hemnet.se/salda/lagenhet-2rum-jarn...   \n",
       "2  30 september 2021  https://www.hemnet.se/salda/lagenhet-3rum-lund...   \n",
       "4  30 september 2021  https://www.hemnet.se/salda/lagenhet-3rum-moll...   \n",
       "5  29 september 2021  https://www.hemnet.se/salda/lagenhet-2rum-kobj...   \n",
       "\n",
       "   Prices (tKr)  \n",
       "0          2370  \n",
       "1          1745  \n",
       "2          4700  \n",
       "4          2750  \n",
       "5          2250  "
      ]
     },
     "execution_count": 160,
     "metadata": {},
     "output_type": "execute_result"
    }
   ],
   "source": [
    "# Now replace the column with the cleaned values.\n",
    "\n",
    "pd.options.mode.chained_assignment = None  # default='warn'\n",
    "apart_df['area (m²)'] = area\n",
    "# apart_df = apart_df[apart_df['area (m²)'] == area] # sth wrong with this line of code which changes apart_df shape.\n",
    "apart_df.head()"
   ]
  },
  {
   "cell_type": "code",
   "execution_count": 161,
   "metadata": {},
   "outputs": [
    {
     "data": {
      "text/plain": [
       "(1972, 8)"
      ]
     },
     "execution_count": 161,
     "metadata": {},
     "output_type": "execute_result"
    }
   ],
   "source": [
    "apart_df.shape"
   ]
  },
  {
   "cell_type": "markdown",
   "metadata": {},
   "source": [
    "### Change the format of Sold Dates"
   ]
  },
  {
   "cell_type": "code",
   "execution_count": 162,
   "metadata": {},
   "outputs": [
    {
     "data": {
      "text/plain": [
       "0    30/09/2021\n",
       "1    30/09/2021\n",
       "2    30/09/2021\n",
       "4    30/09/2021\n",
       "5    29/09/2021\n",
       "Name: Sold Dates, dtype: object"
      ]
     },
     "execution_count": 162,
     "metadata": {},
     "output_type": "execute_result"
    }
   ],
   "source": [
    "Dates = apart_df['Sold Dates']\n",
    "Dates=Dates.str.replace(' januari ','/01/').str.replace(' februari ','/02/').str.replace(' mars ','/03/').str.replace(' april ','/04/').str.replace(' maj ','/05/').str.replace(' juni ','/06/').str.replace(' juli ','/07/').str.replace(' augusti ','/08/').str.replace(' september ','/09/').str.replace(' oktober ','/10/').str.replace(' november ','/11/').str.replace(' december ','/12/')\n",
    "Dates.head()"
   ]
  },
  {
   "cell_type": "code",
   "execution_count": 163,
   "metadata": {},
   "outputs": [
    {
     "data": {
      "text/html": [
       "<div>\n",
       "<style scoped>\n",
       "    .dataframe tbody tr th:only-of-type {\n",
       "        vertical-align: middle;\n",
       "    }\n",
       "\n",
       "    .dataframe tbody tr th {\n",
       "        vertical-align: top;\n",
       "    }\n",
       "\n",
       "    .dataframe thead th {\n",
       "        text-align: right;\n",
       "    }\n",
       "</style>\n",
       "<table border=\"1\" class=\"dataframe\">\n",
       "  <thead>\n",
       "    <tr style=\"text-align: right;\">\n",
       "      <th></th>\n",
       "      <th>Addresses</th>\n",
       "      <th>Types</th>\n",
       "      <th>area (m²)</th>\n",
       "      <th># of rooms</th>\n",
       "      <th>Monthly Fees (Kr)</th>\n",
       "      <th>Sold Dates</th>\n",
       "      <th>Links</th>\n",
       "      <th>Prices (tKr)</th>\n",
       "    </tr>\n",
       "  </thead>\n",
       "  <tbody>\n",
       "    <tr>\n",
       "      <th>0</th>\n",
       "      <td>Flormansgatan 2A</td>\n",
       "      <td>Lägenhet</td>\n",
       "      <td>43</td>\n",
       "      <td>1.5</td>\n",
       "      <td>2767.0</td>\n",
       "      <td>2021-09-30</td>\n",
       "      <td>https://www.hemnet.se/salda/lagenhet-1,5rum-ce...</td>\n",
       "      <td>2370</td>\n",
       "    </tr>\n",
       "    <tr>\n",
       "      <th>1</th>\n",
       "      <td>Kastanjegatan 19F</td>\n",
       "      <td>Lägenhet</td>\n",
       "      <td>34</td>\n",
       "      <td>2.0</td>\n",
       "      <td>2415.0</td>\n",
       "      <td>2021-09-30</td>\n",
       "      <td>https://www.hemnet.se/salda/lagenhet-2rum-jarn...</td>\n",
       "      <td>1745</td>\n",
       "    </tr>\n",
       "    <tr>\n",
       "      <th>2</th>\n",
       "      <td>Karl XI gatan 47</td>\n",
       "      <td>Lägenhet</td>\n",
       "      <td>87.4</td>\n",
       "      <td>3.0</td>\n",
       "      <td>5787.0</td>\n",
       "      <td>2021-09-30</td>\n",
       "      <td>https://www.hemnet.se/salda/lagenhet-3rum-lund...</td>\n",
       "      <td>4700</td>\n",
       "    </tr>\n",
       "    <tr>\n",
       "      <th>4</th>\n",
       "      <td>Margaretavägen 3K</td>\n",
       "      <td>Lägenhet</td>\n",
       "      <td>78</td>\n",
       "      <td>3.0</td>\n",
       "      <td>4584.0</td>\n",
       "      <td>2021-09-30</td>\n",
       "      <td>https://www.hemnet.se/salda/lagenhet-3rum-moll...</td>\n",
       "      <td>2750</td>\n",
       "    </tr>\n",
       "    <tr>\n",
       "      <th>5</th>\n",
       "      <td>Qvantenborgsvägen 4B</td>\n",
       "      <td>Lägenhet</td>\n",
       "      <td>59</td>\n",
       "      <td>2.0</td>\n",
       "      <td>3125.0</td>\n",
       "      <td>2021-09-29</td>\n",
       "      <td>https://www.hemnet.se/salda/lagenhet-2rum-kobj...</td>\n",
       "      <td>2250</td>\n",
       "    </tr>\n",
       "  </tbody>\n",
       "</table>\n",
       "</div>"
      ],
      "text/plain": [
       "              Addresses     Types area (m²)  # of rooms  Monthly Fees (Kr)  \\\n",
       "0      Flormansgatan 2A  Lägenhet        43         1.5             2767.0   \n",
       "1     Kastanjegatan 19F  Lägenhet        34         2.0             2415.0   \n",
       "2      Karl XI gatan 47  Lägenhet      87.4         3.0             5787.0   \n",
       "4     Margaretavägen 3K  Lägenhet        78         3.0             4584.0   \n",
       "5  Qvantenborgsvägen 4B  Lägenhet        59         2.0             3125.0   \n",
       "\n",
       "  Sold Dates                                              Links  Prices (tKr)  \n",
       "0 2021-09-30  https://www.hemnet.se/salda/lagenhet-1,5rum-ce...          2370  \n",
       "1 2021-09-30  https://www.hemnet.se/salda/lagenhet-2rum-jarn...          1745  \n",
       "2 2021-09-30  https://www.hemnet.se/salda/lagenhet-3rum-lund...          4700  \n",
       "4 2021-09-30  https://www.hemnet.se/salda/lagenhet-3rum-moll...          2750  \n",
       "5 2021-09-29  https://www.hemnet.se/salda/lagenhet-2rum-kobj...          2250  "
      ]
     },
     "execution_count": 163,
     "metadata": {},
     "output_type": "execute_result"
    }
   ],
   "source": [
    "Dates = pd.to_datetime(Dates)\n",
    "apart_df['Sold Dates'] = Dates.values\n",
    "apart_df.head()"
   ]
  },
  {
   "cell_type": "code",
   "execution_count": 164,
   "metadata": {},
   "outputs": [
    {
     "data": {
      "text/plain": [
       "(1972, 8)"
      ]
     },
     "execution_count": 164,
     "metadata": {},
     "output_type": "execute_result"
    }
   ],
   "source": [
    "apart_df.shape"
   ]
  },
  {
   "cell_type": "markdown",
   "metadata": {},
   "source": []
  },
  {
   "cell_type": "markdown",
   "metadata": {},
   "source": [
    "### Drop the columns 'Types' and 'Links' as they are not needed any more"
   ]
  },
  {
   "cell_type": "code",
   "execution_count": 165,
   "metadata": {},
   "outputs": [],
   "source": [
    "apart_df = apart_df.drop(columns='Types')"
   ]
  },
  {
   "cell_type": "code",
   "execution_count": 166,
   "metadata": {},
   "outputs": [],
   "source": [
    "apart_df = apart_df.drop(columns='Links')"
   ]
  },
  {
   "cell_type": "code",
   "execution_count": 167,
   "metadata": {},
   "outputs": [
    {
     "data": {
      "text/html": [
       "<div>\n",
       "<style scoped>\n",
       "    .dataframe tbody tr th:only-of-type {\n",
       "        vertical-align: middle;\n",
       "    }\n",
       "\n",
       "    .dataframe tbody tr th {\n",
       "        vertical-align: top;\n",
       "    }\n",
       "\n",
       "    .dataframe thead th {\n",
       "        text-align: right;\n",
       "    }\n",
       "</style>\n",
       "<table border=\"1\" class=\"dataframe\">\n",
       "  <thead>\n",
       "    <tr style=\"text-align: right;\">\n",
       "      <th></th>\n",
       "      <th>Addresses</th>\n",
       "      <th>area (m²)</th>\n",
       "      <th># of rooms</th>\n",
       "      <th>Monthly Fees (Kr)</th>\n",
       "      <th>Sold Dates</th>\n",
       "      <th>Prices (tKr)</th>\n",
       "    </tr>\n",
       "  </thead>\n",
       "  <tbody>\n",
       "    <tr>\n",
       "      <th>0</th>\n",
       "      <td>Flormansgatan 2A</td>\n",
       "      <td>43</td>\n",
       "      <td>1.5</td>\n",
       "      <td>2767.0</td>\n",
       "      <td>2021-09-30</td>\n",
       "      <td>2370</td>\n",
       "    </tr>\n",
       "    <tr>\n",
       "      <th>1</th>\n",
       "      <td>Kastanjegatan 19F</td>\n",
       "      <td>34</td>\n",
       "      <td>2.0</td>\n",
       "      <td>2415.0</td>\n",
       "      <td>2021-09-30</td>\n",
       "      <td>1745</td>\n",
       "    </tr>\n",
       "    <tr>\n",
       "      <th>2</th>\n",
       "      <td>Karl XI gatan 47</td>\n",
       "      <td>87.4</td>\n",
       "      <td>3.0</td>\n",
       "      <td>5787.0</td>\n",
       "      <td>2021-09-30</td>\n",
       "      <td>4700</td>\n",
       "    </tr>\n",
       "    <tr>\n",
       "      <th>4</th>\n",
       "      <td>Margaretavägen 3K</td>\n",
       "      <td>78</td>\n",
       "      <td>3.0</td>\n",
       "      <td>4584.0</td>\n",
       "      <td>2021-09-30</td>\n",
       "      <td>2750</td>\n",
       "    </tr>\n",
       "    <tr>\n",
       "      <th>5</th>\n",
       "      <td>Qvantenborgsvägen 4B</td>\n",
       "      <td>59</td>\n",
       "      <td>2.0</td>\n",
       "      <td>3125.0</td>\n",
       "      <td>2021-09-29</td>\n",
       "      <td>2250</td>\n",
       "    </tr>\n",
       "  </tbody>\n",
       "</table>\n",
       "</div>"
      ],
      "text/plain": [
       "              Addresses area (m²)  # of rooms  Monthly Fees (Kr) Sold Dates  \\\n",
       "0      Flormansgatan 2A        43         1.5             2767.0 2021-09-30   \n",
       "1     Kastanjegatan 19F        34         2.0             2415.0 2021-09-30   \n",
       "2      Karl XI gatan 47      87.4         3.0             5787.0 2021-09-30   \n",
       "4     Margaretavägen 3K        78         3.0             4584.0 2021-09-30   \n",
       "5  Qvantenborgsvägen 4B        59         2.0             3125.0 2021-09-29   \n",
       "\n",
       "   Prices (tKr)  \n",
       "0          2370  \n",
       "1          1745  \n",
       "2          4700  \n",
       "4          2750  \n",
       "5          2250  "
      ]
     },
     "execution_count": 167,
     "metadata": {},
     "output_type": "execute_result"
    }
   ],
   "source": [
    "apart_df.head()"
   ]
  },
  {
   "cell_type": "markdown",
   "metadata": {},
   "source": []
  },
  {
   "cell_type": "markdown",
   "metadata": {},
   "source": [
    "### Reorder the rows as the increasing sold prices"
   ]
  },
  {
   "cell_type": "code",
   "execution_count": 168,
   "metadata": {},
   "outputs": [
    {
     "data": {
      "text/html": [
       "<div>\n",
       "<style scoped>\n",
       "    .dataframe tbody tr th:only-of-type {\n",
       "        vertical-align: middle;\n",
       "    }\n",
       "\n",
       "    .dataframe tbody tr th {\n",
       "        vertical-align: top;\n",
       "    }\n",
       "\n",
       "    .dataframe thead th {\n",
       "        text-align: right;\n",
       "    }\n",
       "</style>\n",
       "<table border=\"1\" class=\"dataframe\">\n",
       "  <thead>\n",
       "    <tr style=\"text-align: right;\">\n",
       "      <th></th>\n",
       "      <th>Addresses</th>\n",
       "      <th>area (m²)</th>\n",
       "      <th># of rooms</th>\n",
       "      <th>Monthly Fees (Kr)</th>\n",
       "      <th>Sold Dates</th>\n",
       "      <th>Prices (tKr)</th>\n",
       "    </tr>\n",
       "  </thead>\n",
       "  <tbody>\n",
       "    <tr>\n",
       "      <th>565</th>\n",
       "      <td>Veberödsvägen 22C</td>\n",
       "      <td>23</td>\n",
       "      <td>1.0</td>\n",
       "      <td>1287.0</td>\n",
       "      <td>2021-04-09</td>\n",
       "      <td>750</td>\n",
       "    </tr>\n",
       "    <tr>\n",
       "      <th>319</th>\n",
       "      <td>Idalavägen 47 f</td>\n",
       "      <td>50</td>\n",
       "      <td>2.0</td>\n",
       "      <td>4011.0</td>\n",
       "      <td>2020-10-21</td>\n",
       "      <td>795</td>\n",
       "    </tr>\n",
       "    <tr>\n",
       "      <th>2007</th>\n",
       "      <td>Allégatan 3F</td>\n",
       "      <td>23.5</td>\n",
       "      <td>1.0</td>\n",
       "      <td>1836.0</td>\n",
       "      <td>2020-11-15</td>\n",
       "      <td>800</td>\n",
       "    </tr>\n",
       "    <tr>\n",
       "      <th>259</th>\n",
       "      <td>Horstgatan 4H</td>\n",
       "      <td>31</td>\n",
       "      <td>1.0</td>\n",
       "      <td>1770.0</td>\n",
       "      <td>2020-10-29</td>\n",
       "      <td>810</td>\n",
       "    </tr>\n",
       "    <tr>\n",
       "      <th>2411</th>\n",
       "      <td>Allégatan 3F</td>\n",
       "      <td>23.5</td>\n",
       "      <td>1.0</td>\n",
       "      <td>1786.0</td>\n",
       "      <td>2021-03-01</td>\n",
       "      <td>810</td>\n",
       "    </tr>\n",
       "  </tbody>\n",
       "</table>\n",
       "</div>"
      ],
      "text/plain": [
       "              Addresses area (m²)  # of rooms  Monthly Fees (Kr) Sold Dates  \\\n",
       "565   Veberödsvägen 22C        23         1.0             1287.0 2021-04-09   \n",
       "319     Idalavägen 47 f        50         2.0             4011.0 2020-10-21   \n",
       "2007       Allégatan 3F      23.5         1.0             1836.0 2020-11-15   \n",
       "259       Horstgatan 4H        31         1.0             1770.0 2020-10-29   \n",
       "2411       Allégatan 3F      23.5         1.0             1786.0 2021-03-01   \n",
       "\n",
       "      Prices (tKr)  \n",
       "565            750  \n",
       "319            795  \n",
       "2007           800  \n",
       "259            810  \n",
       "2411           810  "
      ]
     },
     "execution_count": 168,
     "metadata": {},
     "output_type": "execute_result"
    }
   ],
   "source": [
    "apart_df = apart_df.sort_values(['Prices (tKr)'], ascending=1)\n",
    "apart_df.head()"
   ]
  },
  {
   "cell_type": "code",
   "execution_count": 169,
   "metadata": {},
   "outputs": [
    {
     "data": {
      "text/plain": [
       "(1972, 6)"
      ]
     },
     "execution_count": 169,
     "metadata": {},
     "output_type": "execute_result"
    }
   ],
   "source": [
    "apart_df.shape"
   ]
  },
  {
   "cell_type": "markdown",
   "metadata": {},
   "source": []
  },
  {
   "cell_type": "markdown",
   "metadata": {},
   "source": [
    "### Drop the index and add other features from second layer info"
   ]
  },
  {
   "cell_type": "code",
   "execution_count": 170,
   "metadata": {},
   "outputs": [],
   "source": [
    "new_apart_df = apart_df.reset_index()"
   ]
  },
  {
   "cell_type": "code",
   "execution_count": 171,
   "metadata": {},
   "outputs": [
    {
     "data": {
      "text/html": [
       "<div>\n",
       "<style scoped>\n",
       "    .dataframe tbody tr th:only-of-type {\n",
       "        vertical-align: middle;\n",
       "    }\n",
       "\n",
       "    .dataframe tbody tr th {\n",
       "        vertical-align: top;\n",
       "    }\n",
       "\n",
       "    .dataframe thead th {\n",
       "        text-align: right;\n",
       "    }\n",
       "</style>\n",
       "<table border=\"1\" class=\"dataframe\">\n",
       "  <thead>\n",
       "    <tr style=\"text-align: right;\">\n",
       "      <th></th>\n",
       "      <th>index</th>\n",
       "      <th>Addresses</th>\n",
       "      <th>area (m²)</th>\n",
       "      <th># of rooms</th>\n",
       "      <th>Monthly Fees (Kr)</th>\n",
       "      <th>Sold Dates</th>\n",
       "      <th>Prices (tKr)</th>\n",
       "    </tr>\n",
       "  </thead>\n",
       "  <tbody>\n",
       "    <tr>\n",
       "      <th>0</th>\n",
       "      <td>565</td>\n",
       "      <td>Veberödsvägen 22C</td>\n",
       "      <td>23</td>\n",
       "      <td>1.0</td>\n",
       "      <td>1287.0</td>\n",
       "      <td>2021-04-09</td>\n",
       "      <td>750</td>\n",
       "    </tr>\n",
       "    <tr>\n",
       "      <th>1</th>\n",
       "      <td>319</td>\n",
       "      <td>Idalavägen 47 f</td>\n",
       "      <td>50</td>\n",
       "      <td>2.0</td>\n",
       "      <td>4011.0</td>\n",
       "      <td>2020-10-21</td>\n",
       "      <td>795</td>\n",
       "    </tr>\n",
       "    <tr>\n",
       "      <th>2</th>\n",
       "      <td>2007</td>\n",
       "      <td>Allégatan 3F</td>\n",
       "      <td>23.5</td>\n",
       "      <td>1.0</td>\n",
       "      <td>1836.0</td>\n",
       "      <td>2020-11-15</td>\n",
       "      <td>800</td>\n",
       "    </tr>\n",
       "  </tbody>\n",
       "</table>\n",
       "</div>"
      ],
      "text/plain": [
       "   index          Addresses area (m²)  # of rooms  Monthly Fees (Kr)  \\\n",
       "0    565  Veberödsvägen 22C        23         1.0             1287.0   \n",
       "1    319    Idalavägen 47 f        50         2.0             4011.0   \n",
       "2   2007       Allégatan 3F      23.5         1.0             1836.0   \n",
       "\n",
       "  Sold Dates  Prices (tKr)  \n",
       "0 2021-04-09           750  \n",
       "1 2020-10-21           795  \n",
       "2 2020-11-15           800  "
      ]
     },
     "execution_count": 171,
     "metadata": {},
     "output_type": "execute_result"
    }
   ],
   "source": [
    "new_apart_df.head(3)"
   ]
  },
  {
   "cell_type": "code",
   "execution_count": 172,
   "metadata": {},
   "outputs": [],
   "source": [
    "agent_df = pd.read_csv('agent.csv')\n",
    "snd_info_df = pd.read_csv('snd_layer_df_info.csv')"
   ]
  },
  {
   "cell_type": "code",
   "execution_count": 213,
   "metadata": {},
   "outputs": [],
   "source": [
    "# Join 3 dataframes\n",
    "\n",
    "new_df = pd.concat([new_apart_df, snd_info_df, agent_df], axis=1)"
   ]
  },
  {
   "cell_type": "code",
   "execution_count": 214,
   "metadata": {},
   "outputs": [
    {
     "data": {
      "text/html": [
       "<div>\n",
       "<style scoped>\n",
       "    .dataframe tbody tr th:only-of-type {\n",
       "        vertical-align: middle;\n",
       "    }\n",
       "\n",
       "    .dataframe tbody tr th {\n",
       "        vertical-align: top;\n",
       "    }\n",
       "\n",
       "    .dataframe thead th {\n",
       "        text-align: right;\n",
       "    }\n",
       "</style>\n",
       "<table border=\"1\" class=\"dataframe\">\n",
       "  <thead>\n",
       "    <tr style=\"text-align: right;\">\n",
       "      <th></th>\n",
       "      <th>index</th>\n",
       "      <th>Addresses</th>\n",
       "      <th>area (m²)</th>\n",
       "      <th># of rooms</th>\n",
       "      <th>Monthly Fees (Kr)</th>\n",
       "      <th>Sold Dates</th>\n",
       "      <th>Prices (tKr)</th>\n",
       "      <th>Average</th>\n",
       "      <th>Asking price</th>\n",
       "      <th>Balcony</th>\n",
       "      <th>Patio</th>\n",
       "      <th>Build year</th>\n",
       "      <th>Floor number</th>\n",
       "      <th>Total floor</th>\n",
       "      <th>Elevator</th>\n",
       "      <th>Agents</th>\n",
       "      <th>Agencies</th>\n",
       "    </tr>\n",
       "  </thead>\n",
       "  <tbody>\n",
       "    <tr>\n",
       "      <th>0</th>\n",
       "      <td>565</td>\n",
       "      <td>Veberödsvägen 22C</td>\n",
       "      <td>23</td>\n",
       "      <td>1.0</td>\n",
       "      <td>1287.0</td>\n",
       "      <td>2021-04-09</td>\n",
       "      <td>750</td>\n",
       "      <td>32609.0</td>\n",
       "      <td>695000</td>\n",
       "      <td>Nej</td>\n",
       "      <td></td>\n",
       "      <td>1956</td>\n",
       "      <td>1</td>\n",
       "      <td>3</td>\n",
       "      <td>No</td>\n",
       "      <td>Karin Ekström</td>\n",
       "      <td>Erik Olsson Fastighetsförmedling</td>\n",
       "    </tr>\n",
       "    <tr>\n",
       "      <th>1</th>\n",
       "      <td>319</td>\n",
       "      <td>Idalavägen 47 f</td>\n",
       "      <td>50</td>\n",
       "      <td>2.0</td>\n",
       "      <td>4011.0</td>\n",
       "      <td>2020-10-21</td>\n",
       "      <td>795</td>\n",
       "      <td>15900.0</td>\n",
       "      <td>795000</td>\n",
       "      <td></td>\n",
       "      <td></td>\n",
       "      <td>2004</td>\n",
       "      <td>2</td>\n",
       "      <td>2</td>\n",
       "      <td>No</td>\n",
       "      <td>Rickard Saltin</td>\n",
       "      <td>Fastighetsbyrån Lund</td>\n",
       "    </tr>\n",
       "    <tr>\n",
       "      <th>2</th>\n",
       "      <td>2007</td>\n",
       "      <td>Allégatan 3F</td>\n",
       "      <td>23.5</td>\n",
       "      <td>1.0</td>\n",
       "      <td>1836.0</td>\n",
       "      <td>2020-11-15</td>\n",
       "      <td>800</td>\n",
       "      <td>34043.0</td>\n",
       "      <td>725000</td>\n",
       "      <td></td>\n",
       "      <td></td>\n",
       "      <td>1957</td>\n",
       "      <td>2</td>\n",
       "      <td>2</td>\n",
       "      <td>No</td>\n",
       "      <td></td>\n",
       "      <td>Fastighetsbyrån Lund</td>\n",
       "    </tr>\n",
       "    <tr>\n",
       "      <th>3</th>\n",
       "      <td>259</td>\n",
       "      <td>Horstgatan 4H</td>\n",
       "      <td>31</td>\n",
       "      <td>1.0</td>\n",
       "      <td>1770.0</td>\n",
       "      <td>2020-10-29</td>\n",
       "      <td>810</td>\n",
       "      <td>26129.0</td>\n",
       "      <td>795000</td>\n",
       "      <td></td>\n",
       "      <td></td>\n",
       "      <td>2018</td>\n",
       "      <td>2</td>\n",
       "      <td>2</td>\n",
       "      <td></td>\n",
       "      <td></td>\n",
       "      <td>Svensk Fastighetsförmedling Lund</td>\n",
       "    </tr>\n",
       "    <tr>\n",
       "      <th>4</th>\n",
       "      <td>2411</td>\n",
       "      <td>Allégatan 3F</td>\n",
       "      <td>23.5</td>\n",
       "      <td>1.0</td>\n",
       "      <td>1786.0</td>\n",
       "      <td>2021-03-01</td>\n",
       "      <td>810</td>\n",
       "      <td>34468.0</td>\n",
       "      <td>750000</td>\n",
       "      <td></td>\n",
       "      <td></td>\n",
       "      <td>1957</td>\n",
       "      <td>1</td>\n",
       "      <td>2</td>\n",
       "      <td>No</td>\n",
       "      <td></td>\n",
       "      <td>Fastighetsbyrån Lund</td>\n",
       "    </tr>\n",
       "  </tbody>\n",
       "</table>\n",
       "</div>"
      ],
      "text/plain": [
       "   index          Addresses area (m²)  # of rooms  Monthly Fees (Kr)  \\\n",
       "0    565  Veberödsvägen 22C        23         1.0             1287.0   \n",
       "1    319    Idalavägen 47 f        50         2.0             4011.0   \n",
       "2   2007       Allégatan 3F      23.5         1.0             1836.0   \n",
       "3    259      Horstgatan 4H        31         1.0             1770.0   \n",
       "4   2411       Allégatan 3F      23.5         1.0             1786.0   \n",
       "\n",
       "  Sold Dates  Prices (tKr)  Average Asking price Balcony Patio Build year  \\\n",
       "0 2021-04-09           750  32609.0       695000     Nej             1956   \n",
       "1 2020-10-21           795  15900.0       795000                     2004   \n",
       "2 2020-11-15           800  34043.0       725000                     1957   \n",
       "3 2020-10-29           810  26129.0       795000                     2018   \n",
       "4 2021-03-01           810  34468.0       750000                     1957   \n",
       "\n",
       "  Floor number Total floor Elevator          Agents  \\\n",
       "0            1           3       No   Karin Ekström   \n",
       "1            2           2       No  Rickard Saltin   \n",
       "2            2           2       No                   \n",
       "3            2           2                            \n",
       "4            1           2       No                   \n",
       "\n",
       "                           Agencies  \n",
       "0  Erik Olsson Fastighetsförmedling  \n",
       "1              Fastighetsbyrån Lund  \n",
       "2              Fastighetsbyrån Lund  \n",
       "3  Svensk Fastighetsförmedling Lund  \n",
       "4              Fastighetsbyrån Lund  "
      ]
     },
     "execution_count": 214,
     "metadata": {},
     "output_type": "execute_result"
    }
   ],
   "source": [
    "# Get rid of NaN \n",
    "\n",
    "new_df = new_df.fillna('')\n",
    "new_df.head()"
   ]
  },
  {
   "cell_type": "code",
   "execution_count": 99,
   "metadata": {},
   "outputs": [],
   "source": [
    "# 'Average': average, 'Asking price': asking_price,'Balcony': is_balcony, \n",
    "#'Patio': is_patio,'Build year': build_year, 'Floor number': floor_number, \n",
    "#'Total floor': total_floor, 'Elevator': is_elevator}"
   ]
  },
  {
   "cell_type": "markdown",
   "metadata": {},
   "source": [
    "### Change data type/reorder columns"
   ]
  },
  {
   "cell_type": "markdown",
   "metadata": {},
   "source": [
    "#### We change the column 'asking price' also to 'asking price (tkr)'"
   ]
  },
  {
   "cell_type": "code",
   "execution_count": 210,
   "metadata": {},
   "outputs": [
    {
     "data": {
      "text/plain": [
       "[1399, 1473]"
      ]
     },
     "execution_count": 210,
     "metadata": {},
     "output_type": "execute_result"
    }
   ],
   "source": [
    "# Two apartments do not have asking prices\n",
    "\n",
    "none_index=[i for i,v in enumerate(new_df['Asking price']) if v == '']\n",
    "none_index"
   ]
  },
  {
   "cell_type": "code",
   "execution_count": 211,
   "metadata": {},
   "outputs": [],
   "source": [
    "# We replace these 2 values to 0. Remember to drop these 2 values in analysis using this feature!\n",
    "\n",
    "ask_price = new_df['Asking price'].replace('',0)\n",
    "ask_price_tkr = ask_price/1000\n",
    "ask_price_tkr = ask_price_tkr.astype(int)"
   ]
  },
  {
   "cell_type": "code",
   "execution_count": 215,
   "metadata": {},
   "outputs": [],
   "source": [
    "new_df = new_df.drop(columns='index')\n",
    "new_df = new_df.drop(columns='Asking price')\n",
    "new_df['Asking (tKr)'] = ask_price_tkr"
   ]
  },
  {
   "cell_type": "code",
   "execution_count": 221,
   "metadata": {},
   "outputs": [],
   "source": [
    "apartment_df = new_df.reindex(columns=['Addresses', 'area (m²)', '# of rooms', 'Balcony', 'Patio', 'Elevator', 'Floor number', 'Total floor', 'Monthly Fees (Kr)', 'Build year', 'Asking (tKr)', 'Prices (tKr)', 'Average', 'Agents', 'Agencies', 'Sold Dates'])"
   ]
  },
  {
   "cell_type": "code",
   "execution_count": 222,
   "metadata": {},
   "outputs": [
    {
     "data": {
      "text/html": [
       "<div>\n",
       "<style scoped>\n",
       "    .dataframe tbody tr th:only-of-type {\n",
       "        vertical-align: middle;\n",
       "    }\n",
       "\n",
       "    .dataframe tbody tr th {\n",
       "        vertical-align: top;\n",
       "    }\n",
       "\n",
       "    .dataframe thead th {\n",
       "        text-align: right;\n",
       "    }\n",
       "</style>\n",
       "<table border=\"1\" class=\"dataframe\">\n",
       "  <thead>\n",
       "    <tr style=\"text-align: right;\">\n",
       "      <th></th>\n",
       "      <th>Addresses</th>\n",
       "      <th>area (m²)</th>\n",
       "      <th># of rooms</th>\n",
       "      <th>Balcony</th>\n",
       "      <th>Patio</th>\n",
       "      <th>Elevator</th>\n",
       "      <th>Floor number</th>\n",
       "      <th>Total floor</th>\n",
       "      <th>Monthly Fees (Kr)</th>\n",
       "      <th>Build year</th>\n",
       "      <th>Asking (tKr)</th>\n",
       "      <th>Prices (tKr)</th>\n",
       "      <th>Average</th>\n",
       "      <th>Agents</th>\n",
       "      <th>Agencies</th>\n",
       "      <th>Sold Dates</th>\n",
       "    </tr>\n",
       "  </thead>\n",
       "  <tbody>\n",
       "    <tr>\n",
       "      <th>0</th>\n",
       "      <td>Veberödsvägen 22C</td>\n",
       "      <td>23</td>\n",
       "      <td>1.0</td>\n",
       "      <td>Nej</td>\n",
       "      <td></td>\n",
       "      <td>No</td>\n",
       "      <td>1</td>\n",
       "      <td>3</td>\n",
       "      <td>1287.0</td>\n",
       "      <td>1956</td>\n",
       "      <td>695</td>\n",
       "      <td>750</td>\n",
       "      <td>32609.0</td>\n",
       "      <td>Karin Ekström</td>\n",
       "      <td>Erik Olsson Fastighetsförmedling</td>\n",
       "      <td>2021-04-09</td>\n",
       "    </tr>\n",
       "    <tr>\n",
       "      <th>1</th>\n",
       "      <td>Idalavägen 47 f</td>\n",
       "      <td>50</td>\n",
       "      <td>2.0</td>\n",
       "      <td></td>\n",
       "      <td></td>\n",
       "      <td>No</td>\n",
       "      <td>2</td>\n",
       "      <td>2</td>\n",
       "      <td>4011.0</td>\n",
       "      <td>2004</td>\n",
       "      <td>795</td>\n",
       "      <td>795</td>\n",
       "      <td>15900.0</td>\n",
       "      <td>Rickard Saltin</td>\n",
       "      <td>Fastighetsbyrån Lund</td>\n",
       "      <td>2020-10-21</td>\n",
       "    </tr>\n",
       "    <tr>\n",
       "      <th>2</th>\n",
       "      <td>Allégatan 3F</td>\n",
       "      <td>23.5</td>\n",
       "      <td>1.0</td>\n",
       "      <td></td>\n",
       "      <td></td>\n",
       "      <td>No</td>\n",
       "      <td>2</td>\n",
       "      <td>2</td>\n",
       "      <td>1836.0</td>\n",
       "      <td>1957</td>\n",
       "      <td>725</td>\n",
       "      <td>800</td>\n",
       "      <td>34043.0</td>\n",
       "      <td></td>\n",
       "      <td>Fastighetsbyrån Lund</td>\n",
       "      <td>2020-11-15</td>\n",
       "    </tr>\n",
       "  </tbody>\n",
       "</table>\n",
       "</div>"
      ],
      "text/plain": [
       "           Addresses area (m²)  # of rooms Balcony Patio Elevator  \\\n",
       "0  Veberödsvägen 22C        23         1.0     Nej             No   \n",
       "1    Idalavägen 47 f        50         2.0                     No   \n",
       "2       Allégatan 3F      23.5         1.0                     No   \n",
       "\n",
       "  Floor number Total floor  Monthly Fees (Kr) Build year  Asking (tKr)  \\\n",
       "0            1           3             1287.0       1956           695   \n",
       "1            2           2             4011.0       2004           795   \n",
       "2            2           2             1836.0       1957           725   \n",
       "\n",
       "   Prices (tKr)  Average          Agents                          Agencies  \\\n",
       "0           750  32609.0   Karin Ekström  Erik Olsson Fastighetsförmedling   \n",
       "1           795  15900.0  Rickard Saltin              Fastighetsbyrån Lund   \n",
       "2           800  34043.0                              Fastighetsbyrån Lund   \n",
       "\n",
       "  Sold Dates  \n",
       "0 2021-04-09  \n",
       "1 2020-10-21  \n",
       "2 2020-11-15  "
      ]
     },
     "execution_count": 222,
     "metadata": {},
     "output_type": "execute_result"
    }
   ],
   "source": [
    "apartment_df.head(3)"
   ]
  },
  {
   "cell_type": "code",
   "execution_count": null,
   "metadata": {},
   "outputs": [],
   "source": []
  },
  {
   "cell_type": "markdown",
   "metadata": {},
   "source": [
    "### Save as a CSV file"
   ]
  },
  {
   "cell_type": "code",
   "execution_count": 223,
   "metadata": {},
   "outputs": [],
   "source": [
    "apartment_df.to_csv('apartment_df.csv')"
   ]
  }
 ],
 "metadata": {
  "kernelspec": {
   "display_name": "Python 3",
   "language": "python",
   "name": "python3"
  },
  "language_info": {
   "codemirror_mode": {
    "name": "ipython",
    "version": 3
   },
   "file_extension": ".py",
   "mimetype": "text/x-python",
   "name": "python",
   "nbconvert_exporter": "python",
   "pygments_lexer": "ipython3",
   "version": "3.8.5"
  }
 },
 "nbformat": 4,
 "nbformat_minor": 4
}
