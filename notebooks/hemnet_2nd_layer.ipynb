{
 "cells": [
  {
   "cell_type": "markdown",
   "metadata": {},
   "source": [
    "# Second layer info"
   ]
  },
  {
   "cell_type": "markdown",
   "metadata": {},
   "source": [
    "##  Items except broker/agency"
   ]
  },
  {
   "cell_type": "code",
   "execution_count": 1,
   "metadata": {},
   "outputs": [],
   "source": [
    "import requests\n",
    "from bs4 import BeautifulSoup\n",
    "import pandas as pd\n",
    "import re\n",
    "\n",
    "headers = {'User-Agent': 'Mozilla/5.0 (Windows NT 6.1; WOW64; rv:20.0) Gecko/20100101 Firefox/20.0'}"
   ]
  },
  {
   "cell_type": "code",
   "execution_count": 2,
   "metadata": {},
   "outputs": [],
   "source": [
    "df = pd.read_csv('apart_df.csv')"
   ]
  },
  {
   "cell_type": "markdown",
   "metadata": {},
   "source": [
    "### Here we actually only need the info 7-10. But for some links, not all 13 items are provided, for example, some are missing the year of build, some do not list the avgift, etc. So here we better scrap all info and then clean them later."
   ]
  },
  {
   "cell_type": "code",
   "execution_count": 3,
   "metadata": {},
   "outputs": [],
   "source": [
    "link_len = len(df['Links'])\n",
    "\n",
    "info0 = [None for _ in range(link_len)]\n",
    "info1 = [None for _ in range(link_len)]\n",
    "info2 = [None for _ in range(link_len)]\n",
    "info3 = [None for _ in range(link_len)]\n",
    "info4 = [None for _ in range(link_len)]\n",
    "info5 = [None for _ in range(link_len)]\n",
    "info6 = [None for _ in range(link_len)]\n",
    "info7 = [None for _ in range(link_len)]\n",
    "info8 = [None for _ in range(link_len)]\n",
    "info9 = [None for _ in range(link_len)]\n",
    "info10 = [None for _ in range(link_len)]\n",
    "info11 = [None for _ in range(link_len)]\n",
    "info12 = [None for _ in range(link_len)]"
   ]
  },
  {
   "cell_type": "code",
   "execution_count": 4,
   "metadata": {},
   "outputs": [],
   "source": [
    "for link_ind in range(link_len):\n",
    "\n",
    "    r = requests.get(df['Links'][link_ind], headers=headers)\n",
    "\n",
    "    soup = BeautifulSoup(r.content, 'html.parser')\n",
    "\n",
    "    body = soup.find('body')\n",
    "\n",
    "\n",
    "    properties1 = body.select(\"dd.sold-property__attribute-value\")\n",
    "    prop_len = len(properties1)\n",
    "    \n",
    "    \n",
    "    info0[link_ind] = str(properties1[0]).replace('<dd class=\"sold-property__attribute-value\">', '').replace('</dd>', '').replace('\\n','').replace('\\xa0','').replace('<i class=\"fa fa-arrow-circle-o-up fa-lg price-icon--up\"></i>','').replace('<i class=\"fa fa-arrow-circle-o-up fa-lg price-icon--down\"></i>','').strip()\n",
    "    info1[link_ind] = str(properties1[1]).replace('<dd class=\"sold-property__attribute-value\">', '').replace('</dd>', '').replace('\\n','').replace('\\xa0','').replace('<i class=\"fa fa-arrow-circle-o-up fa-lg price-icon--up\"></i>','').replace('<i class=\"fa fa-arrow-circle-o-up fa-lg price-icon--down\"></i>','').strip()\n",
    "    info2[link_ind] = str(properties1[2]).replace('<dd class=\"sold-property__attribute-value\">', '').replace('</dd>', '').replace('\\n','').replace('\\xa0','').replace('<i class=\"fa fa-arrow-circle-o-up fa-lg price-icon--up\"></i>','').replace('<i class=\"fa fa-arrow-circle-o-up fa-lg price-icon--down\"></i>','').strip()\n",
    "    info3[link_ind] = str(properties1[3]).replace('<dd class=\"sold-property__attribute-value\">', '').replace('</dd>', '').replace('\\n','').replace('\\xa0','').replace('<i class=\"fa fa-arrow-circle-o-up fa-lg price-icon--up\"></i>','').replace('<i class=\"fa fa-arrow-circle-o-up fa-lg price-icon--down\"></i>','').strip()\n",
    "    info4[link_ind] = str(properties1[4]).replace('<dd class=\"sold-property__attribute-value\">', '').replace('</dd>', '').replace('\\n','').replace('\\xa0','').replace('<i class=\"fa fa-arrow-circle-o-up fa-lg price-icon--up\"></i>','').replace('<i class=\"fa fa-arrow-circle-o-up fa-lg price-icon--down\"></i>','').strip()\n",
    "    info5[link_ind] = str(properties1[5]).replace('<dd class=\"sold-property__attribute-value\">', '').replace('</dd>', '').replace('\\n','').replace('\\xa0','').replace('<i class=\"fa fa-arrow-circle-o-up fa-lg price-icon--up\"></i>','').replace('<i class=\"fa fa-arrow-circle-o-up fa-lg price-icon--down\"></i>','').strip()\n",
    "    info6[link_ind] = str(properties1[6]).replace('<dd class=\"sold-property__attribute-value\">', '').replace('</dd>', '').replace('\\n','').replace('\\xa0','').replace('<i class=\"fa fa-arrow-circle-o-up fa-lg price-icon--up\"></i>','').replace('<i class=\"fa fa-arrow-circle-o-up fa-lg price-icon--down\"></i>','').strip()\n",
    "    info7[link_ind] = str(properties1[7]).replace('<dd class=\"sold-property__attribute-value\">', '').replace('</dd>', '').replace('\\n','').replace('\\xa0','').replace('<i class=\"fa fa-arrow-circle-o-up fa-lg price-icon--up\"></i>','').replace('<i class=\"fa fa-arrow-circle-o-up fa-lg price-icon--down\"></i>','').strip()\n",
    "    \n",
    "    if prop_len == 9:\n",
    "        info8[link_ind] = str(properties1[8]).replace('<dd class=\"sold-property__attribute-value\">', '').replace('</dd>', '').replace('\\n','').replace('\\xa0','').replace('<i class=\"fa fa-arrow-circle-o-up fa-lg price-icon--up\"></i>','').replace('<i class=\"fa fa-arrow-circle-o-up fa-lg price-icon--down\"></i>','').strip()\n",
    "    elif prop_len == 10:\n",
    "        info8[link_ind] = str(properties1[8]).replace('<dd class=\"sold-property__attribute-value\">', '').replace('</dd>', '').replace('\\n','').replace('\\xa0','').replace('<i class=\"fa fa-arrow-circle-o-up fa-lg price-icon--up\"></i>','').replace('<i class=\"fa fa-arrow-circle-o-up fa-lg price-icon--down\"></i>','').strip()        \n",
    "        info9[link_ind] = str(properties1[9]).replace('<dd class=\"sold-property__attribute-value\">', '').replace('</dd>', '').replace('\\n','').replace('\\xa0','').replace('<i class=\"fa fa-arrow-circle-o-up fa-lg price-icon--up\"></i>','').replace('<i class=\"fa fa-arrow-circle-o-up fa-lg price-icon--down\"></i>','').strip()\n",
    "    elif prop_len == 11:\n",
    "        info8[link_ind] = str(properties1[8]).replace('<dd class=\"sold-property__attribute-value\">', '').replace('</dd>', '').replace('\\n','').replace('\\xa0','').replace('<i class=\"fa fa-arrow-circle-o-up fa-lg price-icon--up\"></i>','').replace('<i class=\"fa fa-arrow-circle-o-up fa-lg price-icon--down\"></i>','').strip()        \n",
    "        info9[link_ind] = str(properties1[9]).replace('<dd class=\"sold-property__attribute-value\">', '').replace('</dd>', '').replace('\\n','').replace('\\xa0','').replace('<i class=\"fa fa-arrow-circle-o-up fa-lg price-icon--up\"></i>','').replace('<i class=\"fa fa-arrow-circle-o-up fa-lg price-icon--down\"></i>','').strip()\n",
    "        info10[link_ind] = str(properties1[10]).replace('<dd class=\"sold-property__attribute-value\">', '').replace('</dd>', '').replace('\\n','').replace('\\xa0','').replace('<i class=\"fa fa-arrow-circle-o-up fa-lg price-icon--up\"></i>','').replace('<i class=\"fa fa-arrow-circle-o-up fa-lg price-icon--down\"></i>','').strip()\n",
    "    elif prop_len == 12:\n",
    "        info8[link_ind] = str(properties1[8]).replace('<dd class=\"sold-property__attribute-value\">', '').replace('</dd>', '').replace('\\n','').replace('\\xa0','').replace('<i class=\"fa fa-arrow-circle-o-up fa-lg price-icon--up\"></i>','').replace('<i class=\"fa fa-arrow-circle-o-up fa-lg price-icon--down\"></i>','').strip()        \n",
    "        info9[link_ind] = str(properties1[9]).replace('<dd class=\"sold-property__attribute-value\">', '').replace('</dd>', '').replace('\\n','').replace('\\xa0','').replace('<i class=\"fa fa-arrow-circle-o-up fa-lg price-icon--up\"></i>','').replace('<i class=\"fa fa-arrow-circle-o-up fa-lg price-icon--down\"></i>','').strip()\n",
    "        info10[link_ind] = str(properties1[10]).replace('<dd class=\"sold-property__attribute-value\">', '').replace('</dd>', '').replace('\\n','').replace('\\xa0','').replace('<i class=\"fa fa-arrow-circle-o-up fa-lg price-icon--up\"></i>','').replace('<i class=\"fa fa-arrow-circle-o-up fa-lg price-icon--down\"></i>','').strip()\n",
    "        info11[link_ind] = str(properties1[11]).replace('<dd class=\"sold-property__attribute-value\">', '').replace('</dd>', '').replace('\\n','').replace('\\xa0','').replace('<i class=\"fa fa-arrow-circle-o-up fa-lg price-icon--up\"></i>','').replace('<i class=\"fa fa-arrow-circle-o-up fa-lg price-icon--down\"></i>','').strip()\n",
    "    elif prop_len == 13:\n",
    "        info8[link_ind] = str(properties1[8]).replace('<dd class=\"sold-property__attribute-value\">', '').replace('</dd>', '').replace('\\n','').replace('\\xa0','').replace('<i class=\"fa fa-arrow-circle-o-up fa-lg price-icon--up\"></i>','').replace('<i class=\"fa fa-arrow-circle-o-up fa-lg price-icon--down\"></i>','').strip()        \n",
    "        info9[link_ind] = str(properties1[9]).replace('<dd class=\"sold-property__attribute-value\">', '').replace('</dd>', '').replace('\\n','').replace('\\xa0','').replace('<i class=\"fa fa-arrow-circle-o-up fa-lg price-icon--up\"></i>','').replace('<i class=\"fa fa-arrow-circle-o-up fa-lg price-icon--down\"></i>','').strip()\n",
    "        info10[link_ind] = str(properties1[10]).replace('<dd class=\"sold-property__attribute-value\">', '').replace('</dd>', '').replace('\\n','').replace('\\xa0','').replace('<i class=\"fa fa-arrow-circle-o-up fa-lg price-icon--up\"></i>','').replace('<i class=\"fa fa-arrow-circle-o-up fa-lg price-icon--down\"></i>','').strip()\n",
    "        info11[link_ind] = str(properties1[11]).replace('<dd class=\"sold-property__attribute-value\">', '').replace('</dd>', '').replace('\\n','').replace('\\xa0','').replace('<i class=\"fa fa-arrow-circle-o-up fa-lg price-icon--up\"></i>','').replace('<i class=\"fa fa-arrow-circle-o-up fa-lg price-icon--down\"></i>','').strip()\n",
    "        info12[link_ind] = str(properties1[12]).replace('<dd class=\"sold-property__attribute-value\">', '').replace('</dd>', '').replace('\\n','').replace('\\xa0','').replace('<i class=\"fa fa-arrow-circle-o-up fa-lg price-icon--up\"></i>','').replace('<i class=\"fa fa-arrow-circle-o-up fa-lg price-icon--down\"></i>','').strip()\n",
    "       "
   ]
  },
  {
   "cell_type": "markdown",
   "metadata": {},
   "source": [
    "### Merge into one CSV file"
   ]
  },
  {
   "cell_type": "code",
   "execution_count": null,
   "metadata": {},
   "outputs": [],
   "source": [
    "d = {'info0': info0, 'info1': info1,'info2': info2, 'info3': info3,'info4': info4, 'info5': info5,'info6': info6, 'info7': info7, 'info8': info8, 'info9': info9, 'info10': info10, 'info11': info11, 'info12': info12}\n",
    "frame = pd.DataFrame(data=d).T\n",
    "frame.to_csv('unprocessed_sndlayer_info.csv', index=False)"
   ]
  },
  {
   "cell_type": "markdown",
   "metadata": {},
   "source": [
    "## Broker/Agency"
   ]
  },
  {
   "cell_type": "code",
   "execution_count": null,
   "metadata": {},
   "outputs": [],
   "source": [
    "brokers = [None for _ in range(link_len)]\n",
    "agencies = [None for _ in range(link_len)]"
   ]
  },
  {
   "cell_type": "code",
   "execution_count": null,
   "metadata": {},
   "outputs": [],
   "source": [
    "for link_ind in range(link_len):\n",
    "\n",
    "    r = requests.get(df['Links'][link_ind], headers=headers)\n",
    "\n",
    "    soup = BeautifulSoup(r.content, 'html.parser')\n",
    "\n",
    "    body = soup.find('body')\n",
    "\n",
    "\n",
    "    properties2 = body.select(\"div.broker-card__info\")\n",
    "    \n",
    "    m = properties2[0].get_text().replace('\\n', '').replace('Kontakta mäklarkontoret','').replace('Kontakta mäklaren','').replace('Kontakt','').strip().split(\"      \")\n",
    "\n",
    "    # Note that some links only provide agency without broker info. \n",
    "    if len(m) == 2:\n",
    "        brokers[link_ind] = m[0]\n",
    "        agencies[link_ind] = m[1]\n",
    "    else:\n",
    "        agencies[link_ind] = m[0]"
   ]
  },
  {
   "cell_type": "markdown",
   "metadata": {},
   "source": [
    "### Merge into one CSV file"
   ]
  },
  {
   "cell_type": "code",
   "execution_count": null,
   "metadata": {},
   "outputs": [],
   "source": [
    "d = {'Agents': brokers, 'Agencies': third_agency}\n",
    "agent_df = pd.DataFrame(data=d)\n",
    "agent_df.to_csv('agent.csv', index=False)"
   ]
  }
 ],
 "metadata": {
  "kernelspec": {
   "display_name": "Python 3",
   "language": "python",
   "name": "python3"
  },
  "language_info": {
   "codemirror_mode": {
    "name": "ipython",
    "version": 3
   },
   "file_extension": ".py",
   "mimetype": "text/x-python",
   "name": "python",
   "nbconvert_exporter": "python",
   "pygments_lexer": "ipython3",
   "version": "3.8.5"
  }
 },
 "nbformat": 4,
 "nbformat_minor": 4
}
