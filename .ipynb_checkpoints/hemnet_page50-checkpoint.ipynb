{
 "cells": [
  {
   "cell_type": "markdown",
   "metadata": {},
   "source": [
    "# Web scrapping from a Hemnet sample page"
   ]
  },
  {
   "cell_type": "code",
   "execution_count": 1,
   "metadata": {},
   "outputs": [],
   "source": [
    "# Import necessary libraries\n",
    "\n",
    "from bs4 import BeautifulSoup\n",
    "import pandas as pd\n",
    "import re"
   ]
  },
  {
   "cell_type": "code",
   "execution_count": 2,
   "metadata": {},
   "outputs": [],
   "source": [
    "# scrap info from the html <body> tag\n",
    "\n",
    "with open('hemnet_page50.html', 'r') as html_file:\n",
    "    soup = BeautifulSoup(html_file, 'html.parser')\n",
    "body = soup.find('body')"
   ]
  },
  {
   "cell_type": "code",
   "execution_count": 21,
   "metadata": {},
   "outputs": [
    {
     "data": {
      "text/plain": [
       "['https://www.hemnet.se/salda/lagenhet-3rum-centrum-lunds-kommun-sodra-esplanaden-5a-1268410',\n",
       " 'https://www.hemnet.se/salda/lagenhet-4rum-ostra-torn-lunds-kommun-stralsundsvagen-92-1268390',\n",
       " 'https://www.hemnet.se/salda/lagenhet-1,5rum-veberod-lunds-kommun-vildgasvagen-45-1268417',\n",
       " 'https://www.hemnet.se/salda/villa-7rum-stangby-lunds-kommun-vallkarratorn-502-1263056',\n",
       " 'https://www.hemnet.se/salda/lagenhet-1rum-centrum-lunds-kommun-gronegatan-19b-1268104',\n",
       " 'https://www.hemnet.se/salda/lagenhet-3rum-norra-faladen-lunds-kommun-skarpskyttevagen-22-f-1268135']"
      ]
     },
     "execution_count": 21,
     "metadata": {},
     "output_type": "execute_result"
    }
   ],
   "source": [
    "# Get individual link for each sold property. These links provide additional information\n",
    "# which I refered to as second-layer.\n",
    "\n",
    "links = body.select(\"li.sold-results__normal-hit a\")\n",
    "actual_links = [link['href'] for link in links]\n",
    "# for link in actual_links:\n",
    "#     print(link)\n",
    "actual_links[0:6]"
   ]
  },
  {
   "cell_type": "code",
   "execution_count": 14,
   "metadata": {},
   "outputs": [
    {
     "data": {
      "text/plain": [
       "['Södra Esplanaden 5A',\n",
       " 'Stralsundsvägen 92',\n",
       " 'Vildgåsvägen 45',\n",
       " 'Vallkärratorn 502',\n",
       " 'Grönegatan 19B',\n",
       " 'Skarpskyttevägen 22 F']"
      ]
     },
     "execution_count": 14,
     "metadata": {},
     "output_type": "execute_result"
    }
   ],
   "source": [
    "# Get addresses which will later be converted to lan-longitude coordinates. \n",
    "\n",
    "addresses = body.select(\"li.sold-results__normal-hit h2\")\n",
    "str_addresses = [address.get_text().replace('\\n', '').strip() for address in addresses]\n",
    "str_addresses[0:6]"
   ]
  },
  {
   "cell_type": "code",
   "execution_count": 15,
   "metadata": {},
   "outputs": [
    {
     "data": {
      "text/plain": [
       "['Lägenhet', 'Lägenhet', 'Lägenhet', 'Villa', 'Lägenhet', 'Lägenhet']"
      ]
     },
     "execution_count": 15,
     "metadata": {},
     "output_type": "execute_result"
    }
   ],
   "source": [
    "# Housing type\n",
    "\n",
    "types = body.select(\"li.sold-results__normal-hit title\")\n",
    "actual_type = [kind.get_text() for kind in types]\n",
    "actual_type[0:6]"
   ]
  },
  {
   "cell_type": "code",
   "execution_count": 6,
   "metadata": {},
   "outputs": [],
   "source": [
    "# There are 3 pieces info (i.e. living area, # of rooms, sold price) embedded \n",
    "# in the div class=sold-property-listing__subheading, need to separate them.\n",
    "\n",
    "info3 = body.select(\"div.sold-property-listing__subheading\")\n",
    "actual_info = [info.get_text().replace('\\n', '').replace('\\xa0', '').strip() for info in info3]"
   ]
  },
  {
   "cell_type": "code",
   "execution_count": 16,
   "metadata": {},
   "outputs": [
    {
     "data": {
      "text/plain": [
       "['68', '80,5', '37 + 15', '251', '34,6', '95']"
      ]
     },
     "execution_count": 16,
     "metadata": {},
     "output_type": "execute_result"
    }
   ],
   "source": [
    "# Living area\n",
    "\n",
    "area = [None for _ in range(50)]\n",
    "for i in range(len(actual_info)//2):\n",
    "    # if i % 2 == 0:\n",
    "    area[i] = re.search(r'(.*?)m²', actual_info[2 * i]).group(1).replace('                                 ', '')\n",
    "area[0:6]"
   ]
  },
  {
   "cell_type": "code",
   "execution_count": 17,
   "metadata": {},
   "outputs": [
    {
     "data": {
      "text/plain": [
       "[3200, 2225, 1000, 4450, 2300, 2065]"
      ]
     },
     "execution_count": 17,
     "metadata": {},
     "output_type": "execute_result"
    }
   ],
   "source": [
    "# Sold prices (in tKr) & Number of rooms\n",
    "\n",
    "prices = [0 for _ in range(50)]\n",
    "number_of_rooms = [None for _ in range(50)]\n",
    "for i in range(len(actual_info)//2):\n",
    "    prices[i] = int(int(re.search(r'Slutpris(.*?)kr', actual_info[2*i + 1]).group(1))/1000)\n",
    "    m = re.search(r'm²                          (.*?)rum', actual_info[2 * i])\n",
    "    if m:\n",
    "        number_of_rooms[i] = float(m.group(1).replace(',', '.').strip())\n",
    "prices[0:6]"
   ]
  },
  {
   "cell_type": "code",
   "execution_count": 18,
   "metadata": {},
   "outputs": [
    {
     "data": {
      "text/plain": [
       "[3.0, 4.0, 1.5, 7.0, 1.0, 3.0]"
      ]
     },
     "execution_count": 18,
     "metadata": {},
     "output_type": "execute_result"
    }
   ],
   "source": [
    "number_of_rooms[0:6]"
   ]
  },
  {
   "cell_type": "code",
   "execution_count": 19,
   "metadata": {},
   "outputs": [
    {
     "data": {
      "text/plain": [
       "['11 oktober 2020',\n",
       " '11 oktober 2020',\n",
       " '11 oktober 2020',\n",
       " '11 oktober 2020',\n",
       " '10 oktober 2020',\n",
       " '10 oktober 2020']"
      ]
     },
     "execution_count": 19,
     "metadata": {},
     "output_type": "execute_result"
    }
   ],
   "source": [
    "# Sold dates\n",
    "\n",
    "dates = body.select(\"div.sold-property-listing__sold-date\")\n",
    "actual_date = [date.get_text().replace('\\n', '').replace('Såld', '').strip() for date in dates]\n",
    "actual_date[0:6]"
   ]
  },
  {
   "cell_type": "code",
   "execution_count": 10,
   "metadata": {},
   "outputs": [],
   "source": [
    "# There are also 3 pieces info embeded in the div class=sold-property-listing__size\n",
    "# which we only need the monthly fees (avgift)\n",
    "\n",
    "sizes = body.select(\"div.sold-property-listing__size\")\n",
    "actual_size = [size.get_text().replace('\\n', '').replace('\\xa0', '').strip() for size in sizes]"
   ]
  },
  {
   "cell_type": "code",
   "execution_count": 20,
   "metadata": {},
   "outputs": [
    {
     "data": {
      "text/plain": [
       "[3509, 5809, 2138, None, 2538, 4956]"
      ]
     },
     "execution_count": 20,
     "metadata": {},
     "output_type": "execute_result"
    }
   ],
   "source": [
    "# Preset fees as None cause most houses (villa) do not have monthly fee. \n",
    "\n",
    "fees = [None for _ in range(50)]\n",
    "for i in range(len(actual_size)):\n",
    "    n = re.search(r'rum        (.*?)kr/mån', actual_size[i])\n",
    "    if n:\n",
    "        fees[i] = int(n.group(1).strip())\n",
    "fees[0:6]"
   ]
  },
  {
   "cell_type": "code",
   "execution_count": 12,
   "metadata": {},
   "outputs": [
    {
     "data": {
      "text/html": [
       "<div>\n",
       "<style scoped>\n",
       "    .dataframe tbody tr th:only-of-type {\n",
       "        vertical-align: middle;\n",
       "    }\n",
       "\n",
       "    .dataframe tbody tr th {\n",
       "        vertical-align: top;\n",
       "    }\n",
       "\n",
       "    .dataframe thead th {\n",
       "        text-align: right;\n",
       "    }\n",
       "</style>\n",
       "<table border=\"1\" class=\"dataframe\">\n",
       "  <thead>\n",
       "    <tr style=\"text-align: right;\">\n",
       "      <th></th>\n",
       "      <th>Addresses</th>\n",
       "      <th>Types</th>\n",
       "      <th>area (m²)</th>\n",
       "      <th># of rooms</th>\n",
       "      <th>Monthly Fees (Kr)</th>\n",
       "      <th>Sold Dates</th>\n",
       "      <th>Links</th>\n",
       "      <th>Prices (tKr)</th>\n",
       "    </tr>\n",
       "  </thead>\n",
       "  <tbody>\n",
       "    <tr>\n",
       "      <th>0</th>\n",
       "      <td>Södra Esplanaden 5A</td>\n",
       "      <td>Lägenhet</td>\n",
       "      <td>68</td>\n",
       "      <td>3.0</td>\n",
       "      <td>3509.0</td>\n",
       "      <td>11 oktober 2020</td>\n",
       "      <td>https://www.hemnet.se/salda/lagenhet-3rum-cent...</td>\n",
       "      <td>3200</td>\n",
       "    </tr>\n",
       "    <tr>\n",
       "      <th>1</th>\n",
       "      <td>Stralsundsvägen 92</td>\n",
       "      <td>Lägenhet</td>\n",
       "      <td>80,5</td>\n",
       "      <td>4.0</td>\n",
       "      <td>5809.0</td>\n",
       "      <td>11 oktober 2020</td>\n",
       "      <td>https://www.hemnet.se/salda/lagenhet-4rum-ostr...</td>\n",
       "      <td>2225</td>\n",
       "    </tr>\n",
       "    <tr>\n",
       "      <th>2</th>\n",
       "      <td>Vildgåsvägen 45</td>\n",
       "      <td>Lägenhet</td>\n",
       "      <td>37 + 15</td>\n",
       "      <td>1.5</td>\n",
       "      <td>2138.0</td>\n",
       "      <td>11 oktober 2020</td>\n",
       "      <td>https://www.hemnet.se/salda/lagenhet-1,5rum-ve...</td>\n",
       "      <td>1000</td>\n",
       "    </tr>\n",
       "    <tr>\n",
       "      <th>3</th>\n",
       "      <td>Vallkärratorn 502</td>\n",
       "      <td>Villa</td>\n",
       "      <td>251</td>\n",
       "      <td>7.0</td>\n",
       "      <td>NaN</td>\n",
       "      <td>11 oktober 2020</td>\n",
       "      <td>https://www.hemnet.se/salda/villa-7rum-stangby...</td>\n",
       "      <td>4450</td>\n",
       "    </tr>\n",
       "    <tr>\n",
       "      <th>4</th>\n",
       "      <td>Grönegatan 19B</td>\n",
       "      <td>Lägenhet</td>\n",
       "      <td>34,6</td>\n",
       "      <td>1.0</td>\n",
       "      <td>2538.0</td>\n",
       "      <td>10 oktober 2020</td>\n",
       "      <td>https://www.hemnet.se/salda/lagenhet-1rum-cent...</td>\n",
       "      <td>2300</td>\n",
       "    </tr>\n",
       "  </tbody>\n",
       "</table>\n",
       "</div>"
      ],
      "text/plain": [
       "             Addresses     Types area (m²)  # of rooms  Monthly Fees (Kr)  \\\n",
       "0  Södra Esplanaden 5A  Lägenhet        68         3.0             3509.0   \n",
       "1   Stralsundsvägen 92  Lägenhet      80,5         4.0             5809.0   \n",
       "2      Vildgåsvägen 45  Lägenhet   37 + 15         1.5             2138.0   \n",
       "3    Vallkärratorn 502     Villa       251         7.0                NaN   \n",
       "4       Grönegatan 19B  Lägenhet      34,6         1.0             2538.0   \n",
       "\n",
       "        Sold Dates                                              Links  \\\n",
       "0  11 oktober 2020  https://www.hemnet.se/salda/lagenhet-3rum-cent...   \n",
       "1  11 oktober 2020  https://www.hemnet.se/salda/lagenhet-4rum-ostr...   \n",
       "2  11 oktober 2020  https://www.hemnet.se/salda/lagenhet-1,5rum-ve...   \n",
       "3  11 oktober 2020  https://www.hemnet.se/salda/villa-7rum-stangby...   \n",
       "4  10 oktober 2020  https://www.hemnet.se/salda/lagenhet-1rum-cent...   \n",
       "\n",
       "   Prices (tKr)  \n",
       "0          3200  \n",
       "1          2225  \n",
       "2          1000  \n",
       "3          4450  \n",
       "4          2300  "
      ]
     },
     "execution_count": 12,
     "metadata": {},
     "output_type": "execute_result"
    }
   ],
   "source": [
    "# Now we organize all obtained info and make a table using Pandas and then save as a csv file. \n",
    "\n",
    "d = {'Addresses': str_addresses, 'Types': actual_type, 'area (m²)': area, '# of rooms': number_of_rooms, 'Monthly Fees (Kr)': fees, 'Sold Dates': actual_date,\n",
    "     'Links': actual_links, 'Prices (tKr)': prices}\n",
    "df = pd.DataFrame(data=d)\n",
    "df.to_csv('hemnet50.csv', index=False)\n",
    "\n",
    "all_data = pd.read_csv(\"hemnet50.csv\")\n",
    "all_data.head()"
   ]
  }
 ],
 "metadata": {
  "kernelspec": {
   "display_name": "Python 3",
   "language": "python",
   "name": "python3"
  },
  "language_info": {
   "codemirror_mode": {
    "name": "ipython",
    "version": 3
   },
   "file_extension": ".py",
   "mimetype": "text/x-python",
   "name": "python",
   "nbconvert_exporter": "python",
   "pygments_lexer": "ipython3",
   "version": "3.8.5"
  }
 },
 "nbformat": 4,
 "nbformat_minor": 4
}
