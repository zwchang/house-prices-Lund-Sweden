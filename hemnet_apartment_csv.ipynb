{
 "cells": [
  {
   "cell_type": "markdown",
   "metadata": {},
   "source": [
    "# Scrapping first-layer info"
   ]
  },
  {
   "cell_type": "markdown",
   "metadata": {},
   "source": [
    "## Import necessary libraries"
   ]
  },
  {
   "cell_type": "code",
   "execution_count": 3,
   "metadata": {},
   "outputs": [],
   "source": [
    "from bs4 import BeautifulSoup\n",
    "import pandas as pd\n",
    "import glob\n",
    "import re"
   ]
  },
  {
   "cell_type": "markdown",
   "metadata": {},
   "source": [
    "## Generate CSV file for each downloaded Hemnet page (50 in total)"
   ]
  },
  {
   "cell_type": "code",
   "execution_count": 26,
   "metadata": {},
   "outputs": [],
   "source": [
    "for p in range(49):\n",
    "\n",
    "    page = 'hemnet_page' + str(p+1) + '.html'\n",
    "    with open(page, 'r') as html_file:\n",
    "        soup = BeautifulSoup(html_file, 'html.parser')\n",
    "    body = soup.find('body')\n",
    "\n",
    "    links = body.select(\"li.sold-results__normal-hit a\")\n",
    "    actual_links = [link['href'] for link in links]\n",
    "\n",
    "    addresses = body.select(\"li.sold-results__normal-hit h2\")\n",
    "    str_addresses = [address.get_text().replace('\\n', '').strip() for address in addresses]\n",
    "\n",
    "    types = body.select(\"li.sold-results__normal-hit title\")\n",
    "    actual_type = [kind.get_text() for kind in types]\n",
    "\n",
    "    info3 = body.select(\"div.sold-property-listing__subheading\")\n",
    "    actual_info = [info.get_text().replace('\\n', '').replace('\\xa0', '').strip() for info in info3]\n",
    "    \n",
    "    # Apparently there's some exceptions for \"area\" which gives None value. These elements\n",
    "    # all have the room type as \"Gård/Skog\".\n",
    "\n",
    "    area = [None for _ in range(50)]\n",
    "    for i in range(len(actual_info)//2):\n",
    "        # if i % 2 == 0:\n",
    "        n = re.search(r'(.*?)m²', actual_info[2 * i])\n",
    "        if n:\n",
    "            area[i] = n.group(1).replace('                                 ', '')\n",
    "\n",
    "    prices = [0 for _ in range(50)]\n",
    "    number_of_rooms = [None for _ in range(50)]\n",
    "    for i in range(len(actual_info)//2):\n",
    "        prices[i] = int(int(re.search(r'Slutpris(.*?)kr', actual_info[2*i + 1]).group(1))/1000)\n",
    "        m = re.search(r'm²                          (.*?)rum', actual_info[2 * i])\n",
    "        if m:\n",
    "            number_of_rooms[i] = float(m.group(1).replace(',', '.').strip())\n",
    "\n",
    "    dates = body.select(\"div.sold-property-listing__sold-date\")\n",
    "    actual_date = [date.get_text().replace('\\n', '').replace('Såld', '').strip() for date in dates]\n",
    "\n",
    "    sizes = body.select(\"div.sold-property-listing__size\")\n",
    "    actual_size = [size.get_text().replace('\\n', '').replace('\\xa0', '').strip() for size in sizes]\n",
    "\n",
    "    fees = [None for _ in range(50)]\n",
    "    for i in range(len(actual_size)):\n",
    "        n = re.search(r'rum        (.*?)kr/mån', actual_size[i])\n",
    "        if n:\n",
    "            fees[i] = int(n.group(1).strip())\n",
    "\n",
    "    d = {'Addresses': str_addresses, 'Types': actual_type, 'area (m²)': area, '# of rooms': number_of_rooms, 'Monthly Fees (Kr)': fees, 'Sold Dates': actual_date,\n",
    "         'Links': actual_links, 'Prices (tKr)': prices}\n",
    "    df = pd.DataFrame(data=d)\n",
    "    \n",
    "    filename = 'hemnet' + str(p+1) + '.csv'\n",
    "\n",
    "    df.to_csv(filename, index=False)"
   ]
  },
  {
   "cell_type": "markdown",
   "metadata": {},
   "source": [
    "## Merge all 50 csvs into 1 file"
   ]
  },
  {
   "cell_type": "code",
   "execution_count": null,
   "metadata": {},
   "outputs": [],
   "source": [
    "all_files = glob.glob(\"*.csv\")\n",
    "\n",
    "li = []\n",
    "\n",
    "for filename in all_files:\n",
    "    df = pd.read_csv(filename, index_col=None, header=0)\n",
    "    li.append(df)\n",
    "\n",
    "frame = pd.concat(li, axis=0, ignore_index=True)\n",
    "frame.to_csv('hemnet.csv', index=False)"
   ]
  },
  {
   "cell_type": "markdown",
   "metadata": {},
   "source": [
    "## Check the result"
   ]
  },
  {
   "cell_type": "code",
   "execution_count": 5,
   "metadata": {},
   "outputs": [
    {
     "name": "stdout",
     "output_type": "stream",
     "text": [
      "           Addresses     Types area (m²)  # of rooms  Monthly Fees (Kr)  \\\n",
      "0   Flormansgatan 2A  Lägenhet        43         1.5             2767.0   \n",
      "1  Kastanjegatan 19F  Lägenhet        34         2.0             2415.0   \n",
      "2   Karl XI gatan 47  Lägenhet      87,4         3.0             5787.0   \n",
      "3          Äspet 163     Villa  158 + 22         8.0                NaN   \n",
      "4  Margaretavägen 3K  Lägenhet        78         3.0             4584.0   \n",
      "\n",
      "          Sold Dates                                              Links  \\\n",
      "0  30 september 2021  https://www.hemnet.se/salda/lagenhet-1,5rum-ce...   \n",
      "1  30 september 2021  https://www.hemnet.se/salda/lagenhet-2rum-jarn...   \n",
      "2  30 september 2021  https://www.hemnet.se/salda/lagenhet-3rum-lund...   \n",
      "3  30 september 2021  https://www.hemnet.se/salda/villa-8rum-lunds-k...   \n",
      "4  30 september 2021  https://www.hemnet.se/salda/lagenhet-3rum-moll...   \n",
      "\n",
      "   Prices (tKr)  \n",
      "0          2370  \n",
      "1          1745  \n",
      "2          4700  \n",
      "3          5350  \n",
      "4          2750  \n"
     ]
    }
   ],
   "source": [
    "df = pd.read_csv('hemnet.csv')\n",
    "print(df.head(5))"
   ]
  },
  {
   "cell_type": "markdown",
   "metadata": {},
   "source": [
    "## Check the housing type"
   ]
  },
  {
   "cell_type": "code",
   "execution_count": 6,
   "metadata": {},
   "outputs": [
    {
     "data": {
      "text/plain": [
       "{'Fritidshus', 'Gård/Skog', 'Lägenhet', 'Radhus', 'Tomt', 'Villa', 'Övrigt'}"
      ]
     },
     "execution_count": 6,
     "metadata": {},
     "output_type": "execute_result"
    }
   ],
   "source": [
    "set(df['Types'])"
   ]
  },
  {
   "cell_type": "markdown",
   "metadata": {},
   "source": [
    "## Generate a dataframe for only apartments"
   ]
  },
  {
   "cell_type": "code",
   "execution_count": 7,
   "metadata": {},
   "outputs": [
    {
     "data": {
      "text/html": [
       "<div>\n",
       "<style scoped>\n",
       "    .dataframe tbody tr th:only-of-type {\n",
       "        vertical-align: middle;\n",
       "    }\n",
       "\n",
       "    .dataframe tbody tr th {\n",
       "        vertical-align: top;\n",
       "    }\n",
       "\n",
       "    .dataframe thead th {\n",
       "        text-align: right;\n",
       "    }\n",
       "</style>\n",
       "<table border=\"1\" class=\"dataframe\">\n",
       "  <thead>\n",
       "    <tr style=\"text-align: right;\">\n",
       "      <th></th>\n",
       "      <th>Addresses</th>\n",
       "      <th>Types</th>\n",
       "      <th>area (m²)</th>\n",
       "      <th># of rooms</th>\n",
       "      <th>Monthly Fees (Kr)</th>\n",
       "      <th>Sold Dates</th>\n",
       "      <th>Links</th>\n",
       "      <th>Prices (tKr)</th>\n",
       "    </tr>\n",
       "  </thead>\n",
       "  <tbody>\n",
       "    <tr>\n",
       "      <th>0</th>\n",
       "      <td>Flormansgatan 2A</td>\n",
       "      <td>Lägenhet</td>\n",
       "      <td>43</td>\n",
       "      <td>1.5</td>\n",
       "      <td>2767.0</td>\n",
       "      <td>30 september 2021</td>\n",
       "      <td>https://www.hemnet.se/salda/lagenhet-1,5rum-ce...</td>\n",
       "      <td>2370</td>\n",
       "    </tr>\n",
       "    <tr>\n",
       "      <th>1</th>\n",
       "      <td>Kastanjegatan 19F</td>\n",
       "      <td>Lägenhet</td>\n",
       "      <td>34</td>\n",
       "      <td>2.0</td>\n",
       "      <td>2415.0</td>\n",
       "      <td>30 september 2021</td>\n",
       "      <td>https://www.hemnet.se/salda/lagenhet-2rum-jarn...</td>\n",
       "      <td>1745</td>\n",
       "    </tr>\n",
       "    <tr>\n",
       "      <th>2</th>\n",
       "      <td>Karl XI gatan 47</td>\n",
       "      <td>Lägenhet</td>\n",
       "      <td>87,4</td>\n",
       "      <td>3.0</td>\n",
       "      <td>5787.0</td>\n",
       "      <td>30 september 2021</td>\n",
       "      <td>https://www.hemnet.se/salda/lagenhet-3rum-lund...</td>\n",
       "      <td>4700</td>\n",
       "    </tr>\n",
       "    <tr>\n",
       "      <th>4</th>\n",
       "      <td>Margaretavägen 3K</td>\n",
       "      <td>Lägenhet</td>\n",
       "      <td>78</td>\n",
       "      <td>3.0</td>\n",
       "      <td>4584.0</td>\n",
       "      <td>30 september 2021</td>\n",
       "      <td>https://www.hemnet.se/salda/lagenhet-3rum-moll...</td>\n",
       "      <td>2750</td>\n",
       "    </tr>\n",
       "    <tr>\n",
       "      <th>5</th>\n",
       "      <td>Qvantenborgsvägen 4B</td>\n",
       "      <td>Lägenhet</td>\n",
       "      <td>59</td>\n",
       "      <td>2.0</td>\n",
       "      <td>3125.0</td>\n",
       "      <td>29 september 2021</td>\n",
       "      <td>https://www.hemnet.se/salda/lagenhet-2rum-kobj...</td>\n",
       "      <td>2250</td>\n",
       "    </tr>\n",
       "  </tbody>\n",
       "</table>\n",
       "</div>"
      ],
      "text/plain": [
       "              Addresses     Types area (m²)  # of rooms  Monthly Fees (Kr)  \\\n",
       "0      Flormansgatan 2A  Lägenhet        43         1.5             2767.0   \n",
       "1     Kastanjegatan 19F  Lägenhet        34         2.0             2415.0   \n",
       "2      Karl XI gatan 47  Lägenhet      87,4         3.0             5787.0   \n",
       "4     Margaretavägen 3K  Lägenhet        78         3.0             4584.0   \n",
       "5  Qvantenborgsvägen 4B  Lägenhet        59         2.0             3125.0   \n",
       "\n",
       "          Sold Dates                                              Links  \\\n",
       "0  30 september 2021  https://www.hemnet.se/salda/lagenhet-1,5rum-ce...   \n",
       "1  30 september 2021  https://www.hemnet.se/salda/lagenhet-2rum-jarn...   \n",
       "2  30 september 2021  https://www.hemnet.se/salda/lagenhet-3rum-lund...   \n",
       "4  30 september 2021  https://www.hemnet.se/salda/lagenhet-3rum-moll...   \n",
       "5  29 september 2021  https://www.hemnet.se/salda/lagenhet-2rum-kobj...   \n",
       "\n",
       "   Prices (tKr)  \n",
       "0          2370  \n",
       "1          1745  \n",
       "2          4700  \n",
       "4          2750  \n",
       "5          2250  "
      ]
     },
     "execution_count": 7,
     "metadata": {},
     "output_type": "execute_result"
    }
   ],
   "source": [
    "apart_df = df[df['Types'] == 'Lägenhet']\n",
    "apart_df.head()"
   ]
  },
  {
   "cell_type": "markdown",
   "metadata": {},
   "source": [
    "## Save as a CSV file"
   ]
  },
  {
   "cell_type": "code",
   "execution_count": null,
   "metadata": {},
   "outputs": [],
   "source": [
    "apart_df.to_csv('apart_df.csv')"
   ]
  }
 ],
 "metadata": {
  "kernelspec": {
   "display_name": "Python 3",
   "language": "python",
   "name": "python3"
  },
  "language_info": {
   "codemirror_mode": {
    "name": "ipython",
    "version": 3
   },
   "file_extension": ".py",
   "mimetype": "text/x-python",
   "name": "python",
   "nbconvert_exporter": "python",
   "pygments_lexer": "ipython3",
   "version": "3.8.5"
  }
 },
 "nbformat": 4,
 "nbformat_minor": 4
}
