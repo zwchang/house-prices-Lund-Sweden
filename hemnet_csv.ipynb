{
 "cells": [
  {
   "cell_type": "markdown",
   "metadata": {},
   "source": [
    "# Scrapping first-layer info for all 2500 sold properites and save as a csv file."
   ]
  },
  {
   "cell_type": "code",
   "execution_count": 1,
   "metadata": {},
   "outputs": [],
   "source": [
    "from bs4 import BeautifulSoup\n",
    "import pandas as pd\n",
    "import glob\n",
    "import re"
   ]
  },
  {
   "cell_type": "code",
   "execution_count": 26,
   "metadata": {},
   "outputs": [],
   "source": [
    "# Generate csv file for each Hemnet page (total 50)\n",
    "\n",
    "for p in range(49):\n",
    "\n",
    "    page = 'hemnet_page' + str(p+1) + '.html'\n",
    "    with open(page, 'r') as html_file:\n",
    "        soup = BeautifulSoup(html_file, 'html.parser')\n",
    "    body = soup.find('body')\n",
    "\n",
    "    links = body.select(\"li.sold-results__normal-hit a\")\n",
    "    actual_links = [link['href'] for link in links]\n",
    "\n",
    "    addresses = body.select(\"li.sold-results__normal-hit h2\")\n",
    "    str_addresses = [address.get_text().replace('\\n', '').strip() for address in addresses]\n",
    "\n",
    "    types = body.select(\"li.sold-results__normal-hit title\")\n",
    "    actual_type = [kind.get_text() for kind in types]\n",
    "\n",
    "    info3 = body.select(\"div.sold-property-listing__subheading\")\n",
    "    actual_info = [info.get_text().replace('\\n', '').replace('\\xa0', '').strip() for info in info3]\n",
    "    \n",
    "    # Apparently there's some exceptions for \"area\" which gives None value. These elements\n",
    "    # all have the room type as \"Gård/Skog\".\n",
    "\n",
    "    area = [None for _ in range(50)]\n",
    "    for i in range(len(actual_info)//2):\n",
    "        # if i % 2 == 0:\n",
    "        n = re.search(r'(.*?)m²', actual_info[2 * i])\n",
    "        if n:\n",
    "            area[i] = n.group(1).replace('                                 ', '')\n",
    "\n",
    "    prices = [0 for _ in range(50)]\n",
    "    number_of_rooms = [None for _ in range(50)]\n",
    "    for i in range(len(actual_info)//2):\n",
    "        prices[i] = int(int(re.search(r'Slutpris(.*?)kr', actual_info[2*i + 1]).group(1))/1000)\n",
    "        m = re.search(r'm²                          (.*?)rum', actual_info[2 * i])\n",
    "        if m:\n",
    "            number_of_rooms[i] = float(m.group(1).replace(',', '.').strip())\n",
    "\n",
    "    dates = body.select(\"div.sold-property-listing__sold-date\")\n",
    "    actual_date = [date.get_text().replace('\\n', '').replace('Såld', '').strip() for date in dates]\n",
    "\n",
    "    sizes = body.select(\"div.sold-property-listing__size\")\n",
    "    actual_size = [size.get_text().replace('\\n', '').replace('\\xa0', '').strip() for size in sizes]\n",
    "\n",
    "    fees = [None for _ in range(50)]\n",
    "    for i in range(len(actual_size)):\n",
    "        n = re.search(r'rum        (.*?)kr/mån', actual_size[i])\n",
    "        if n:\n",
    "            fees[i] = int(n.group(1).strip())\n",
    "\n",
    "    d = {'Addresses': str_addresses, 'Types': actual_type, 'area (m²)': area, '# of rooms': number_of_rooms, 'Monthly Fees (Kr)': fees, 'Sold Dates': actual_date,\n",
    "         'Links': actual_links, 'Prices (tKr)': prices}\n",
    "    df = pd.DataFrame(data=d)\n",
    "    \n",
    "    filename = 'hemnet' + str(p+1) + '.csv'\n",
    "\n",
    "    df.to_csv(filename, index=False)"
   ]
  },
  {
   "cell_type": "code",
   "execution_count": null,
   "metadata": {},
   "outputs": [],
   "source": [
    "# Combine 50 csvs into 1 file\n",
    "\n",
    "all_files = glob.glob(\"*.csv\")\n",
    "\n",
    "li = []\n",
    "\n",
    "for filename in all_files:\n",
    "    df = pd.read_csv(filename, index_col=None, header=0)\n",
    "    li.append(df)\n",
    "\n",
    "frame = pd.concat(li, axis=0, ignore_index=True)\n",
    "frame.to_csv('hemnet.csv', index=False)"
   ]
  }
 ],
 "metadata": {
  "kernelspec": {
   "display_name": "Python 3",
   "language": "python",
   "name": "python3"
  },
  "language_info": {
   "codemirror_mode": {
    "name": "ipython",
    "version": 3
   },
   "file_extension": ".py",
   "mimetype": "text/x-python",
   "name": "python",
   "nbconvert_exporter": "python",
   "pygments_lexer": "ipython3",
   "version": "3.8.5"
  }
 },
 "nbformat": 4,
 "nbformat_minor": 4
}
