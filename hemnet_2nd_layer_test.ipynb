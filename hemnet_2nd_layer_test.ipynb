{
 "cells": [
  {
   "cell_type": "markdown",
   "metadata": {},
   "source": [
    "# Scrapping 2nd layer info from an example link"
   ]
  },
  {
   "cell_type": "code",
   "execution_count": 1,
   "metadata": {},
   "outputs": [],
   "source": [
    "# Import necessary libraries\n",
    "\n",
    "import requests\n",
    "from bs4 import BeautifulSoup\n",
    "import pandas as pd\n",
    "import re"
   ]
  },
  {
   "cell_type": "code",
   "execution_count": 2,
   "metadata": {},
   "outputs": [],
   "source": [
    "# Specify a header to pass robot detection\n",
    "\n",
    "headers = {'User-Agent': 'Mozilla/5.0 (Windows NT 6.1; WOW64; rv:20.0) Gecko/20100101 Firefox/20.0'}"
   ]
  },
  {
   "cell_type": "code",
   "execution_count": 8,
   "metadata": {},
   "outputs": [],
   "source": [
    "# For an individual link, we look for info inside the <body> tag\n",
    "\n",
    "r = requests.get('https://www.hemnet.se/salda/lagenhet-1rum-jarnakra-lunds-kommun-jarnakravagen-13c-1267145',\n",
    "                 headers=headers)\n",
    "soup = BeautifulSoup(r.content, 'html.parser')\n",
    "\n",
    "body = soup.find('body')"
   ]
  },
  {
   "cell_type": "code",
   "execution_count": 28,
   "metadata": {},
   "outputs": [
    {
     "name": "stdout",
     "output_type": "stream",
     "text": [
      "60845kr/m²\n",
      "1975000kr\n",
      "+185000 kr (+9%)\n",
      "Lägenhet\n",
      "Bostadsrätt\n",
      "1 rum\n",
      "35,5 m²\n",
      "Ja\n",
      "3 av 4, hiss finns ej\n",
      "1957\n",
      "1598kr/mån\n"
     ]
    }
   ],
   "source": [
    "# We find the relevant info under <dd class=\"sold-property__attribute-value\"> \n",
    "\n",
    "properties1 = body.select(\"dd.sold-property__attribute-value\")\n",
    "\n",
    "for i in range(len(properties1)):\n",
    "    print(str(properties1[i]).replace('<dd class=\"sold-property__attribute-value\">', '').replace('</dd>', '')\n",
    "         .replace('\\n','').replace('\\xa0','').replace('<i class=\"fa fa-arrow-circle-o-up fa-lg price-icon--up\"></i>','')\n",
    "          .strip())"
   ]
  },
  {
   "cell_type": "markdown",
   "metadata": {},
   "source": [
    "## From the above code, we obtain the following info for a specific sold property:\n",
    "* Price per square meters\n",
    "* Sold price\n",
    "* Price increase (compared to the asking price)\n",
    "* Housing type\n",
    "* Number of room\n",
    "* Living area size\n",
    "* Whether there is balcony\n",
    "* floor number/total building floor, whether there is an elevator\n",
    "* Year of build\n",
    "* Monthly fee (avgift)\n",
    "## Some items have already been provided in the 1st-layer info."
   ]
  }
 ],
 "metadata": {
  "kernelspec": {
   "display_name": "Python 3",
   "language": "python",
   "name": "python3"
  },
  "language_info": {
   "codemirror_mode": {
    "name": "ipython",
    "version": 3
   },
   "file_extension": ".py",
   "mimetype": "text/x-python",
   "name": "python",
   "nbconvert_exporter": "python",
   "pygments_lexer": "ipython3",
   "version": "3.8.5"
  }
 },
 "nbformat": 4,
 "nbformat_minor": 4
}
