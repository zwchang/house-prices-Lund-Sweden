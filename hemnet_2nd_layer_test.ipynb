{
 "cells": [
  {
   "cell_type": "markdown",
   "metadata": {},
   "source": [
    "# Scrapping 2nd layer info from an individual link"
   ]
  },
  {
   "cell_type": "markdown",
   "metadata": {},
   "source": [
    "## Import necessary libraries\n"
   ]
  },
  {
   "cell_type": "code",
   "execution_count": 1,
   "metadata": {},
   "outputs": [],
   "source": [
    "import requests\n",
    "from bs4 import BeautifulSoup\n",
    "import pandas as pd\n",
    "import re"
   ]
  },
  {
   "cell_type": "markdown",
   "metadata": {},
   "source": [
    "## Spercify a header to pass the robot detection"
   ]
  },
  {
   "cell_type": "code",
   "execution_count": 2,
   "metadata": {},
   "outputs": [],
   "source": [
    "headers = {'User-Agent': 'Mozilla/5.0 (Windows NT 6.1; WOW64; rv:20.0) Gecko/20100101 Firefox/20.0'}"
   ]
  },
  {
   "cell_type": "markdown",
   "metadata": {},
   "source": [
    "## Scrapping info from an example link"
   ]
  },
  {
   "cell_type": "code",
   "execution_count": 6,
   "metadata": {},
   "outputs": [
    {
     "name": "stdout",
     "output_type": "stream",
     "text": [
      "69410kr/m²\n",
      "10000000kr\n",
      "+1,05milj. kr (+11%)\n",
      "Lägenhet\n",
      "Bostadsrätt\n",
      "5 rum\n",
      "159,2 m²\n",
      "Ja\n",
      "3 av 4, hiss finns ej\n",
      "1903\n",
      "4868kr/mån\n",
      "['Joacim Ernstsson', 'Bjurfors Lund Väster']\n"
     ]
    }
   ],
   "source": [
    "df = pd.read_csv('apart_df.csv')\n",
    "\n",
    "link_ind=1970\n",
    "\n",
    "r = requests.get(df['Links'][link_ind], headers=headers)\n",
    "\n",
    "soup = BeautifulSoup(r.content, 'html.parser')\n",
    "\n",
    "body = soup.find('body')\n",
    "\n",
    "\n",
    "properties1 = body.select(\"dd.sold-property__attribute-value\")\n",
    "properties2 = body.select(\"div.broker-card__info\")\n",
    "\n",
    "for i in range(len(properties1)):\n",
    "    print(str(properties1[i]).replace('<dd class=\"sold-property__attribute-value\">', '').replace('</dd>', '')\n",
    "         .replace('\\n','').replace('\\xa0','').replace('<i class=\"fa fa-arrow-circle-o-up fa-lg price-icon--up\"></i>','')\n",
    "          .strip())\n",
    "\n",
    "# Here we shall pay special attention to the order of string replacement. The first replaced string can not be\n",
    "# a subset of the second string going to be replaced.\n",
    "print(properties2[0].get_text().replace('\\n', '').replace('Kontakta mäklarkontoret','').replace('Kontakta mäklaren','').replace('Kontakt','').strip().split(\"      \"))"
   ]
  },
  {
   "cell_type": "markdown",
   "metadata": {},
   "source": [
    "## From the above code, we obtain the following info for a specific sold property:\n",
    "\n",
    "1. Price per square meters\n",
    "2. Sold price\n",
    "3. Price increase (compared to the asking price)\n",
    "4. Housing type\n",
    "5. Number of room\n",
    "6. Living area size\n",
    "7. Whether there is balcony\n",
    "8. floor number/total building floor, whether there is an elevator\n",
    "9. Year of build\n",
    "10. Monthly fee (avgift)\n",
    "11. Broker who sold this property\n",
    "12. Brokerage agency"
   ]
  },
  {
   "cell_type": "markdown",
   "metadata": {},
   "source": [
    "### The items (1-6, and 10) have already been provided in the 1st-layer info. Moreover, we noticed that the information of broker/agency is structured differently than other info. Therefore, we shall deal with them separately."
   ]
  }
 ],
 "metadata": {
  "kernelspec": {
   "display_name": "Python 3",
   "language": "python",
   "name": "python3"
  },
  "language_info": {
   "codemirror_mode": {
    "name": "ipython",
    "version": 3
   },
   "file_extension": ".py",
   "mimetype": "text/x-python",
   "name": "python",
   "nbconvert_exporter": "python",
   "pygments_lexer": "ipython3",
   "version": "3.8.5"
  }
 },
 "nbformat": 4,
 "nbformat_minor": 4
}
