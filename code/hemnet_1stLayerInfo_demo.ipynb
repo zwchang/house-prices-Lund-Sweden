{
 "cells": [
  {
   "cell_type": "markdown",
   "metadata": {},
   "source": [
    "# Demonstration of Web scrapping from a Hemnet sample page"
   ]
  },
  {
   "cell_type": "code",
   "execution_count": 1,
   "metadata": {},
   "outputs": [],
   "source": [
    "# Import necessary libraries\n",
    "\n",
    "from bs4 import BeautifulSoup\n",
    "import pandas as pd\n",
    "import re"
   ]
  },
  {
   "cell_type": "markdown",
   "metadata": {},
   "source": [
    "## 1. Scrap info from the html \\<body\\> tag"
   ]
  },
  {
   "cell_type": "code",
   "execution_count": 2,
   "metadata": {},
   "outputs": [],
   "source": [
    "with open('hemnet_page50.html', 'r') as html_file:\n",
    "    soup = BeautifulSoup(html_file, 'html.parser')\n",
    "body = soup.find('body')"
   ]
  },
  {
   "cell_type": "markdown",
   "metadata": {},
   "source": [
    "### 1.1. Individual link for each sold property"
   ]
  },
  {
   "cell_type": "code",
   "execution_count": 7,
   "metadata": {},
   "outputs": [
    {
     "data": {
      "text/plain": [
       "['https://www.hemnet.se/salda/lagenhet-3rum-centrum-lunds-kommun-sodra-esplanaden-5a-1268410',\n",
       " 'https://www.hemnet.se/salda/lagenhet-4rum-ostra-torn-lunds-kommun-stralsundsvagen-92-1268390',\n",
       " 'https://www.hemnet.se/salda/lagenhet-1,5rum-veberod-lunds-kommun-vildgasvagen-45-1268417']"
      ]
     },
     "execution_count": 7,
     "metadata": {},
     "output_type": "execute_result"
    }
   ],
   "source": [
    "# These links provide additional information (e.g. year of build, agent, etc.) which I refered to as second-layer info.\n",
    "\n",
    "link_info = body.select(\"li.sold-results__normal-hit a\")\n",
    "links = [link['href'] for link in link_info]\n",
    "\n",
    "print(links[0:3])"
   ]
  },
  {
   "cell_type": "markdown",
   "metadata": {},
   "source": [
    "### 1.2. Addresses"
   ]
  },
  {
   "cell_type": "code",
   "execution_count": 8,
   "metadata": {},
   "outputs": [
    {
     "data": {
      "text/plain": [
       "['Södra Esplanaden 5A', 'Stralsundsvägen 92', 'Vildgåsvägen 45']"
      ]
     },
     "execution_count": 8,
     "metadata": {},
     "output_type": "execute_result"
    }
   ],
   "source": [
    "# Get address for each property \n",
    "\n",
    "str_addresses = body.select(\"li.sold-results__normal-hit h2\")\n",
    "addresses = [address.get_text().replace('\\n', '').strip() for address in str_addresses]\n",
    "\n",
    "print(addresses[0:3])"
   ]
  },
  {
   "cell_type": "markdown",
   "metadata": {},
   "source": [
    "### 1.3. Property type"
   ]
  },
  {
   "cell_type": "code",
   "execution_count": 10,
   "metadata": {},
   "outputs": [
    {
     "data": {
      "text/plain": [
       "['Lägenhet', 'Lägenhet', 'Lägenhet', 'Villa', 'Lägenhet', 'Lägenhet']"
      ]
     },
     "execution_count": 10,
     "metadata": {},
     "output_type": "execute_result"
    }
   ],
   "source": [
    "# Get building type\n",
    "\n",
    "str_types = body.select(\"li.sold-results__normal-hit title\")\n",
    "types = [type.get_text() for type in str_types]\n",
    "\n",
    "print(types[0:6])"
   ]
  },
  {
   "cell_type": "code",
   "execution_count": 11,
   "metadata": {},
   "outputs": [],
   "source": [
    "# There are 3 pieces of info: living area, # of rooms, and sold price embedded \n",
    "# in the div class=sold-property-listing__subheading, need to separate them.\n",
    "\n",
    "info_3piece = body.select(\"div.sold-property-listing__subheading\")\n",
    "info = [item.get_text().replace('\\n', '').replace('\\xa0', '').strip() for item in info_3piece]"
   ]
  },
  {
   "cell_type": "markdown",
   "metadata": {},
   "source": [
    "### 1.4. Living area"
   ]
  },
  {
   "cell_type": "code",
   "execution_count": 12,
   "metadata": {},
   "outputs": [
    {
     "data": {
      "text/plain": [
       "['68', '80,5', '37 + 15', '251', '34,6', '95']"
      ]
     },
     "execution_count": 12,
     "metadata": {},
     "output_type": "execute_result"
    }
   ],
   "source": [
    "area = [None for _ in range(50)]\n",
    "for i in range(len(info)//2):\n",
    "    area[i] = re.search(r'(.*?)m²', info[2 * i]).group(1).replace('                                 ', '')\n",
    "\n",
    "print(area[0:6])"
   ]
  },
  {
   "cell_type": "markdown",
   "metadata": {},
   "source": [
    "### 1.5 Sold prices (in tKr) & Number of rooms"
   ]
  },
  {
   "cell_type": "code",
   "execution_count": 14,
   "metadata": {},
   "outputs": [
    {
     "name": "stdout",
     "output_type": "stream",
     "text": [
      "[3200, 2225, 1000, 4450, 2300, 2065]\n",
      "[3.0, 4.0, 1.5, 7.0, 1.0, 3.0]\n"
     ]
    }
   ],
   "source": [
    "prices = [0 for _ in range(50)]\n",
    "number_of_rooms = [None for _ in range(50)]\n",
    "\n",
    "for i in range(len(info)//2):\n",
    "    prices[i] = int(int(re.search(r'Slutpris(.*?)kr', info[2*i + 1]).group(1))/1000)\n",
    "    m = re.search(r'm²                          (.*?)rum', info[2 * i])\n",
    "    if m:  # this if condition is necessary cause group() does not work for None type\n",
    "        number_of_rooms[i] = float(m.group(1).replace(',', '.').strip())\n",
    "\n",
    "print(prices[0:6])\n",
    "print(number_of_rooms[0:6])"
   ]
  },
  {
   "cell_type": "markdown",
   "metadata": {},
   "source": [
    "### 1.6 Sold dates"
   ]
  },
  {
   "cell_type": "code",
   "execution_count": 16,
   "metadata": {},
   "outputs": [
    {
     "data": {
      "text/plain": [
       "['11 oktober 2020',\n",
       " '11 oktober 2020',\n",
       " '11 oktober 2020',\n",
       " '11 oktober 2020',\n",
       " '10 oktober 2020']"
      ]
     },
     "execution_count": 16,
     "metadata": {},
     "output_type": "execute_result"
    }
   ],
   "source": [
    "dates = body.select(\"div.sold-property-listing__sold-date\")\n",
    "sold_date = [date.get_text().replace('\\n', '').replace('Såld', '').strip() for date in dates]\n",
    "\n",
    "print(sold_date[0:5])"
   ]
  },
  {
   "cell_type": "markdown",
   "metadata": {},
   "source": [
    "### 1.7 Monthly fees (avgift) in Kr"
   ]
  },
  {
   "cell_type": "code",
   "execution_count": 19,
   "metadata": {},
   "outputs": [],
   "source": [
    "# There are also 3 pieces info embeded in the div class=sold-property-listing__size\n",
    "# which we only need the monthly fees (avgift)\n",
    "\n",
    "sizes = body.select(\"div.sold-property-listing__size\")\n",
    "size_and_avgift = [size.get_text().replace('\\n', '').replace('\\xa0', '').strip() for size in sizes]"
   ]
  },
  {
   "cell_type": "code",
   "execution_count": 20,
   "metadata": {},
   "outputs": [
    {
     "name": "stdout",
     "output_type": "stream",
     "text": [
      "[3509, 5809, 2138, None, 2538]\n"
     ]
    }
   ],
   "source": [
    "# Preset avgift as None type cause most houses (villa) do not have that. \n",
    "\n",
    "avgift = [None for _ in range(50)]\n",
    "\n",
    "for i in range(len(size_and_avgift )):\n",
    "    n = re.search(r'rum        (.*?)kr/mån', size_and_avgift[i])\n",
    "    if n:\n",
    "        avgift[i] = int(n.group(1).strip())\n",
    "\n",
    "print(avgift[0:5])"
   ]
  },
  {
   "cell_type": "markdown",
   "metadata": {},
   "source": [
    "## 2. Create dataframe"
   ]
  },
  {
   "cell_type": "code",
   "execution_count": 21,
   "metadata": {},
   "outputs": [
    {
     "data": {
      "text/html": [
       "<div>\n",
       "<style scoped>\n",
       "    .dataframe tbody tr th:only-of-type {\n",
       "        vertical-align: middle;\n",
       "    }\n",
       "\n",
       "    .dataframe tbody tr th {\n",
       "        vertical-align: top;\n",
       "    }\n",
       "\n",
       "    .dataframe thead th {\n",
       "        text-align: right;\n",
       "    }\n",
       "</style>\n",
       "<table border=\"1\" class=\"dataframe\">\n",
       "  <thead>\n",
       "    <tr style=\"text-align: right;\">\n",
       "      <th></th>\n",
       "      <th>Addresses</th>\n",
       "      <th>Types</th>\n",
       "      <th>Area</th>\n",
       "      <th>RoomCount</th>\n",
       "      <th>Avgift</th>\n",
       "      <th>SoldDate</th>\n",
       "      <th>Links</th>\n",
       "      <th>Prices</th>\n",
       "    </tr>\n",
       "  </thead>\n",
       "  <tbody>\n",
       "    <tr>\n",
       "      <th>0</th>\n",
       "      <td>Södra Esplanaden 5A</td>\n",
       "      <td>Lägenhet</td>\n",
       "      <td>68</td>\n",
       "      <td>3.0</td>\n",
       "      <td>3509.0</td>\n",
       "      <td>11 oktober 2020</td>\n",
       "      <td>https://www.hemnet.se/salda/lagenhet-3rum-cent...</td>\n",
       "      <td>3200</td>\n",
       "    </tr>\n",
       "    <tr>\n",
       "      <th>1</th>\n",
       "      <td>Stralsundsvägen 92</td>\n",
       "      <td>Lägenhet</td>\n",
       "      <td>80,5</td>\n",
       "      <td>4.0</td>\n",
       "      <td>5809.0</td>\n",
       "      <td>11 oktober 2020</td>\n",
       "      <td>https://www.hemnet.se/salda/lagenhet-4rum-ostr...</td>\n",
       "      <td>2225</td>\n",
       "    </tr>\n",
       "    <tr>\n",
       "      <th>2</th>\n",
       "      <td>Vildgåsvägen 45</td>\n",
       "      <td>Lägenhet</td>\n",
       "      <td>37 + 15</td>\n",
       "      <td>1.5</td>\n",
       "      <td>2138.0</td>\n",
       "      <td>11 oktober 2020</td>\n",
       "      <td>https://www.hemnet.se/salda/lagenhet-1,5rum-ve...</td>\n",
       "      <td>1000</td>\n",
       "    </tr>\n",
       "    <tr>\n",
       "      <th>3</th>\n",
       "      <td>Vallkärratorn 502</td>\n",
       "      <td>Villa</td>\n",
       "      <td>251</td>\n",
       "      <td>7.0</td>\n",
       "      <td>NaN</td>\n",
       "      <td>11 oktober 2020</td>\n",
       "      <td>https://www.hemnet.se/salda/villa-7rum-stangby...</td>\n",
       "      <td>4450</td>\n",
       "    </tr>\n",
       "    <tr>\n",
       "      <th>4</th>\n",
       "      <td>Grönegatan 19B</td>\n",
       "      <td>Lägenhet</td>\n",
       "      <td>34,6</td>\n",
       "      <td>1.0</td>\n",
       "      <td>2538.0</td>\n",
       "      <td>10 oktober 2020</td>\n",
       "      <td>https://www.hemnet.se/salda/lagenhet-1rum-cent...</td>\n",
       "      <td>2300</td>\n",
       "    </tr>\n",
       "  </tbody>\n",
       "</table>\n",
       "</div>"
      ],
      "text/plain": [
       "             Addresses     Types     Area  RoomCount  Avgift         SoldDate  \\\n",
       "0  Södra Esplanaden 5A  Lägenhet       68        3.0  3509.0  11 oktober 2020   \n",
       "1   Stralsundsvägen 92  Lägenhet     80,5        4.0  5809.0  11 oktober 2020   \n",
       "2      Vildgåsvägen 45  Lägenhet  37 + 15        1.5  2138.0  11 oktober 2020   \n",
       "3    Vallkärratorn 502     Villa      251        7.0     NaN  11 oktober 2020   \n",
       "4       Grönegatan 19B  Lägenhet     34,6        1.0  2538.0  10 oktober 2020   \n",
       "\n",
       "                                               Links  Prices  \n",
       "0  https://www.hemnet.se/salda/lagenhet-3rum-cent...    3200  \n",
       "1  https://www.hemnet.se/salda/lagenhet-4rum-ostr...    2225  \n",
       "2  https://www.hemnet.se/salda/lagenhet-1,5rum-ve...    1000  \n",
       "3  https://www.hemnet.se/salda/villa-7rum-stangby...    4450  \n",
       "4  https://www.hemnet.se/salda/lagenhet-1rum-cent...    2300  "
      ]
     },
     "execution_count": 21,
     "metadata": {},
     "output_type": "execute_result"
    }
   ],
   "source": [
    "d = {'Addresses': addresses, 'Types': types, 'Area': area, 'RoomCount': number_of_rooms, 'Avgift': avgift, 'SoldDate': sold_date,\n",
    "     'Links': links, 'Prices': prices}\n",
    "df = pd.DataFrame(data=d)\n",
    "df.head()"
   ]
  },
  {
   "cell_type": "code",
   "execution_count": null,
   "metadata": {},
   "outputs": [],
   "source": [
    "# Merge into one CSV file\n",
    "\n",
    "df.to_csv('hemnet50.csv', index=False)"
   ]
  }
 ],
 "metadata": {
  "kernelspec": {
   "display_name": "Python 3",
   "language": "python",
   "name": "python3"
  },
  "language_info": {
   "codemirror_mode": {
    "name": "ipython",
    "version": 3
   },
   "file_extension": ".py",
   "mimetype": "text/x-python",
   "name": "python",
   "nbconvert_exporter": "python",
   "pygments_lexer": "ipython3",
   "version": "3.8.5"
  }
 },
 "nbformat": 4,
 "nbformat_minor": 4
}
