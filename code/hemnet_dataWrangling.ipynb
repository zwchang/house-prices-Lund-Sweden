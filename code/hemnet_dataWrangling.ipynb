{
 "cells": [
  {
   "cell_type": "markdown",
   "metadata": {},
   "source": [
    "# Data Wrangling"
   ]
  },
  {
   "cell_type": "markdown",
   "metadata": {},
   "source": [
    "Here we perform data wrangling in preparation for the following apartment price analysis and model prediction."
   ]
  },
  {
   "cell_type": "code",
   "execution_count": 1,
   "metadata": {},
   "outputs": [],
   "source": [
    "import pandas as pd"
   ]
  },
  {
   "cell_type": "markdown",
   "metadata": {},
   "source": [
    "## 1. First-layer info"
   ]
  },
  {
   "cell_type": "code",
   "execution_count": 128,
   "metadata": {},
   "outputs": [
    {
     "data": {
      "text/html": [
       "<div>\n",
       "<style scoped>\n",
       "    .dataframe tbody tr th:only-of-type {\n",
       "        vertical-align: middle;\n",
       "    }\n",
       "\n",
       "    .dataframe tbody tr th {\n",
       "        vertical-align: top;\n",
       "    }\n",
       "\n",
       "    .dataframe thead th {\n",
       "        text-align: right;\n",
       "    }\n",
       "</style>\n",
       "<table border=\"1\" class=\"dataframe\">\n",
       "  <thead>\n",
       "    <tr style=\"text-align: right;\">\n",
       "      <th></th>\n",
       "      <th>Addresses</th>\n",
       "      <th>Area</th>\n",
       "      <th>RoomCount</th>\n",
       "      <th>Avgift</th>\n",
       "      <th>SoldDate</th>\n",
       "      <th>Prices</th>\n",
       "    </tr>\n",
       "  </thead>\n",
       "  <tbody>\n",
       "    <tr>\n",
       "      <th>0</th>\n",
       "      <td>Flormansgatan 2A</td>\n",
       "      <td>43</td>\n",
       "      <td>1.5</td>\n",
       "      <td>2767.0</td>\n",
       "      <td>30 september 2021</td>\n",
       "      <td>2370</td>\n",
       "    </tr>\n",
       "    <tr>\n",
       "      <th>1</th>\n",
       "      <td>Kastanjegatan 19F</td>\n",
       "      <td>34</td>\n",
       "      <td>2.0</td>\n",
       "      <td>2415.0</td>\n",
       "      <td>30 september 2021</td>\n",
       "      <td>1745</td>\n",
       "    </tr>\n",
       "    <tr>\n",
       "      <th>2</th>\n",
       "      <td>Karl XI gatan 47</td>\n",
       "      <td>87,4</td>\n",
       "      <td>3.0</td>\n",
       "      <td>5787.0</td>\n",
       "      <td>30 september 2021</td>\n",
       "      <td>4700</td>\n",
       "    </tr>\n",
       "    <tr>\n",
       "      <th>4</th>\n",
       "      <td>Margaretavägen 3K</td>\n",
       "      <td>78</td>\n",
       "      <td>3.0</td>\n",
       "      <td>4584.0</td>\n",
       "      <td>30 september 2021</td>\n",
       "      <td>2750</td>\n",
       "    </tr>\n",
       "    <tr>\n",
       "      <th>5</th>\n",
       "      <td>Qvantenborgsvägen 4B</td>\n",
       "      <td>59</td>\n",
       "      <td>2.0</td>\n",
       "      <td>3125.0</td>\n",
       "      <td>29 september 2021</td>\n",
       "      <td>2250</td>\n",
       "    </tr>\n",
       "  </tbody>\n",
       "</table>\n",
       "</div>"
      ],
      "text/plain": [
       "              Addresses  Area  RoomCount  Avgift           SoldDate  Prices\n",
       "0      Flormansgatan 2A    43        1.5  2767.0  30 september 2021    2370\n",
       "1     Kastanjegatan 19F    34        2.0  2415.0  30 september 2021    1745\n",
       "2      Karl XI gatan 47  87,4        3.0  5787.0  30 september 2021    4700\n",
       "4     Margaretavägen 3K    78        3.0  4584.0  30 september 2021    2750\n",
       "5  Qvantenborgsvägen 4B    59        2.0  3125.0  29 september 2021    2250"
      ]
     },
     "execution_count": 128,
     "metadata": {},
     "output_type": "execute_result"
    }
   ],
   "source": [
    "df = pd.read_csv('hemnet.csv')\n",
    "df = df[df['Types'] == 'Lägenhet']\n",
    "df = df.drop(columns=['Types', 'Links',])\n",
    "df.columns = ['Addresses', 'Area', 'RoomCount', 'Avgift', 'SoldDate', 'Prices']\n",
    "df.head()"
   ]
  },
  {
   "cell_type": "code",
   "execution_count": 129,
   "metadata": {},
   "outputs": [
    {
     "name": "stdout",
     "output_type": "stream",
     "text": [
      "<class 'pandas.core.frame.DataFrame'>\n",
      "Int64Index: 1972 entries, 0 to 2498\n",
      "Data columns (total 6 columns):\n",
      " #   Column     Non-Null Count  Dtype  \n",
      "---  ------     --------------  -----  \n",
      " 0   Addresses  1972 non-null   object \n",
      " 1   Area       1972 non-null   object \n",
      " 2   RoomCount  1972 non-null   float64\n",
      " 3   Avgift     1972 non-null   float64\n",
      " 4   SoldDate   1972 non-null   object \n",
      " 5   Prices     1972 non-null   int64  \n",
      "dtypes: float64(2), int64(1), object(3)\n",
      "memory usage: 107.8+ KB\n"
     ]
    }
   ],
   "source": [
    "df.info()"
   ]
  },
  {
   "cell_type": "markdown",
   "metadata": {},
   "source": [
    "No missing values."
   ]
  },
  {
   "cell_type": "markdown",
   "metadata": {},
   "source": [
    "### 1.1 Area"
   ]
  },
  {
   "cell_type": "code",
   "execution_count": 130,
   "metadata": {},
   "outputs": [
    {
     "data": {
      "text/plain": [
       "69       60 + 20\n",
       "91       44 + 20\n",
       "154    48,4 + 20\n",
       "485    75,5 + 21\n",
       "958      89 + 50\n",
       "Name: Area, dtype: object"
      ]
     },
     "execution_count": 130,
     "metadata": {},
     "output_type": "execute_result"
    }
   ],
   "source": [
    "# We first clean the values contain '+' sign by removing the number after it. \n",
    "# By comparing the sold price and price/m², seems these numbers are not counted. \n",
    "\n",
    "irregular_values = df[df['Area'].str.contains('+', regex=False)]['Area']\n",
    "irregular_values.head()"
   ]
  },
  {
   "cell_type": "code",
   "execution_count": 131,
   "metadata": {},
   "outputs": [
    {
     "data": {
      "text/plain": [
       "69       60 \n",
       "91       44 \n",
       "154    48,4 \n",
       "485    75,5 \n",
       "958      89 \n",
       "Name: Area, dtype: object"
      ]
     },
     "execution_count": 131,
     "metadata": {},
     "output_type": "execute_result"
    }
   ],
   "source": [
    "# Remove '+' sign\n",
    "\n",
    "values = irregular_values.str.split('+').str[0]\n",
    "values.head()"
   ]
  },
  {
   "cell_type": "code",
   "execution_count": 132,
   "metadata": {},
   "outputs": [
    {
     "data": {
      "text/html": [
       "<div>\n",
       "<style scoped>\n",
       "    .dataframe tbody tr th:only-of-type {\n",
       "        vertical-align: middle;\n",
       "    }\n",
       "\n",
       "    .dataframe tbody tr th {\n",
       "        vertical-align: top;\n",
       "    }\n",
       "\n",
       "    .dataframe thead th {\n",
       "        text-align: right;\n",
       "    }\n",
       "</style>\n",
       "<table border=\"1\" class=\"dataframe\">\n",
       "  <thead>\n",
       "    <tr style=\"text-align: right;\">\n",
       "      <th></th>\n",
       "      <th>Addresses</th>\n",
       "      <th>Area</th>\n",
       "      <th>RoomCount</th>\n",
       "      <th>Avgift</th>\n",
       "      <th>SoldDate</th>\n",
       "      <th>Prices</th>\n",
       "    </tr>\n",
       "  </thead>\n",
       "  <tbody>\n",
       "    <tr>\n",
       "      <th>0</th>\n",
       "      <td>Flormansgatan 2A</td>\n",
       "      <td>43</td>\n",
       "      <td>1.5</td>\n",
       "      <td>2767.0</td>\n",
       "      <td>30 september 2021</td>\n",
       "      <td>2370</td>\n",
       "    </tr>\n",
       "    <tr>\n",
       "      <th>1</th>\n",
       "      <td>Kastanjegatan 19F</td>\n",
       "      <td>34</td>\n",
       "      <td>2.0</td>\n",
       "      <td>2415.0</td>\n",
       "      <td>30 september 2021</td>\n",
       "      <td>1745</td>\n",
       "    </tr>\n",
       "    <tr>\n",
       "      <th>2</th>\n",
       "      <td>Karl XI gatan 47</td>\n",
       "      <td>87.4</td>\n",
       "      <td>3.0</td>\n",
       "      <td>5787.0</td>\n",
       "      <td>30 september 2021</td>\n",
       "      <td>4700</td>\n",
       "    </tr>\n",
       "    <tr>\n",
       "      <th>4</th>\n",
       "      <td>Margaretavägen 3K</td>\n",
       "      <td>78</td>\n",
       "      <td>3.0</td>\n",
       "      <td>4584.0</td>\n",
       "      <td>30 september 2021</td>\n",
       "      <td>2750</td>\n",
       "    </tr>\n",
       "    <tr>\n",
       "      <th>5</th>\n",
       "      <td>Qvantenborgsvägen 4B</td>\n",
       "      <td>59</td>\n",
       "      <td>2.0</td>\n",
       "      <td>3125.0</td>\n",
       "      <td>29 september 2021</td>\n",
       "      <td>2250</td>\n",
       "    </tr>\n",
       "  </tbody>\n",
       "</table>\n",
       "</div>"
      ],
      "text/plain": [
       "              Addresses  Area  RoomCount  Avgift           SoldDate  Prices\n",
       "0      Flormansgatan 2A    43        1.5  2767.0  30 september 2021    2370\n",
       "1     Kastanjegatan 19F    34        2.0  2415.0  30 september 2021    1745\n",
       "2      Karl XI gatan 47  87.4        3.0  5787.0  30 september 2021    4700\n",
       "4     Margaretavägen 3K    78        3.0  4584.0  30 september 2021    2750\n",
       "5  Qvantenborgsvägen 4B    59        2.0  3125.0  29 september 2021    2250"
      ]
     },
     "execution_count": 132,
     "metadata": {},
     "output_type": "execute_result"
    }
   ],
   "source": [
    "# Replace those irregular values with the correct ones\n",
    "irregular_index = df[df['Area'].str.contains('+', regex=False)].index.values\n",
    "\n",
    "for ind in irregular_index:\n",
    "    df['Area'] = df['Area'].replace(df['Area'][ind], values[ind])\n",
    "\n",
    "# We also replace comma with period\n",
    "df['Area'] = df['Area'].str.replace(',','.')\n",
    "\n",
    "df.head()"
   ]
  },
  {
   "cell_type": "markdown",
   "metadata": {},
   "source": [
    "### 1.2 Dates"
   ]
  },
  {
   "cell_type": "code",
   "execution_count": 133,
   "metadata": {},
   "outputs": [
    {
     "data": {
      "text/plain": [
       "0    30/09/2021\n",
       "1    30/09/2021\n",
       "2    30/09/2021\n",
       "4    30/09/2021\n",
       "5    29/09/2021\n",
       "Name: SoldDate, dtype: object"
      ]
     },
     "execution_count": 133,
     "metadata": {},
     "output_type": "execute_result"
    }
   ],
   "source": [
    "# Change the format of sold dates\n",
    "\n",
    "Dates = df['SoldDate']\n",
    "Dates=Dates.str.replace(' januari ','/01/').str.replace(' februari ','/02/').str.replace(' mars ','/03/').str.replace(' april ','/04/').str.replace(' maj ','/05/').str.replace(' juni ','/06/').str.replace(' juli ','/07/').str.replace(' augusti ','/08/').str.replace(' september ','/09/').str.replace(' oktober ','/10/').str.replace(' november ','/11/').str.replace(' december ','/12/')\n",
    "Dates.head()"
   ]
  },
  {
   "cell_type": "code",
   "execution_count": 134,
   "metadata": {},
   "outputs": [
    {
     "data": {
      "text/html": [
       "<div>\n",
       "<style scoped>\n",
       "    .dataframe tbody tr th:only-of-type {\n",
       "        vertical-align: middle;\n",
       "    }\n",
       "\n",
       "    .dataframe tbody tr th {\n",
       "        vertical-align: top;\n",
       "    }\n",
       "\n",
       "    .dataframe thead th {\n",
       "        text-align: right;\n",
       "    }\n",
       "</style>\n",
       "<table border=\"1\" class=\"dataframe\">\n",
       "  <thead>\n",
       "    <tr style=\"text-align: right;\">\n",
       "      <th></th>\n",
       "      <th>Addresses</th>\n",
       "      <th>Area</th>\n",
       "      <th>RoomCount</th>\n",
       "      <th>Avgift</th>\n",
       "      <th>SoldDate</th>\n",
       "      <th>Prices</th>\n",
       "    </tr>\n",
       "  </thead>\n",
       "  <tbody>\n",
       "    <tr>\n",
       "      <th>0</th>\n",
       "      <td>Flormansgatan 2A</td>\n",
       "      <td>43</td>\n",
       "      <td>1.5</td>\n",
       "      <td>2767.0</td>\n",
       "      <td>2021-09-30</td>\n",
       "      <td>2370</td>\n",
       "    </tr>\n",
       "    <tr>\n",
       "      <th>1</th>\n",
       "      <td>Kastanjegatan 19F</td>\n",
       "      <td>34</td>\n",
       "      <td>2.0</td>\n",
       "      <td>2415.0</td>\n",
       "      <td>2021-09-30</td>\n",
       "      <td>1745</td>\n",
       "    </tr>\n",
       "    <tr>\n",
       "      <th>2</th>\n",
       "      <td>Karl XI gatan 47</td>\n",
       "      <td>87.4</td>\n",
       "      <td>3.0</td>\n",
       "      <td>5787.0</td>\n",
       "      <td>2021-09-30</td>\n",
       "      <td>4700</td>\n",
       "    </tr>\n",
       "    <tr>\n",
       "      <th>4</th>\n",
       "      <td>Margaretavägen 3K</td>\n",
       "      <td>78</td>\n",
       "      <td>3.0</td>\n",
       "      <td>4584.0</td>\n",
       "      <td>2021-09-30</td>\n",
       "      <td>2750</td>\n",
       "    </tr>\n",
       "    <tr>\n",
       "      <th>5</th>\n",
       "      <td>Qvantenborgsvägen 4B</td>\n",
       "      <td>59</td>\n",
       "      <td>2.0</td>\n",
       "      <td>3125.0</td>\n",
       "      <td>2021-09-29</td>\n",
       "      <td>2250</td>\n",
       "    </tr>\n",
       "  </tbody>\n",
       "</table>\n",
       "</div>"
      ],
      "text/plain": [
       "              Addresses  Area  RoomCount  Avgift   SoldDate  Prices\n",
       "0      Flormansgatan 2A    43        1.5  2767.0 2021-09-30    2370\n",
       "1     Kastanjegatan 19F    34        2.0  2415.0 2021-09-30    1745\n",
       "2      Karl XI gatan 47  87.4        3.0  5787.0 2021-09-30    4700\n",
       "4     Margaretavägen 3K    78        3.0  4584.0 2021-09-30    2750\n",
       "5  Qvantenborgsvägen 4B    59        2.0  3125.0 2021-09-29    2250"
      ]
     },
     "execution_count": 134,
     "metadata": {},
     "output_type": "execute_result"
    }
   ],
   "source": [
    "Dates = pd.to_datetime(Dates)\n",
    "df['SoldDate'] = Dates.values\n",
    "df.head()"
   ]
  },
  {
   "cell_type": "markdown",
   "metadata": {},
   "source": [
    "### 1.3 Re-order"
   ]
  },
  {
   "cell_type": "markdown",
   "metadata": {},
   "source": [
    "Reorder the rows as the increasing sold prices"
   ]
  },
  {
   "cell_type": "code",
   "execution_count": 135,
   "metadata": {},
   "outputs": [
    {
     "data": {
      "text/html": [
       "<div>\n",
       "<style scoped>\n",
       "    .dataframe tbody tr th:only-of-type {\n",
       "        vertical-align: middle;\n",
       "    }\n",
       "\n",
       "    .dataframe tbody tr th {\n",
       "        vertical-align: top;\n",
       "    }\n",
       "\n",
       "    .dataframe thead th {\n",
       "        text-align: right;\n",
       "    }\n",
       "</style>\n",
       "<table border=\"1\" class=\"dataframe\">\n",
       "  <thead>\n",
       "    <tr style=\"text-align: right;\">\n",
       "      <th></th>\n",
       "      <th>Addresses</th>\n",
       "      <th>Area</th>\n",
       "      <th>RoomCount</th>\n",
       "      <th>Avgift</th>\n",
       "      <th>SoldDate</th>\n",
       "      <th>Prices</th>\n",
       "    </tr>\n",
       "  </thead>\n",
       "  <tbody>\n",
       "    <tr>\n",
       "      <th>565</th>\n",
       "      <td>Veberödsvägen 22C</td>\n",
       "      <td>23</td>\n",
       "      <td>1.0</td>\n",
       "      <td>1287.0</td>\n",
       "      <td>2021-04-09</td>\n",
       "      <td>750</td>\n",
       "    </tr>\n",
       "    <tr>\n",
       "      <th>319</th>\n",
       "      <td>Idalavägen 47 f</td>\n",
       "      <td>50</td>\n",
       "      <td>2.0</td>\n",
       "      <td>4011.0</td>\n",
       "      <td>2020-10-21</td>\n",
       "      <td>795</td>\n",
       "    </tr>\n",
       "    <tr>\n",
       "      <th>2007</th>\n",
       "      <td>Allégatan 3F</td>\n",
       "      <td>23.5</td>\n",
       "      <td>1.0</td>\n",
       "      <td>1836.0</td>\n",
       "      <td>2020-11-15</td>\n",
       "      <td>800</td>\n",
       "    </tr>\n",
       "    <tr>\n",
       "      <th>259</th>\n",
       "      <td>Horstgatan 4H</td>\n",
       "      <td>31</td>\n",
       "      <td>1.0</td>\n",
       "      <td>1770.0</td>\n",
       "      <td>2020-10-29</td>\n",
       "      <td>810</td>\n",
       "    </tr>\n",
       "    <tr>\n",
       "      <th>2411</th>\n",
       "      <td>Allégatan 3F</td>\n",
       "      <td>23.5</td>\n",
       "      <td>1.0</td>\n",
       "      <td>1786.0</td>\n",
       "      <td>2021-03-01</td>\n",
       "      <td>810</td>\n",
       "    </tr>\n",
       "  </tbody>\n",
       "</table>\n",
       "</div>"
      ],
      "text/plain": [
       "              Addresses  Area  RoomCount  Avgift   SoldDate  Prices\n",
       "565   Veberödsvägen 22C    23        1.0  1287.0 2021-04-09     750\n",
       "319     Idalavägen 47 f    50        2.0  4011.0 2020-10-21     795\n",
       "2007       Allégatan 3F  23.5        1.0  1836.0 2020-11-15     800\n",
       "259       Horstgatan 4H    31        1.0  1770.0 2020-10-29     810\n",
       "2411       Allégatan 3F  23.5        1.0  1786.0 2021-03-01     810"
      ]
     },
     "execution_count": 135,
     "metadata": {},
     "output_type": "execute_result"
    }
   ],
   "source": [
    "df = df.sort_values(['Prices'], ascending=1)\n",
    "df.head()"
   ]
  },
  {
   "cell_type": "markdown",
   "metadata": {},
   "source": [
    "## 2. Second-layer info (info contained in the individual links)"
   ]
  },
  {
   "cell_type": "code",
   "execution_count": 52,
   "metadata": {},
   "outputs": [
    {
     "data": {
      "text/html": [
       "<div>\n",
       "<style scoped>\n",
       "    .dataframe tbody tr th:only-of-type {\n",
       "        vertical-align: middle;\n",
       "    }\n",
       "\n",
       "    .dataframe tbody tr th {\n",
       "        vertical-align: top;\n",
       "    }\n",
       "\n",
       "    .dataframe thead th {\n",
       "        text-align: right;\n",
       "    }\n",
       "</style>\n",
       "<table border=\"1\" class=\"dataframe\">\n",
       "  <thead>\n",
       "    <tr style=\"text-align: right;\">\n",
       "      <th></th>\n",
       "      <th>0</th>\n",
       "      <th>1</th>\n",
       "      <th>2</th>\n",
       "      <th>3</th>\n",
       "      <th>4</th>\n",
       "      <th>5</th>\n",
       "      <th>6</th>\n",
       "      <th>7</th>\n",
       "      <th>8</th>\n",
       "      <th>9</th>\n",
       "      <th>...</th>\n",
       "      <th>1962</th>\n",
       "      <th>1963</th>\n",
       "      <th>1964</th>\n",
       "      <th>1965</th>\n",
       "      <th>1966</th>\n",
       "      <th>1967</th>\n",
       "      <th>1968</th>\n",
       "      <th>1969</th>\n",
       "      <th>1970</th>\n",
       "      <th>1971</th>\n",
       "    </tr>\n",
       "  </thead>\n",
       "  <tbody>\n",
       "    <tr>\n",
       "      <th>0</th>\n",
       "      <td>32609kr/m²</td>\n",
       "      <td>15900kr/m²</td>\n",
       "      <td>34043kr/m²</td>\n",
       "      <td>26129kr/m²</td>\n",
       "      <td>34468kr/m²</td>\n",
       "      <td>19318kr/m²</td>\n",
       "      <td>19000kr/m²</td>\n",
       "      <td>31847kr/m²</td>\n",
       "      <td>16667kr/m²</td>\n",
       "      <td>28514kr/m²</td>\n",
       "      <td>...</td>\n",
       "      <td>63194kr/m²</td>\n",
       "      <td>44498kr/m²</td>\n",
       "      <td>44498kr/m²</td>\n",
       "      <td>64901kr/m²</td>\n",
       "      <td>40204kr/m²</td>\n",
       "      <td>63368kr/m²</td>\n",
       "      <td>63905kr/m²</td>\n",
       "      <td>69410kr/m²</td>\n",
       "      <td>69410kr/m²</td>\n",
       "      <td>85124kr/m²</td>\n",
       "    </tr>\n",
       "    <tr>\n",
       "      <th>1</th>\n",
       "      <td>695000kr</td>\n",
       "      <td>795000kr</td>\n",
       "      <td>725000kr</td>\n",
       "      <td>795000kr</td>\n",
       "      <td>750000kr</td>\n",
       "      <td>850000kr</td>\n",
       "      <td>975000kr</td>\n",
       "      <td>950000kr</td>\n",
       "      <td>1050000kr</td>\n",
       "      <td>895000kr</td>\n",
       "      <td>...</td>\n",
       "      <td>7995000kr</td>\n",
       "      <td>9300000kr</td>\n",
       "      <td>9300000kr</td>\n",
       "      <td>6995000kr</td>\n",
       "      <td>8500000kr</td>\n",
       "      <td>9500000kr</td>\n",
       "      <td>9500000kr</td>\n",
       "      <td>10000000kr</td>\n",
       "      <td>10000000kr</td>\n",
       "      <td>11600000kr</td>\n",
       "    </tr>\n",
       "    <tr>\n",
       "      <th>2</th>\n",
       "      <td>+55000 kr (+8%)</td>\n",
       "      <td>NaN</td>\n",
       "      <td>+75000 kr (+10%)</td>\n",
       "      <td>+15000 kr (+2%)</td>\n",
       "      <td>+60000 kr (+8%)</td>\n",
       "      <td>NaN</td>\n",
       "      <td>-25000 kr (-3%)</td>\n",
       "      <td>+50000 kr (+5%)</td>\n",
       "      <td>NaN</td>\n",
       "      <td>+160000 kr (+18%)</td>\n",
       "      <td>...</td>\n",
       "      <td>+1,11milj. kr (+14%)</td>\n",
       "      <td>NaN</td>\n",
       "      <td>NaN</td>\n",
       "      <td>+2,81milj. kr (+40%)</td>\n",
       "      <td>+1,35milj. kr (+16%)</td>\n",
       "      <td>+1milj. kr (+11%)</td>\n",
       "      <td>+1,3milj. kr (+14%)</td>\n",
       "      <td>+1,05milj. kr (+11%)</td>\n",
       "      <td>+1,05milj. kr (+11%)</td>\n",
       "      <td>+62000 kr (+1%)</td>\n",
       "    </tr>\n",
       "    <tr>\n",
       "      <th>3</th>\n",
       "      <td>Lägenhet</td>\n",
       "      <td>Lägenhet</td>\n",
       "      <td>Lägenhet</td>\n",
       "      <td>Lägenhet</td>\n",
       "      <td>Lägenhet</td>\n",
       "      <td>Lägenhet</td>\n",
       "      <td>Lägenhet</td>\n",
       "      <td>Lägenhet</td>\n",
       "      <td>Lägenhet</td>\n",
       "      <td>Lägenhet</td>\n",
       "      <td>...</td>\n",
       "      <td>Lägenhet</td>\n",
       "      <td>Lägenhet</td>\n",
       "      <td>Lägenhet</td>\n",
       "      <td>Lägenhet</td>\n",
       "      <td>Lägenhet</td>\n",
       "      <td>Lägenhet</td>\n",
       "      <td>Lägenhet</td>\n",
       "      <td>Lägenhet</td>\n",
       "      <td>Lägenhet</td>\n",
       "      <td>Lägenhet</td>\n",
       "    </tr>\n",
       "    <tr>\n",
       "      <th>4</th>\n",
       "      <td>Bostadsrätt</td>\n",
       "      <td>Bostadsrätt</td>\n",
       "      <td>Bostadsrätt</td>\n",
       "      <td>Bostadsrätt</td>\n",
       "      <td>Bostadsrätt</td>\n",
       "      <td>Bostadsrätt</td>\n",
       "      <td>Bostadsrätt</td>\n",
       "      <td>Bostadsrätt</td>\n",
       "      <td>Bostadsrätt</td>\n",
       "      <td>Bostadsrätt</td>\n",
       "      <td>...</td>\n",
       "      <td>Bostadsrätt</td>\n",
       "      <td>Bostadsrätt</td>\n",
       "      <td>Bostadsrätt</td>\n",
       "      <td>Andel i bostadsförening</td>\n",
       "      <td>Bostadsrätt</td>\n",
       "      <td>Bostadsrätt</td>\n",
       "      <td>Bostadsrätt</td>\n",
       "      <td>Bostadsrätt</td>\n",
       "      <td>Bostadsrätt</td>\n",
       "      <td>Bostadsrätt</td>\n",
       "    </tr>\n",
       "  </tbody>\n",
       "</table>\n",
       "<p>5 rows × 1972 columns</p>\n",
       "</div>"
      ],
      "text/plain": [
       "                 0            1                 2                3  \\\n",
       "0       32609kr/m²   15900kr/m²        34043kr/m²       26129kr/m²   \n",
       "1         695000kr     795000kr          725000kr         795000kr   \n",
       "2  +55000 kr (+8%)          NaN  +75000 kr (+10%)  +15000 kr (+2%)   \n",
       "3         Lägenhet     Lägenhet          Lägenhet         Lägenhet   \n",
       "4      Bostadsrätt  Bostadsrätt       Bostadsrätt      Bostadsrätt   \n",
       "\n",
       "                 4            5                6                7  \\\n",
       "0       34468kr/m²   19318kr/m²       19000kr/m²       31847kr/m²   \n",
       "1         750000kr     850000kr         975000kr         950000kr   \n",
       "2  +60000 kr (+8%)          NaN  -25000 kr (-3%)  +50000 kr (+5%)   \n",
       "3         Lägenhet     Lägenhet         Lägenhet         Lägenhet   \n",
       "4      Bostadsrätt  Bostadsrätt      Bostadsrätt      Bostadsrätt   \n",
       "\n",
       "             8                  9  ...                  1962         1963  \\\n",
       "0   16667kr/m²         28514kr/m²  ...            63194kr/m²   44498kr/m²   \n",
       "1    1050000kr           895000kr  ...             7995000kr    9300000kr   \n",
       "2          NaN  +160000 kr (+18%)  ...  +1,11milj. kr (+14%)          NaN   \n",
       "3     Lägenhet           Lägenhet  ...              Lägenhet     Lägenhet   \n",
       "4  Bostadsrätt        Bostadsrätt  ...           Bostadsrätt  Bostadsrätt   \n",
       "\n",
       "          1964                     1965                  1966  \\\n",
       "0   44498kr/m²               64901kr/m²            40204kr/m²   \n",
       "1    9300000kr                6995000kr             8500000kr   \n",
       "2          NaN     +2,81milj. kr (+40%)  +1,35milj. kr (+16%)   \n",
       "3     Lägenhet                 Lägenhet              Lägenhet   \n",
       "4  Bostadsrätt  Andel i bostadsförening           Bostadsrätt   \n",
       "\n",
       "                1967                 1968                  1969  \\\n",
       "0         63368kr/m²           63905kr/m²            69410kr/m²   \n",
       "1          9500000kr            9500000kr            10000000kr   \n",
       "2  +1milj. kr (+11%)  +1,3milj. kr (+14%)  +1,05milj. kr (+11%)   \n",
       "3           Lägenhet             Lägenhet              Lägenhet   \n",
       "4        Bostadsrätt          Bostadsrätt           Bostadsrätt   \n",
       "\n",
       "                   1970             1971  \n",
       "0            69410kr/m²       85124kr/m²  \n",
       "1            10000000kr       11600000kr  \n",
       "2  +1,05milj. kr (+11%)  +62000 kr (+1%)  \n",
       "3              Lägenhet         Lägenhet  \n",
       "4           Bostadsrätt      Bostadsrätt  \n",
       "\n",
       "[5 rows x 1972 columns]"
      ]
     },
     "execution_count": 52,
     "metadata": {},
     "output_type": "execute_result"
    }
   ],
   "source": [
    "snd_data = pd.read_csv('unprocessed_sndlayer_info.csv')\n",
    "snd_data.head()"
   ]
  },
  {
   "cell_type": "markdown",
   "metadata": {},
   "source": [
    "### 2.1 Asking price"
   ]
  },
  {
   "cell_type": "code",
   "execution_count": 143,
   "metadata": {},
   "outputs": [
    {
     "data": {
      "text/plain": [
       "0    695.0\n",
       "1    795.0\n",
       "2    725.0\n",
       "3    795.0\n",
       "4    750.0\n",
       "Name: 1, dtype: float64"
      ]
     },
     "execution_count": 143,
     "metadata": {},
     "output_type": "execute_result"
    }
   ],
   "source": [
    "asking_price = snd_data.iloc[1].str.replace('kr', '')\n",
    "asking_price = asking_price.astype(float)/1000\n",
    "asking_price.head()"
   ]
  },
  {
   "cell_type": "markdown",
   "metadata": {},
   "source": [
    "### 2.2 Build year"
   ]
  },
  {
   "cell_type": "code",
   "execution_count": 144,
   "metadata": {},
   "outputs": [
    {
     "data": {
      "text/plain": [
       "[1956, 2004, 1957, 2018, 1957, 1953]"
      ]
     },
     "execution_count": 144,
     "metadata": {},
     "output_type": "execute_result"
    }
   ],
   "source": [
    "build_year = [None for _ in range(1972)]\n",
    "\n",
    "for i in range(1972):\n",
    "    snd_data_col = snd_data[str(i)]\n",
    "    for element in snd_data_col:\n",
    "        # here we need to check if the element is string because we set asking_price data type\n",
    "        # to be float which does not have length. \n",
    "        if type(element)==str and len(element) == 4:\n",
    "            build_year[i] = int(element)\n",
    "            \n",
    "build_year[:6]"
   ]
  },
  {
   "cell_type": "markdown",
   "metadata": {},
   "source": [
    "### 2.3 If there's balcony and/or patio"
   ]
  },
  {
   "cell_type": "code",
   "execution_count": 145,
   "metadata": {},
   "outputs": [
    {
     "name": "stdout",
     "output_type": "stream",
     "text": [
      "# of apartment provide neither patio nor balcony info:  242\n",
      "# of apartment provide both patio and balcony info:  210\n",
      "# of apartment only balcony info:  1520\n"
     ]
    }
   ],
   "source": [
    "is_balcony_count = [None for _ in range(1972)]\n",
    "for i in range(1972):\n",
    "    snd_data_col = snd_data[str(i)]\n",
    "    Nej_count = list(snd_data_col).count('Nej')\n",
    "    Ja_count = list(snd_data_col).count('Ja')\n",
    "    is_balcony_count[i] = Nej_count + Ja_count\n",
    "\n",
    "print('# of apartment provide neither patio nor balcony info: ', is_balcony_count.count(0))\n",
    "print('# of apartment provide both patio and balcony info: ', is_balcony_count.count(2))\n",
    "print('# of apartment only balcony info: ', is_balcony_count.count(1))"
   ]
  },
  {
   "cell_type": "code",
   "execution_count": 146,
   "metadata": {},
   "outputs": [],
   "source": [
    "balcony_index = [i for i, e in enumerate(is_balcony_count) if e == 1]\n",
    "balcony_patio_index = [i for i, e in enumerate(is_balcony_count) if e == 2]"
   ]
  },
  {
   "cell_type": "code",
   "execution_count": 147,
   "metadata": {},
   "outputs": [
    {
     "name": "stdout",
     "output_type": "stream",
     "text": [
      "['Nej', None, None, None, None, None, 'Ja', 'Nej', None, None]\n",
      "[None, None, None, None, None, 'Ja', None, None, None, None]\n"
     ]
    }
   ],
   "source": [
    "is_balcony = [None for _ in range(1972)]\n",
    "is_patio = [None for _ in range(1972)]\n",
    "\n",
    "# For the links which only provide balcony info, there is either 'Ja' or 'Nej'\n",
    "\n",
    "for ind in balcony_index:\n",
    "    snd_data_col = snd_data[str(ind)]\n",
    "    for element in snd_data_col:\n",
    "        if element == 'Ja' or element == 'Nej':\n",
    "            is_balcony[ind] = element\n",
    "\n",
    "for ind in balcony_patio_index:\n",
    "    snd_data_col = snd_data[str(ind)]\n",
    "    is_balcony[ind] = snd_data_col[7]\n",
    "    is_patio[ind] = snd_data_col[8]\n",
    "\n",
    "print(is_balcony[0:10])\n",
    "print(is_patio[5:15])"
   ]
  },
  {
   "cell_type": "markdown",
   "metadata": {},
   "source": [
    "### 2.4 Floor number/total floor/elevator"
   ]
  },
  {
   "cell_type": "code",
   "execution_count": 63,
   "metadata": {},
   "outputs": [
    {
     "name": "stdout",
     "output_type": "stream",
     "text": [
      "['1 av 3, hiss finns ej', '2 av 2, hiss finns ej', '2 av 2, hiss finns ej', '2 av 2', '1 av 2, hiss finns ej']\n",
      "['No', 'No', 'No', None, 'No']\n",
      "['1', '2', '2', '2', '1']\n",
      "['3', '2', '2', '2', '2']\n"
     ]
    }
   ],
   "source": [
    "floor_elevator = [None for _ in range(1972)]\n",
    "floor_number = [None for _ in range(1972)]\n",
    "total_floor = [None for _ in range(1972)]\n",
    "is_elevator = [None for _ in range(1972)]\n",
    "\n",
    "for i in range(1972):\n",
    "    snd_data_col = snd_data[str(i)]\n",
    "    for element in snd_data_col:\n",
    "        if type(element)==str and element.count('av') == 1:\n",
    "            floor_elevator[i] = element\n",
    "\n",
    "for i in range(1972):\n",
    "    if floor_elevator[i]:\n",
    "        element = floor_elevator[i].split(', ')\n",
    "        \n",
    "        if len(element) == 2:\n",
    "            is_elevator[i] = element[1]\n",
    "            floor_info = element[0].split('av')\n",
    "            floor_number[i] = floor_info[0].strip()\n",
    "            total_floor[i] = floor_info[1].strip()\n",
    "        elif len(element) == 1:\n",
    "            floor_info = element[0].split('av')\n",
    "            floor_number[i] = floor_info[0].strip()\n",
    "            total_floor[i] = floor_info[1].strip()\n",
    "\n",
    "is_elevator = list(pd.Series(is_elevator).replace('hiss finns ej','No').replace('hiss finns','Yes'))\n",
    "\n",
    "print(floor_elevator[:5])\n",
    "print(is_elevator[:5])\n",
    "print(floor_number[:5])\n",
    "print(total_floor[:5])\n"
   ]
  },
  {
   "cell_type": "markdown",
   "metadata": {},
   "source": [
    "### 2.5 Agents/Firm"
   ]
  },
  {
   "cell_type": "code",
   "execution_count": 148,
   "metadata": {},
   "outputs": [
    {
     "data": {
      "text/html": [
       "<div>\n",
       "<style scoped>\n",
       "    .dataframe tbody tr th:only-of-type {\n",
       "        vertical-align: middle;\n",
       "    }\n",
       "\n",
       "    .dataframe tbody tr th {\n",
       "        vertical-align: top;\n",
       "    }\n",
       "\n",
       "    .dataframe thead th {\n",
       "        text-align: right;\n",
       "    }\n",
       "</style>\n",
       "<table border=\"1\" class=\"dataframe\">\n",
       "  <thead>\n",
       "    <tr style=\"text-align: right;\">\n",
       "      <th></th>\n",
       "      <th>Agents</th>\n",
       "      <th>Agencies</th>\n",
       "    </tr>\n",
       "  </thead>\n",
       "  <tbody>\n",
       "    <tr>\n",
       "      <th>0</th>\n",
       "      <td>Karin Ekström</td>\n",
       "      <td>Erik Olsson Fastighetsförmedling</td>\n",
       "    </tr>\n",
       "    <tr>\n",
       "      <th>1</th>\n",
       "      <td>Rickard Saltin</td>\n",
       "      <td>Fastighetsbyrån Lund</td>\n",
       "    </tr>\n",
       "    <tr>\n",
       "      <th>2</th>\n",
       "      <td>NaN</td>\n",
       "      <td>Fastighetsbyrån Lund</td>\n",
       "    </tr>\n",
       "    <tr>\n",
       "      <th>3</th>\n",
       "      <td>NaN</td>\n",
       "      <td>Svensk Fastighetsförmedling Lund</td>\n",
       "    </tr>\n",
       "    <tr>\n",
       "      <th>4</th>\n",
       "      <td>NaN</td>\n",
       "      <td>Fastighetsbyrån Lund</td>\n",
       "    </tr>\n",
       "  </tbody>\n",
       "</table>\n",
       "</div>"
      ],
      "text/plain": [
       "           Agents                          Agencies\n",
       "0   Karin Ekström  Erik Olsson Fastighetsförmedling\n",
       "1  Rickard Saltin              Fastighetsbyrån Lund\n",
       "2             NaN              Fastighetsbyrån Lund\n",
       "3             NaN  Svensk Fastighetsförmedling Lund\n",
       "4             NaN              Fastighetsbyrån Lund"
      ]
     },
     "execution_count": 148,
     "metadata": {},
     "output_type": "execute_result"
    }
   ],
   "source": [
    "agent_data = pd.read_csv('agent.csv')\n",
    "agent_data.head()"
   ]
  },
  {
   "cell_type": "markdown",
   "metadata": {},
   "source": [
    "## Merge into one CSV file"
   ]
  },
  {
   "cell_type": "code",
   "execution_count": 151,
   "metadata": {},
   "outputs": [
    {
     "data": {
      "text/html": [
       "<div>\n",
       "<style scoped>\n",
       "    .dataframe tbody tr th:only-of-type {\n",
       "        vertical-align: middle;\n",
       "    }\n",
       "\n",
       "    .dataframe tbody tr th {\n",
       "        vertical-align: top;\n",
       "    }\n",
       "\n",
       "    .dataframe thead th {\n",
       "        text-align: right;\n",
       "    }\n",
       "</style>\n",
       "<table border=\"1\" class=\"dataframe\">\n",
       "  <thead>\n",
       "    <tr style=\"text-align: right;\">\n",
       "      <th></th>\n",
       "      <th>index</th>\n",
       "      <th>Addresses</th>\n",
       "      <th>Area</th>\n",
       "      <th>RoomCount</th>\n",
       "      <th>Avgift</th>\n",
       "      <th>SoldDate</th>\n",
       "      <th>Prices</th>\n",
       "      <th>Broker</th>\n",
       "      <th>Firm</th>\n",
       "      <th>Asking</th>\n",
       "      <th>Balcony</th>\n",
       "      <th>Patio</th>\n",
       "      <th>BuildYear</th>\n",
       "      <th>FloorNumber</th>\n",
       "      <th>TotalFloor</th>\n",
       "      <th>Elevator</th>\n",
       "    </tr>\n",
       "  </thead>\n",
       "  <tbody>\n",
       "    <tr>\n",
       "      <th>0</th>\n",
       "      <td>565</td>\n",
       "      <td>Veberödsvägen 22C</td>\n",
       "      <td>23</td>\n",
       "      <td>1.0</td>\n",
       "      <td>1287.0</td>\n",
       "      <td>2021-04-09</td>\n",
       "      <td>750</td>\n",
       "      <td>Karin Ekström</td>\n",
       "      <td>Erik Olsson Fastighetsförmedling</td>\n",
       "      <td>695.0</td>\n",
       "      <td>Nej</td>\n",
       "      <td>None</td>\n",
       "      <td>1956.0</td>\n",
       "      <td>1</td>\n",
       "      <td>3</td>\n",
       "      <td>No</td>\n",
       "    </tr>\n",
       "    <tr>\n",
       "      <th>1</th>\n",
       "      <td>319</td>\n",
       "      <td>Idalavägen 47 f</td>\n",
       "      <td>50</td>\n",
       "      <td>2.0</td>\n",
       "      <td>4011.0</td>\n",
       "      <td>2020-10-21</td>\n",
       "      <td>795</td>\n",
       "      <td>Rickard Saltin</td>\n",
       "      <td>Fastighetsbyrån Lund</td>\n",
       "      <td>795.0</td>\n",
       "      <td>None</td>\n",
       "      <td>None</td>\n",
       "      <td>2004.0</td>\n",
       "      <td>2</td>\n",
       "      <td>2</td>\n",
       "      <td>No</td>\n",
       "    </tr>\n",
       "    <tr>\n",
       "      <th>2</th>\n",
       "      <td>2007</td>\n",
       "      <td>Allégatan 3F</td>\n",
       "      <td>23.5</td>\n",
       "      <td>1.0</td>\n",
       "      <td>1836.0</td>\n",
       "      <td>2020-11-15</td>\n",
       "      <td>800</td>\n",
       "      <td>NaN</td>\n",
       "      <td>Fastighetsbyrån Lund</td>\n",
       "      <td>725.0</td>\n",
       "      <td>None</td>\n",
       "      <td>None</td>\n",
       "      <td>1957.0</td>\n",
       "      <td>2</td>\n",
       "      <td>2</td>\n",
       "      <td>No</td>\n",
       "    </tr>\n",
       "    <tr>\n",
       "      <th>3</th>\n",
       "      <td>259</td>\n",
       "      <td>Horstgatan 4H</td>\n",
       "      <td>31</td>\n",
       "      <td>1.0</td>\n",
       "      <td>1770.0</td>\n",
       "      <td>2020-10-29</td>\n",
       "      <td>810</td>\n",
       "      <td>NaN</td>\n",
       "      <td>Svensk Fastighetsförmedling Lund</td>\n",
       "      <td>795.0</td>\n",
       "      <td>None</td>\n",
       "      <td>None</td>\n",
       "      <td>2018.0</td>\n",
       "      <td>2</td>\n",
       "      <td>2</td>\n",
       "      <td>None</td>\n",
       "    </tr>\n",
       "    <tr>\n",
       "      <th>4</th>\n",
       "      <td>2411</td>\n",
       "      <td>Allégatan 3F</td>\n",
       "      <td>23.5</td>\n",
       "      <td>1.0</td>\n",
       "      <td>1786.0</td>\n",
       "      <td>2021-03-01</td>\n",
       "      <td>810</td>\n",
       "      <td>NaN</td>\n",
       "      <td>Fastighetsbyrån Lund</td>\n",
       "      <td>750.0</td>\n",
       "      <td>None</td>\n",
       "      <td>None</td>\n",
       "      <td>1957.0</td>\n",
       "      <td>1</td>\n",
       "      <td>2</td>\n",
       "      <td>No</td>\n",
       "    </tr>\n",
       "  </tbody>\n",
       "</table>\n",
       "</div>"
      ],
      "text/plain": [
       "   index          Addresses  Area  RoomCount  Avgift   SoldDate  Prices  \\\n",
       "0    565  Veberödsvägen 22C    23        1.0  1287.0 2021-04-09     750   \n",
       "1    319    Idalavägen 47 f    50        2.0  4011.0 2020-10-21     795   \n",
       "2   2007       Allégatan 3F  23.5        1.0  1836.0 2020-11-15     800   \n",
       "3    259      Horstgatan 4H    31        1.0  1770.0 2020-10-29     810   \n",
       "4   2411       Allégatan 3F  23.5        1.0  1786.0 2021-03-01     810   \n",
       "\n",
       "           Broker                              Firm  Asking Balcony Patio  \\\n",
       "0   Karin Ekström  Erik Olsson Fastighetsförmedling   695.0     Nej  None   \n",
       "1  Rickard Saltin              Fastighetsbyrån Lund   795.0    None  None   \n",
       "2             NaN              Fastighetsbyrån Lund   725.0    None  None   \n",
       "3             NaN  Svensk Fastighetsförmedling Lund   795.0    None  None   \n",
       "4             NaN              Fastighetsbyrån Lund   750.0    None  None   \n",
       "\n",
       "   BuildYear FloorNumber TotalFloor Elevator  \n",
       "0     1956.0           1          3       No  \n",
       "1     2004.0           2          2       No  \n",
       "2     1957.0           2          2       No  \n",
       "3     2018.0           2          2     None  \n",
       "4     1957.0           1          2       No  "
      ]
     },
     "execution_count": 151,
     "metadata": {},
     "output_type": "execute_result"
    }
   ],
   "source": [
    "df_final = pd.concat([df.reset_index(), agent_data], axis=1)\n",
    "df_final = df_final.assign(**{'Asking': asking_price.values, 'Balcony': is_balcony, 'Patio': is_patio,'BuildYear': build_year, 'FloorNumber': floor_number, 'TotalFloor': total_floor, 'Elevator': is_elevator})\n",
    "df_final.rename(columns = {'Agents':'Broker', 'Agencies':'Firm'}, inplace = True)\n",
    "df_final.head()\n"
   ]
  },
  {
   "cell_type": "code",
   "execution_count": 152,
   "metadata": {},
   "outputs": [
    {
     "name": "stdout",
     "output_type": "stream",
     "text": [
      "<class 'pandas.core.frame.DataFrame'>\n",
      "RangeIndex: 1972 entries, 0 to 1971\n",
      "Data columns (total 16 columns):\n",
      " #   Column       Non-Null Count  Dtype         \n",
      "---  ------       --------------  -----         \n",
      " 0   index        1972 non-null   int64         \n",
      " 1   Addresses    1972 non-null   object        \n",
      " 2   Area         1972 non-null   object        \n",
      " 3   RoomCount    1972 non-null   float64       \n",
      " 4   Avgift       1972 non-null   float64       \n",
      " 5   SoldDate     1972 non-null   datetime64[ns]\n",
      " 6   Prices       1972 non-null   int64         \n",
      " 7   Broker       1907 non-null   object        \n",
      " 8   Firm         1972 non-null   object        \n",
      " 9   Asking       1970 non-null   float64       \n",
      " 10  Balcony      1730 non-null   object        \n",
      " 11  Patio        210 non-null    object        \n",
      " 12  BuildYear    1676 non-null   float64       \n",
      " 13  FloorNumber  1751 non-null   object        \n",
      " 14  TotalFloor   1751 non-null   object        \n",
      " 15  Elevator     1667 non-null   object        \n",
      "dtypes: datetime64[ns](1), float64(4), int64(2), object(9)\n",
      "memory usage: 246.6+ KB\n"
     ]
    }
   ],
   "source": [
    "df_final.info()"
   ]
  },
  {
   "cell_type": "code",
   "execution_count": 153,
   "metadata": {},
   "outputs": [],
   "source": [
    "df_final.to_csv('apartment.csv')"
   ]
  },
  {
   "cell_type": "code",
   "execution_count": null,
   "metadata": {},
   "outputs": [],
   "source": []
  }
 ],
 "metadata": {
  "interpreter": {
   "hash": "4dd7b61bd20a2dd8a216762199d895c877245e26d7972026d58786b4b9c39df0"
  },
  "kernelspec": {
   "display_name": "Python 3.8.5 ('base')",
   "language": "python",
   "name": "python3"
  },
  "language_info": {
   "codemirror_mode": {
    "name": "ipython",
    "version": 3
   },
   "file_extension": ".py",
   "mimetype": "text/x-python",
   "name": "python",
   "nbconvert_exporter": "python",
   "pygments_lexer": "ipython3",
   "version": "3.8.5"
  },
  "orig_nbformat": 4
 },
 "nbformat": 4,
 "nbformat_minor": 2
}
